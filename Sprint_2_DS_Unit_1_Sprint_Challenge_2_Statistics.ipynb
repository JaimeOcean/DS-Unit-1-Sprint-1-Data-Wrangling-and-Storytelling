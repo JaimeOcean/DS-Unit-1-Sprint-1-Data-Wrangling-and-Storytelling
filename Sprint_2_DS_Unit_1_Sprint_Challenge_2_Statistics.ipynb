{
  "nbformat": 4,
  "nbformat_minor": 0,
  "metadata": {
    "colab": {
      "name": "Sprint 2 DS_Unit_1_Sprint_Challenge_2_Statistics.ipynb",
      "provenance": [],
      "collapsed_sections": [],
      "include_colab_link": true
    },
    "kernelspec": {
      "name": "python3",
      "display_name": "Python 3"
    }
  },
  "cells": [
    {
      "cell_type": "markdown",
      "metadata": {
        "id": "view-in-github",
        "colab_type": "text"
      },
      "source": [
        "<a href=\"https://colab.research.google.com/github/JaimeOcean/DS-Unit-1-Sprint-1-Data-Wrangling-and-Storytelling/blob/master/Sprint_2_DS_Unit_1_Sprint_Challenge_2_Statistics.ipynb\" target=\"_parent\"><img src=\"https://colab.research.google.com/assets/colab-badge.svg\" alt=\"Open In Colab\"/></a>"
      ]
    },
    {
      "cell_type": "markdown",
      "metadata": {
        "id": "NooAiTdnafkz",
        "colab_type": "text"
      },
      "source": [
        "# Data Science Unit 1 Sprint Challenge 2\n",
        "\n",
        "## Exploring Data, Testing Hypotheses\n",
        "\n",
        "In this sprint challenge you will look at a dataset of Echocardiograms\n",
        "\n",
        "<https://archive.ics.uci.edu/ml/datasets/Echocardiogram>\n",
        "\n",
        "Attribute Information:\n",
        "\n",
        "1. survival -- the number of months patient survived (has survived, if patient is still alive). Because all the patients had their heart attacks at different times, it is possible that some patients have survived less than one year but they are still alive. Check the second variable to confirm this. Such patients cannot be used for the prediction task mentioned above.\n",
        "2. still-alive -- a binary variable. 0=dead at end of survival period, 1 means still alive\n",
        "3. age-at-heart-attack -- age in years when heart attack occurred\n",
        "4. pericardial-effusion -- binary. Pericardial effusion is fluid around the heart. 0=no fluid, 1=fluid\n",
        "5. fractional-shortening -- a measure of contracility around the heart lower numbers are increasingly abnormal\n",
        "6. epss -- E-point septal separation, another measure of contractility. Larger numbers are increasingly abnormal.\n",
        "7. lvdd -- left ventricular end-diastolic dimension. This is a measure of the size of the heart at end-diastole. Large hearts tend to be sick hearts.\n",
        "8. wall-motion-score -- a measure of how the segments of the left ventricle are moving\n",
        "9. wall-motion-index -- equals wall-motion-score divided by number of segments seen. Usually 12-13 segments are seen in an echocardiogram. Use this variable INSTEAD of the wall motion score.\n",
        "10. mult -- a derivate var which can be ignored\n",
        "11. name -- the name of the patient (I have replaced them with \"name\")\n",
        "12. group -- meaningless, ignore it\n",
        "13. alive-at-1 -- Boolean-valued. Derived from the first two attributes. 0 means patient was either dead after 1 year or had been followed for less than 1 year. 1 means patient was alive at 1 year.\n",
        "\n",
        "Sprint challenges are evaluated based on satisfactory completion of each part. It is suggested you work through it in order, getting each aspect reasonably working, before trying to deeply explore, iterate, or refine any given step. Once you get to the end, if you want to go back and improve things, go for it!"
      ]
    },
    {
      "cell_type": "markdown",
      "metadata": {
        "id": "5wch6ksCbJtZ",
        "colab_type": "text"
      },
      "source": [
        "## Part 1 - Load and validate the data\n",
        "\n",
        "- Load the data as a `pandas` data frame.\n",
        "- Validate that it has the appropriate number of observations (you can check the raw file, and also read the dataset description from UCI).\n",
        "- UCI says there should be missing data - check, and if necessary change the data so pandas recognizes it as na\n",
        "- Make sure that the loaded features are of the types described above (continuous values should be treated as float), and correct as necessary\n",
        "\n",
        "This is review, but skills that you'll use at the start of any data exploration. Further, you may have to do some investigation to figure out which file to load from - that is part of the puzzle."
      ]
    },
    {
      "cell_type": "code",
      "metadata": {
        "id": "PvfaUAhFwg_M",
        "colab_type": "code",
        "colab": {}
      },
      "source": [
        "import pandas as pd\n",
        "import numpy as np\n",
        "import matplotlib.pyplot as plt "
      ],
      "execution_count": 12,
      "outputs": []
    },
    {
      "cell_type": "code",
      "metadata": {
        "id": "J4lhvjSQwiUY",
        "colab_type": "code",
        "colab": {
          "base_uri": "https://localhost:8080/",
          "height": 256
        },
        "outputId": "0e6f54a0-a299-4e6d-fb19-9dc9206a1c83"
      },
      "source": [
        "!pip install --upgrade seaborn\n",
        "import seaborn as sns\n",
        "\n",
        "sns.__version__"
      ],
      "execution_count": 13,
      "outputs": [
        {
          "output_type": "stream",
          "text": [
            "Requirement already up-to-date: seaborn in /usr/local/lib/python3.6/dist-packages (0.10.1)\n",
            "Requirement already satisfied, skipping upgrade: numpy>=1.13.3 in /usr/local/lib/python3.6/dist-packages (from seaborn) (1.18.5)\n",
            "Requirement already satisfied, skipping upgrade: pandas>=0.22.0 in /usr/local/lib/python3.6/dist-packages (from seaborn) (1.0.5)\n",
            "Requirement already satisfied, skipping upgrade: matplotlib>=2.1.2 in /usr/local/lib/python3.6/dist-packages (from seaborn) (3.2.2)\n",
            "Requirement already satisfied, skipping upgrade: scipy>=1.0.1 in /usr/local/lib/python3.6/dist-packages (from seaborn) (1.4.1)\n",
            "Requirement already satisfied, skipping upgrade: python-dateutil>=2.6.1 in /usr/local/lib/python3.6/dist-packages (from pandas>=0.22.0->seaborn) (2.8.1)\n",
            "Requirement already satisfied, skipping upgrade: pytz>=2017.2 in /usr/local/lib/python3.6/dist-packages (from pandas>=0.22.0->seaborn) (2018.9)\n",
            "Requirement already satisfied, skipping upgrade: pyparsing!=2.0.4,!=2.1.2,!=2.1.6,>=2.0.1 in /usr/local/lib/python3.6/dist-packages (from matplotlib>=2.1.2->seaborn) (2.4.7)\n",
            "Requirement already satisfied, skipping upgrade: kiwisolver>=1.0.1 in /usr/local/lib/python3.6/dist-packages (from matplotlib>=2.1.2->seaborn) (1.2.0)\n",
            "Requirement already satisfied, skipping upgrade: cycler>=0.10 in /usr/local/lib/python3.6/dist-packages (from matplotlib>=2.1.2->seaborn) (0.10.0)\n",
            "Requirement already satisfied, skipping upgrade: six>=1.5 in /usr/local/lib/python3.6/dist-packages (from python-dateutil>=2.6.1->pandas>=0.22.0->seaborn) (1.15.0)\n"
          ],
          "name": "stdout"
        },
        {
          "output_type": "stream",
          "text": [
            "/usr/local/lib/python3.6/dist-packages/statsmodels/tools/_testing.py:19: FutureWarning: pandas.util.testing is deprecated. Use the functions in the public API at pandas.testing instead.\n",
            "  import pandas.util.testing as tm\n"
          ],
          "name": "stderr"
        },
        {
          "output_type": "execute_result",
          "data": {
            "application/vnd.google.colaboratory.intrinsic+json": {
              "type": "string"
            },
            "text/plain": [
              "'0.10.1'"
            ]
          },
          "metadata": {
            "tags": []
          },
          "execution_count": 13
        }
      ]
    },
    {
      "cell_type": "code",
      "metadata": {
        "id": "KpvLlXRowoHO",
        "colab_type": "code",
        "colab": {}
      },
      "source": [
        "dataurl = \"https://archive.ics.uci.edu/ml/machine-learning-databases/echocardiogram/echocardiogram.data\""
      ],
      "execution_count": 15,
      "outputs": []
    },
    {
      "cell_type": "code",
      "metadata": {
        "id": "bk80T1vww8WO",
        "colab_type": "code",
        "colab": {
          "base_uri": "https://localhost:8080/",
          "height": 297
        },
        "outputId": "97eff2a0-6586-4550-feb4-15643b297678"
      },
      "source": [
        "columnnames = ['A'+str(i) for i in range (1, 13)]\n",
        "\n",
        "df = pd.read_csv(dataurl, header=None, names=columnnames, na_values= '?')\n",
        "\n",
        "df.isnull().sum()\n",
        "df.describe()"
      ],
      "execution_count": 28,
      "outputs": [
        {
          "output_type": "execute_result",
          "data": {
            "text/html": [
              "<div>\n",
              "<style scoped>\n",
              "    .dataframe tbody tr th:only-of-type {\n",
              "        vertical-align: middle;\n",
              "    }\n",
              "\n",
              "    .dataframe tbody tr th {\n",
              "        vertical-align: top;\n",
              "    }\n",
              "\n",
              "    .dataframe thead th {\n",
              "        text-align: right;\n",
              "    }\n",
              "</style>\n",
              "<table border=\"1\" class=\"dataframe\">\n",
              "  <thead>\n",
              "    <tr style=\"text-align: right;\">\n",
              "      <th></th>\n",
              "      <th>A1</th>\n",
              "      <th>A2</th>\n",
              "      <th>A3</th>\n",
              "      <th>A4</th>\n",
              "      <th>A5</th>\n",
              "      <th>A6</th>\n",
              "      <th>A7</th>\n",
              "      <th>A8</th>\n",
              "      <th>A9</th>\n",
              "      <th>A12</th>\n",
              "    </tr>\n",
              "  </thead>\n",
              "  <tbody>\n",
              "    <tr>\n",
              "      <th>count</th>\n",
              "      <td>131.000000</td>\n",
              "      <td>126.000000</td>\n",
              "      <td>132.000000</td>\n",
              "      <td>124.000000</td>\n",
              "      <td>117.000000</td>\n",
              "      <td>121.000000</td>\n",
              "      <td>128.000000</td>\n",
              "      <td>130.00000</td>\n",
              "      <td>129.000000</td>\n",
              "      <td>75.000000</td>\n",
              "    </tr>\n",
              "    <tr>\n",
              "      <th>mean</th>\n",
              "      <td>0.328244</td>\n",
              "      <td>62.813722</td>\n",
              "      <td>0.765152</td>\n",
              "      <td>0.216734</td>\n",
              "      <td>12.164769</td>\n",
              "      <td>4.763157</td>\n",
              "      <td>14.438125</td>\n",
              "      <td>1.37800</td>\n",
              "      <td>0.786202</td>\n",
              "      <td>0.346667</td>\n",
              "    </tr>\n",
              "    <tr>\n",
              "      <th>std</th>\n",
              "      <td>0.471377</td>\n",
              "      <td>8.342110</td>\n",
              "      <td>6.697225</td>\n",
              "      <td>0.107513</td>\n",
              "      <td>7.370159</td>\n",
              "      <td>0.810013</td>\n",
              "      <td>5.018566</td>\n",
              "      <td>0.45185</td>\n",
              "      <td>0.225661</td>\n",
              "      <td>0.506534</td>\n",
              "    </tr>\n",
              "    <tr>\n",
              "      <th>min</th>\n",
              "      <td>0.000000</td>\n",
              "      <td>35.000000</td>\n",
              "      <td>0.000000</td>\n",
              "      <td>0.010000</td>\n",
              "      <td>0.000000</td>\n",
              "      <td>2.320000</td>\n",
              "      <td>2.000000</td>\n",
              "      <td>1.00000</td>\n",
              "      <td>0.140000</td>\n",
              "      <td>0.000000</td>\n",
              "    </tr>\n",
              "    <tr>\n",
              "      <th>25%</th>\n",
              "      <td>0.000000</td>\n",
              "      <td>57.000000</td>\n",
              "      <td>0.000000</td>\n",
              "      <td>0.150000</td>\n",
              "      <td>7.000000</td>\n",
              "      <td>4.230000</td>\n",
              "      <td>11.000000</td>\n",
              "      <td>1.00000</td>\n",
              "      <td>0.714000</td>\n",
              "      <td>0.000000</td>\n",
              "    </tr>\n",
              "    <tr>\n",
              "      <th>50%</th>\n",
              "      <td>0.000000</td>\n",
              "      <td>62.000000</td>\n",
              "      <td>0.000000</td>\n",
              "      <td>0.205000</td>\n",
              "      <td>11.000000</td>\n",
              "      <td>4.650000</td>\n",
              "      <td>14.000000</td>\n",
              "      <td>1.21600</td>\n",
              "      <td>0.786000</td>\n",
              "      <td>0.000000</td>\n",
              "    </tr>\n",
              "    <tr>\n",
              "      <th>75%</th>\n",
              "      <td>1.000000</td>\n",
              "      <td>67.750000</td>\n",
              "      <td>0.000000</td>\n",
              "      <td>0.270000</td>\n",
              "      <td>16.100000</td>\n",
              "      <td>5.300000</td>\n",
              "      <td>16.500000</td>\n",
              "      <td>1.50750</td>\n",
              "      <td>0.857000</td>\n",
              "      <td>1.000000</td>\n",
              "    </tr>\n",
              "    <tr>\n",
              "      <th>max</th>\n",
              "      <td>1.000000</td>\n",
              "      <td>86.000000</td>\n",
              "      <td>77.000000</td>\n",
              "      <td>0.610000</td>\n",
              "      <td>40.000000</td>\n",
              "      <td>6.780000</td>\n",
              "      <td>39.000000</td>\n",
              "      <td>3.00000</td>\n",
              "      <td>2.000000</td>\n",
              "      <td>2.000000</td>\n",
              "    </tr>\n",
              "  </tbody>\n",
              "</table>\n",
              "</div>"
            ],
            "text/plain": [
              "               A1          A2          A3  ...         A8          A9        A12\n",
              "count  131.000000  126.000000  132.000000  ...  130.00000  129.000000  75.000000\n",
              "mean     0.328244   62.813722    0.765152  ...    1.37800    0.786202   0.346667\n",
              "std      0.471377    8.342110    6.697225  ...    0.45185    0.225661   0.506534\n",
              "min      0.000000   35.000000    0.000000  ...    1.00000    0.140000   0.000000\n",
              "25%      0.000000   57.000000    0.000000  ...    1.00000    0.714000   0.000000\n",
              "50%      0.000000   62.000000    0.000000  ...    1.21600    0.786000   0.000000\n",
              "75%      1.000000   67.750000    0.000000  ...    1.50750    0.857000   1.000000\n",
              "max      1.000000   86.000000   77.000000  ...    3.00000    2.000000   2.000000\n",
              "\n",
              "[8 rows x 10 columns]"
            ]
          },
          "metadata": {
            "tags": []
          },
          "execution_count": 28
        }
      ]
    },
    {
      "cell_type": "code",
      "metadata": {
        "id": "5_mvHltI0ucZ",
        "colab_type": "code",
        "colab": {
          "base_uri": "https://localhost:8080/",
          "height": 204
        },
        "outputId": "a05c5021-f1c0-4edd-9c7d-064627b87d15"
      },
      "source": [
        "df.head()"
      ],
      "execution_count": 32,
      "outputs": [
        {
          "output_type": "execute_result",
          "data": {
            "text/html": [
              "<div>\n",
              "<style scoped>\n",
              "    .dataframe tbody tr th:only-of-type {\n",
              "        vertical-align: middle;\n",
              "    }\n",
              "\n",
              "    .dataframe tbody tr th {\n",
              "        vertical-align: top;\n",
              "    }\n",
              "\n",
              "    .dataframe thead th {\n",
              "        text-align: right;\n",
              "    }\n",
              "</style>\n",
              "<table border=\"1\" class=\"dataframe\">\n",
              "  <thead>\n",
              "    <tr style=\"text-align: right;\">\n",
              "      <th></th>\n",
              "      <th>A1</th>\n",
              "      <th>A2</th>\n",
              "      <th>A3</th>\n",
              "      <th>A4</th>\n",
              "      <th>A5</th>\n",
              "      <th>A6</th>\n",
              "      <th>A7</th>\n",
              "      <th>A8</th>\n",
              "      <th>A9</th>\n",
              "      <th>A10</th>\n",
              "      <th>A11</th>\n",
              "      <th>A12</th>\n",
              "    </tr>\n",
              "  </thead>\n",
              "  <tbody>\n",
              "    <tr>\n",
              "      <th>11.0</th>\n",
              "      <td>0.0</td>\n",
              "      <td>71.0</td>\n",
              "      <td>0</td>\n",
              "      <td>0.260</td>\n",
              "      <td>9.000</td>\n",
              "      <td>4.600</td>\n",
              "      <td>14.0</td>\n",
              "      <td>1.00</td>\n",
              "      <td>1.000</td>\n",
              "      <td>name</td>\n",
              "      <td>1</td>\n",
              "      <td>0.0</td>\n",
              "    </tr>\n",
              "    <tr>\n",
              "      <th>19.0</th>\n",
              "      <td>0.0</td>\n",
              "      <td>72.0</td>\n",
              "      <td>0</td>\n",
              "      <td>0.380</td>\n",
              "      <td>6.000</td>\n",
              "      <td>4.100</td>\n",
              "      <td>14.0</td>\n",
              "      <td>1.70</td>\n",
              "      <td>0.588</td>\n",
              "      <td>name</td>\n",
              "      <td>1</td>\n",
              "      <td>0.0</td>\n",
              "    </tr>\n",
              "    <tr>\n",
              "      <th>16.0</th>\n",
              "      <td>0.0</td>\n",
              "      <td>55.0</td>\n",
              "      <td>0</td>\n",
              "      <td>0.260</td>\n",
              "      <td>4.000</td>\n",
              "      <td>3.420</td>\n",
              "      <td>14.0</td>\n",
              "      <td>1.00</td>\n",
              "      <td>1.000</td>\n",
              "      <td>name</td>\n",
              "      <td>1</td>\n",
              "      <td>0.0</td>\n",
              "    </tr>\n",
              "    <tr>\n",
              "      <th>57.0</th>\n",
              "      <td>0.0</td>\n",
              "      <td>60.0</td>\n",
              "      <td>0</td>\n",
              "      <td>0.253</td>\n",
              "      <td>12.062</td>\n",
              "      <td>4.603</td>\n",
              "      <td>16.0</td>\n",
              "      <td>1.45</td>\n",
              "      <td>0.788</td>\n",
              "      <td>name</td>\n",
              "      <td>1</td>\n",
              "      <td>0.0</td>\n",
              "    </tr>\n",
              "    <tr>\n",
              "      <th>19.0</th>\n",
              "      <td>1.0</td>\n",
              "      <td>57.0</td>\n",
              "      <td>0</td>\n",
              "      <td>0.160</td>\n",
              "      <td>22.000</td>\n",
              "      <td>5.750</td>\n",
              "      <td>18.0</td>\n",
              "      <td>2.25</td>\n",
              "      <td>0.571</td>\n",
              "      <td>name</td>\n",
              "      <td>1</td>\n",
              "      <td>0.0</td>\n",
              "    </tr>\n",
              "  </tbody>\n",
              "</table>\n",
              "</div>"
            ],
            "text/plain": [
              "       A1    A2  A3     A4      A5     A6    A7    A8     A9   A10 A11  A12\n",
              "11.0  0.0  71.0   0  0.260   9.000  4.600  14.0  1.00  1.000  name   1  0.0\n",
              "19.0  0.0  72.0   0  0.380   6.000  4.100  14.0  1.70  0.588  name   1  0.0\n",
              "16.0  0.0  55.0   0  0.260   4.000  3.420  14.0  1.00  1.000  name   1  0.0\n",
              "57.0  0.0  60.0   0  0.253  12.062  4.603  16.0  1.45  0.788  name   1  0.0\n",
              "19.0  1.0  57.0   0  0.160  22.000  5.750  18.0  2.25  0.571  name   1  0.0"
            ]
          },
          "metadata": {
            "tags": []
          },
          "execution_count": 32
        }
      ]
    },
    {
      "cell_type": "code",
      "metadata": {
        "id": "_YbbmD900Br4",
        "colab_type": "code",
        "colab": {
          "base_uri": "https://localhost:8080/",
          "height": 34
        },
        "outputId": "62a2e503-fc7a-4b03-cef9-e85bd727c557"
      },
      "source": [
        "df.shape"
      ],
      "execution_count": 29,
      "outputs": [
        {
          "output_type": "execute_result",
          "data": {
            "text/plain": [
              "(132, 12)"
            ]
          },
          "metadata": {
            "tags": []
          },
          "execution_count": 29
        }
      ]
    },
    {
      "cell_type": "code",
      "metadata": {
        "id": "KbCxproHxYAw",
        "colab_type": "code",
        "colab": {
          "base_uri": "https://localhost:8080/",
          "height": 297
        },
        "outputId": "22a11f63-4d5f-47d7-ff8e-f8f0385b2744"
      },
      "source": [
        "values = {'A2': df.A2.mean(), 'A12': df.A12.mean()}\n",
        "df.fillna(value=values, inplace=True)\n",
        "\n",
        "df.describe()"
      ],
      "execution_count": 31,
      "outputs": [
        {
          "output_type": "execute_result",
          "data": {
            "text/html": [
              "<div>\n",
              "<style scoped>\n",
              "    .dataframe tbody tr th:only-of-type {\n",
              "        vertical-align: middle;\n",
              "    }\n",
              "\n",
              "    .dataframe tbody tr th {\n",
              "        vertical-align: top;\n",
              "    }\n",
              "\n",
              "    .dataframe thead th {\n",
              "        text-align: right;\n",
              "    }\n",
              "</style>\n",
              "<table border=\"1\" class=\"dataframe\">\n",
              "  <thead>\n",
              "    <tr style=\"text-align: right;\">\n",
              "      <th></th>\n",
              "      <th>A1</th>\n",
              "      <th>A2</th>\n",
              "      <th>A3</th>\n",
              "      <th>A4</th>\n",
              "      <th>A5</th>\n",
              "      <th>A6</th>\n",
              "      <th>A7</th>\n",
              "      <th>A8</th>\n",
              "      <th>A9</th>\n",
              "      <th>A12</th>\n",
              "    </tr>\n",
              "  </thead>\n",
              "  <tbody>\n",
              "    <tr>\n",
              "      <th>count</th>\n",
              "      <td>131.000000</td>\n",
              "      <td>132.000000</td>\n",
              "      <td>132.000000</td>\n",
              "      <td>124.000000</td>\n",
              "      <td>117.000000</td>\n",
              "      <td>121.000000</td>\n",
              "      <td>128.000000</td>\n",
              "      <td>130.00000</td>\n",
              "      <td>129.000000</td>\n",
              "      <td>132.000000</td>\n",
              "    </tr>\n",
              "    <tr>\n",
              "      <th>mean</th>\n",
              "      <td>0.328244</td>\n",
              "      <td>62.813722</td>\n",
              "      <td>0.765152</td>\n",
              "      <td>0.216734</td>\n",
              "      <td>12.164769</td>\n",
              "      <td>4.763157</td>\n",
              "      <td>14.438125</td>\n",
              "      <td>1.37800</td>\n",
              "      <td>0.786202</td>\n",
              "      <td>0.346667</td>\n",
              "    </tr>\n",
              "    <tr>\n",
              "      <th>std</th>\n",
              "      <td>0.471377</td>\n",
              "      <td>8.148830</td>\n",
              "      <td>6.697225</td>\n",
              "      <td>0.107513</td>\n",
              "      <td>7.370159</td>\n",
              "      <td>0.810013</td>\n",
              "      <td>5.018566</td>\n",
              "      <td>0.45185</td>\n",
              "      <td>0.225661</td>\n",
              "      <td>0.380705</td>\n",
              "    </tr>\n",
              "    <tr>\n",
              "      <th>min</th>\n",
              "      <td>0.000000</td>\n",
              "      <td>35.000000</td>\n",
              "      <td>0.000000</td>\n",
              "      <td>0.010000</td>\n",
              "      <td>0.000000</td>\n",
              "      <td>2.320000</td>\n",
              "      <td>2.000000</td>\n",
              "      <td>1.00000</td>\n",
              "      <td>0.140000</td>\n",
              "      <td>0.000000</td>\n",
              "    </tr>\n",
              "    <tr>\n",
              "      <th>25%</th>\n",
              "      <td>0.000000</td>\n",
              "      <td>57.750000</td>\n",
              "      <td>0.000000</td>\n",
              "      <td>0.150000</td>\n",
              "      <td>7.000000</td>\n",
              "      <td>4.230000</td>\n",
              "      <td>11.000000</td>\n",
              "      <td>1.00000</td>\n",
              "      <td>0.714000</td>\n",
              "      <td>0.000000</td>\n",
              "    </tr>\n",
              "    <tr>\n",
              "      <th>50%</th>\n",
              "      <td>0.000000</td>\n",
              "      <td>62.264500</td>\n",
              "      <td>0.000000</td>\n",
              "      <td>0.205000</td>\n",
              "      <td>11.000000</td>\n",
              "      <td>4.650000</td>\n",
              "      <td>14.000000</td>\n",
              "      <td>1.21600</td>\n",
              "      <td>0.786000</td>\n",
              "      <td>0.346667</td>\n",
              "    </tr>\n",
              "    <tr>\n",
              "      <th>75%</th>\n",
              "      <td>1.000000</td>\n",
              "      <td>67.000000</td>\n",
              "      <td>0.000000</td>\n",
              "      <td>0.270000</td>\n",
              "      <td>16.100000</td>\n",
              "      <td>5.300000</td>\n",
              "      <td>16.500000</td>\n",
              "      <td>1.50750</td>\n",
              "      <td>0.857000</td>\n",
              "      <td>0.346667</td>\n",
              "    </tr>\n",
              "    <tr>\n",
              "      <th>max</th>\n",
              "      <td>1.000000</td>\n",
              "      <td>86.000000</td>\n",
              "      <td>77.000000</td>\n",
              "      <td>0.610000</td>\n",
              "      <td>40.000000</td>\n",
              "      <td>6.780000</td>\n",
              "      <td>39.000000</td>\n",
              "      <td>3.00000</td>\n",
              "      <td>2.000000</td>\n",
              "      <td>2.000000</td>\n",
              "    </tr>\n",
              "  </tbody>\n",
              "</table>\n",
              "</div>"
            ],
            "text/plain": [
              "               A1          A2          A3  ...         A8          A9         A12\n",
              "count  131.000000  132.000000  132.000000  ...  130.00000  129.000000  132.000000\n",
              "mean     0.328244   62.813722    0.765152  ...    1.37800    0.786202    0.346667\n",
              "std      0.471377    8.148830    6.697225  ...    0.45185    0.225661    0.380705\n",
              "min      0.000000   35.000000    0.000000  ...    1.00000    0.140000    0.000000\n",
              "25%      0.000000   57.750000    0.000000  ...    1.00000    0.714000    0.000000\n",
              "50%      0.000000   62.264500    0.000000  ...    1.21600    0.786000    0.346667\n",
              "75%      1.000000   67.000000    0.000000  ...    1.50750    0.857000    0.346667\n",
              "max      1.000000   86.000000   77.000000  ...    3.00000    2.000000    2.000000\n",
              "\n",
              "[8 rows x 10 columns]"
            ]
          },
          "metadata": {
            "tags": []
          },
          "execution_count": 31
        }
      ]
    },
    {
      "cell_type": "code",
      "metadata": {
        "id": "0e6ieAfnxjLM",
        "colab_type": "code",
        "colab": {
          "base_uri": "https://localhost:8080/",
          "height": 173
        },
        "outputId": "a7923baf-2292-490b-8e29-ec28e0c8a871"
      },
      "source": [
        "df.describe(exclude=[np.number])"
      ],
      "execution_count": 18,
      "outputs": [
        {
          "output_type": "execute_result",
          "data": {
            "text/html": [
              "<div>\n",
              "<style scoped>\n",
              "    .dataframe tbody tr th:only-of-type {\n",
              "        vertical-align: middle;\n",
              "    }\n",
              "\n",
              "    .dataframe tbody tr th {\n",
              "        vertical-align: top;\n",
              "    }\n",
              "\n",
              "    .dataframe thead th {\n",
              "        text-align: right;\n",
              "    }\n",
              "</style>\n",
              "<table border=\"1\" class=\"dataframe\">\n",
              "  <thead>\n",
              "    <tr style=\"text-align: right;\">\n",
              "      <th></th>\n",
              "      <th>A11</th>\n",
              "      <th>A12</th>\n",
              "    </tr>\n",
              "  </thead>\n",
              "  <tbody>\n",
              "    <tr>\n",
              "      <th>count</th>\n",
              "      <td>131</td>\n",
              "      <td>110</td>\n",
              "    </tr>\n",
              "    <tr>\n",
              "      <th>unique</th>\n",
              "      <td>1</td>\n",
              "      <td>3</td>\n",
              "    </tr>\n",
              "    <tr>\n",
              "      <th>top</th>\n",
              "      <td>name</td>\n",
              "      <td>2</td>\n",
              "    </tr>\n",
              "    <tr>\n",
              "      <th>freq</th>\n",
              "      <td>131</td>\n",
              "      <td>85</td>\n",
              "    </tr>\n",
              "  </tbody>\n",
              "</table>\n",
              "</div>"
            ],
            "text/plain": [
              "         A11  A12\n",
              "count    131  110\n",
              "unique     1    3\n",
              "top     name    2\n",
              "freq     131   85"
            ]
          },
          "metadata": {
            "tags": []
          },
          "execution_count": 18
        }
      ]
    },
    {
      "cell_type": "code",
      "metadata": {
        "id": "YrKyThxqxpPA",
        "colab_type": "code",
        "colab": {
          "base_uri": "https://localhost:8080/",
          "height": 173
        },
        "outputId": "032400d1-4d4f-4dfd-ccc4-6405fb7e176e"
      },
      "source": [
        "df.fillna(method='ffill', inplace=True)\n",
        "\n",
        "df.describe(exclude=[np.number])"
      ],
      "execution_count": 19,
      "outputs": [
        {
          "output_type": "execute_result",
          "data": {
            "text/html": [
              "<div>\n",
              "<style scoped>\n",
              "    .dataframe tbody tr th:only-of-type {\n",
              "        vertical-align: middle;\n",
              "    }\n",
              "\n",
              "    .dataframe tbody tr th {\n",
              "        vertical-align: top;\n",
              "    }\n",
              "\n",
              "    .dataframe thead th {\n",
              "        text-align: right;\n",
              "    }\n",
              "</style>\n",
              "<table border=\"1\" class=\"dataframe\">\n",
              "  <thead>\n",
              "    <tr style=\"text-align: right;\">\n",
              "      <th></th>\n",
              "      <th>A11</th>\n",
              "      <th>A12</th>\n",
              "    </tr>\n",
              "  </thead>\n",
              "  <tbody>\n",
              "    <tr>\n",
              "      <th>count</th>\n",
              "      <td>132</td>\n",
              "      <td>132</td>\n",
              "    </tr>\n",
              "    <tr>\n",
              "      <th>unique</th>\n",
              "      <td>1</td>\n",
              "      <td>3</td>\n",
              "    </tr>\n",
              "    <tr>\n",
              "      <th>top</th>\n",
              "      <td>name</td>\n",
              "      <td>2</td>\n",
              "    </tr>\n",
              "    <tr>\n",
              "      <th>freq</th>\n",
              "      <td>132</td>\n",
              "      <td>107</td>\n",
              "    </tr>\n",
              "  </tbody>\n",
              "</table>\n",
              "</div>"
            ],
            "text/plain": [
              "         A11  A12\n",
              "count    132  132\n",
              "unique     1    3\n",
              "top     name    2\n",
              "freq     132  107"
            ]
          },
          "metadata": {
            "tags": []
          },
          "execution_count": 19
        }
      ]
    },
    {
      "cell_type": "code",
      "metadata": {
        "id": "36dTOFmcxvA6",
        "colab_type": "code",
        "colab": {
          "base_uri": "https://localhost:8080/",
          "height": 238
        },
        "outputId": "8701326c-e1f5-4eda-c22f-321e9dd534c4"
      },
      "source": [
        "df.isnull().sum()"
      ],
      "execution_count": 36,
      "outputs": [
        {
          "output_type": "execute_result",
          "data": {
            "text/plain": [
              "A1      1\n",
              "A2      0\n",
              "A3      0\n",
              "A4      8\n",
              "A5     15\n",
              "A6     11\n",
              "A7      4\n",
              "A8      2\n",
              "A9      3\n",
              "A10     1\n",
              "A11    22\n",
              "A12     0\n",
              "dtype: int64"
            ]
          },
          "metadata": {
            "tags": []
          },
          "execution_count": 36
        }
      ]
    },
    {
      "cell_type": "code",
      "metadata": {
        "id": "dVYIRUB6xzpJ",
        "colab_type": "code",
        "colab": {
          "base_uri": "https://localhost:8080/",
          "height": 238
        },
        "outputId": "ddbfa613-60f5-495e-eaec-460fd53bc091"
      },
      "source": [
        "df.dtypes"
      ],
      "execution_count": 37,
      "outputs": [
        {
          "output_type": "execute_result",
          "data": {
            "text/plain": [
              "A1     float64\n",
              "A2     float64\n",
              "A3       int64\n",
              "A4     float64\n",
              "A5     float64\n",
              "A6     float64\n",
              "A7     float64\n",
              "A8     float64\n",
              "A9     float64\n",
              "A10     object\n",
              "A11     object\n",
              "A12    float64\n",
              "dtype: object"
            ]
          },
          "metadata": {
            "tags": []
          },
          "execution_count": 37
        }
      ]
    },
    {
      "cell_type": "code",
      "metadata": {
        "id": "XY_pDqaSx3-P",
        "colab_type": "code",
        "colab": {}
      },
      "source": [
        ""
      ],
      "execution_count": null,
      "outputs": []
    },
    {
      "cell_type": "markdown",
      "metadata": {
        "id": "G7rLytbrO38L",
        "colab_type": "text"
      },
      "source": [
        "## Part 2 - Exploring data, Testing hypotheses\n",
        "\n",
        "The only thing we really know about this data is that Alive-at-1 is the class label. Besides that, we have continuous features and categorical features.\n",
        "\n",
        "Explore the data: you can use whatever approach (tables, utility functions, visualizations) to get an impression of the distributions and relationships of the variables. In general, your goal is to understand how the features are different when grouped by the two class labels (`1` and `0`).\n",
        "\n",
        "For the continuous features, how are they different when split between the two class labels? Choose two features to run t-tests (again split by class label) - specifically, select one feature that is *extremely* different between the classes, and another feature that is notably less different (though perhaps still \"statistically significantly\" different). You may have to explore more than two features to do this.\n",
        "\n",
        "For the categorical features, explore by creating \"cross tabs\" (aka [contingency tables](https://en.wikipedia.org/wiki/Contingency_table)) between them and the class label, and apply the Chi-squared test to them. [pandas.crosstab](http://pandas.pydata.org/pandas-docs/stable/reference/api/pandas.crosstab.html) can create contingency tables, and [scipy.stats.chi2_contingency](https://docs.scipy.org/doc/scipy/reference/generated/scipy.stats.chi2_contingency.html) can calculate the Chi-squared statistic for them.\n",
        "\n",
        "There are also categorical features - as with the t-test, try to find one where the Chi-squared test returns an extreme result (rejecting the null that the data are independent), and one where it is less extreme.\n",
        "\n",
        "**NOTE** - \"less extreme\" just means smaller test statistic/larger p-value. Even the least extreme differences may be strongly statistically significant.\n",
        "\n",
        "Your *main* goal is the hypothesis tests, so don't spend too much time on the exploration/visualization piece. That is just a means to an end - use simple visualizations, such as boxplots or a scatter matrix (both built in to pandas), to get a feel for the overall distribution of the variables.\n",
        "\n",
        "This is challenging, so manage your time and aim for a baseline of at least running two t-tests and two Chi-squared tests before polishing. And don't forget to answer the questions in part 3, even if your results in this part aren't what you want them to be."
      ]
    },
    {
      "cell_type": "code",
      "metadata": {
        "id": "_nqcgc0yzm68",
        "colab_type": "code",
        "colab": {
          "base_uri": "https://localhost:8080/",
          "height": 816
        },
        "outputId": "f85afc60-2d63-4e5e-d31d-33b503a76f07"
      },
      "source": [
        "dfgrouped = df.groupby('A12')\n",
        "\n",
        "# Column names with continous data\n",
        "continousdatacols = ['A1', 'A3', 'A4', 'A9', 'A12']\n",
        "\n",
        "for i in continousdatacols:\n",
        "  print(\"\\nColumn {}\\n\".format(i))\n",
        "  print(dfgrouped[i].describe())"
      ],
      "execution_count": 50,
      "outputs": [
        {
          "output_type": "stream",
          "text": [
            "\n",
            "Column A1\n",
            "\n",
            "          count      mean       std  min  25%  50%  75%  max\n",
            "A12                                                         \n",
            "0.000000   50.0  0.100000  0.303046  0.0  0.0  0.0  0.0  1.0\n",
            "0.346667   57.0  0.245614  0.434277  0.0  0.0  0.0  0.0  1.0\n",
            "1.000000   24.0  1.000000  0.000000  1.0  1.0  1.0  1.0  1.0\n",
            "2.000000    0.0       NaN       NaN  NaN  NaN  NaN  NaN  NaN\n",
            "\n",
            "Column A3\n",
            "\n",
            "          count       mean       std   min   25%   50%   75%   max\n",
            "A12                                                               \n",
            "0.000000   50.0   0.140000  0.350510   0.0   0.0   0.0   0.0   1.0\n",
            "0.346667   57.0   0.157895  0.367884   0.0   0.0   0.0   0.0   1.0\n",
            "1.000000   24.0   0.333333  0.481543   0.0   0.0   0.0   1.0   1.0\n",
            "2.000000    1.0  77.000000       NaN  77.0  77.0  77.0  77.0  77.0\n",
            "\n",
            "Column A4\n",
            "\n",
            "          count      mean       std    min     25%    50%     75%   max\n",
            "A12                                                                    \n",
            "0.000000   48.0  0.241021  0.115962  0.030  0.1575  0.240  0.3075  0.61\n",
            "0.346667   54.0  0.213722  0.103404  0.036  0.1425  0.195  0.2675  0.50\n",
            "1.000000   22.0  0.171136  0.084091  0.010  0.1225  0.175  0.2300  0.30\n",
            "2.000000    0.0       NaN       NaN    NaN     NaN    NaN     NaN   NaN\n",
            "\n",
            "Column A9\n",
            "\n",
            "          count      mean       std    min    25%     50%     75%    max\n",
            "A12                                                                     \n",
            "0.000000   50.0  0.793020  0.176903  0.357  0.643  0.8225  0.9825  1.003\n",
            "0.346667   55.0  0.776436  0.228557  0.140  0.714  0.7860  0.8570  2.000\n",
            "1.000000   23.0  0.741957  0.170280  0.358  0.714  0.7860  0.8570  1.000\n",
            "2.000000    1.0  2.000000       NaN  2.000  2.000  2.0000  2.0000  2.000\n",
            "\n",
            "Column A12\n",
            "\n",
            "          count      mean           std  ...       50%       75%       max\n",
            "A12                                      ...                              \n",
            "0.000000   50.0  0.000000  0.000000e+00  ...  0.000000  0.000000  0.000000\n",
            "0.346667   57.0  0.346667  5.040413e-16  ...  0.346667  0.346667  0.346667\n",
            "1.000000   24.0  1.000000  0.000000e+00  ...  1.000000  1.000000  1.000000\n",
            "2.000000    1.0  2.000000           NaN  ...  2.000000  2.000000  2.000000\n",
            "\n",
            "[4 rows x 8 columns]\n"
          ],
          "name": "stdout"
        }
      ]
    },
    {
      "cell_type": "code",
      "metadata": {
        "id": "1KBLXu8-2M8p",
        "colab_type": "code",
        "colab": {}
      },
      "source": [
        "dfA10pos = df[df.A10 == '+']\n",
        "dfA10pneg = df[df.A10 == '-']"
      ],
      "execution_count": 51,
      "outputs": []
    },
    {
      "cell_type": "code",
      "metadata": {
        "id": "Uldsa-xKySL-",
        "colab_type": "code",
        "colab": {
          "base_uri": "https://localhost:8080/",
          "height": 204
        },
        "outputId": "9e6b15a6-6356-487a-ef93-9f75e0588f4b"
      },
      "source": [
        "from scipy import stats\n",
        "\n",
        "s1 = \"Features that significantly affects positive class attribute\\n\"\n",
        "s2 = \"Features that significantly affects negative class attribute\\n\"\n",
        "s3 = \"Features that have no significant affect on class attribute\\n\"\n",
        "\n",
        "\n",
        "for column in continousdatacols:\n",
        "  statistics, pvalue = stats.ttest_ind(dfA10pos[column], \n",
        "                          dfA10pneg[column], \n",
        "                          equal_var=True)\n",
        "  if statistics > 0 and pvalue < 1:\n",
        "    s1 += \"{:1} {:<1.5} {:.01}\\n\".format(column, statistics, pvalue)\n",
        "  elif statistics < 0 and pvalue < 1:\n",
        "    s2 += \"{:1} {:<1.5} {:.01}\\n\".format(column, statistics, pvalue)\n",
        "  else:\n",
        "    s3 += \"{:1} {:<1.5} {:.01}\\n\".format(column, statistics, pvalue)\n",
        "\n",
        "print(\"{}\\n{}\\n{}\".format(s1, s2, s3))"
      ],
      "execution_count": 52,
      "outputs": [
        {
          "output_type": "stream",
          "text": [
            "Features that significantly affects positive class attribute\n",
            "\n",
            "Features that significantly affects negative class attribute\n",
            "\n",
            "Features that have no significant affect on class attribute\n",
            "A1 nan nan\n",
            "A3 nan nan\n",
            "A4 nan nan\n",
            "A9 nan nan\n",
            "A12 nan nan\n",
            "\n"
          ],
          "name": "stdout"
        }
      ]
    },
    {
      "cell_type": "code",
      "metadata": {
        "id": "4UUxF0peyh4S",
        "colab_type": "code",
        "colab": {
          "base_uri": "https://localhost:8080/",
          "height": 187
        },
        "outputId": "98208251-623b-4d5a-9385-300960adbafc"
      },
      "source": [
        "categoricaldatacols = [i for i in df.columns if i not in continousdatacols]\n",
        "categoricaldatacols.remove('A10')\n",
        "\n",
        "s1 = \"Features that significantly affects class attribute\\n\"\n",
        "s2 = \"Features that have no significant affect on class attribute\\n\"\n",
        "\n",
        "for column in categoricaldatacols:\n",
        "  statistics, pvalue = stats.chisquare(pd.crosstab(df[column], df.A10), \n",
        "                                      axis=None)\n",
        "  if pvalue < 1:\n",
        "    s1 += \"{:1} {:<1.5} {:.01}\\n\".format(column, statistics, pvalue)\n",
        "  else:\n",
        "    s2 += \"{:1} {:<1.5} {:.01}\\n\".format(column, statistics, pvalue)\n",
        "    \n",
        "print(\"{}\\n{}\".format(s1, s2))"
      ],
      "execution_count": 53,
      "outputs": [
        {
          "output_type": "stream",
          "text": [
            "Features that significantly affects class attribute\n",
            "A2 71.74 0.0008\n",
            "A5 53.308 1e+00\n",
            "A7 215.83 2e-24\n",
            "A8 750.46 5e-121\n",
            "A11 34.138 5e-09\n",
            "\n",
            "Features that have no significant affect on class attribute\n",
            "A6 19.612 1e+00\n",
            "\n"
          ],
          "name": "stdout"
        }
      ]
    },
    {
      "cell_type": "code",
      "metadata": {
        "id": "kVFnDohL_Kyy",
        "colab_type": "code",
        "colab": {}
      },
      "source": [
        "from scipy import stats\n",
        "from scipy.stats import ttest_ind\n",
        "import numpy as np\n",
        "import matplotlib.pyplot as plt"
      ],
      "execution_count": 69,
      "outputs": []
    },
    {
      "cell_type": "code",
      "metadata": {
        "id": "mk26FYH6yn8m",
        "colab_type": "code",
        "colab": {
          "base_uri": "https://localhost:8080/",
          "height": 1000
        },
        "outputId": "aa0dcf83-f5a1-4d48-b409-da6076084ad6"
      },
      "source": [
        "cols = [\"A1\", \"A3\", \"A4\", \"A9\", \"A12\"]\n",
        "\n",
        "boxplots = [df.boxplot(column=col, by=\"A10\", showfliers=False) for col in cols]"
      ],
      "execution_count": 70,
      "outputs": [
        {
          "output_type": "display_data",
          "data": {
            "image/png": "[encoded data removed]",
            "text/plain": [
              "<Figure size 432x288 with 1 Axes>"
            ]
          },
          "metadata": {
            "tags": [],
            "needs_background": "light"
          }
        },
        {
          "output_type": "display_data",
          "data": {
            "image/png": "[encoded data removed]",
            "text/plain": [
              "<Figure size 432x288 with 1 Axes>"
            ]
          },
          "metadata": {
            "tags": [],
            "needs_background": "light"
          }
        },
        {
          "output_type": "display_data",
          "data": {
            "image/png": "[encoded data removed]",
            "text/plain": [
              "<Figure size 432x288 with 1 Axes>"
            ]
          },
          "metadata": {
            "tags": [],
            "needs_background": "light"
          }
        },
        {
          "output_type": "display_data",
          "data": {
            "image/png": "[encoded data removed]",
            "text/plain": [
              "<Figure size 432x288 with 1 Axes>"
            ]
          },
          "metadata": {
            "tags": [],
            "needs_background": "light"
          }
        },
        {
          "output_type": "display_data",
          "data": {
            "image/png": "[encoded data removed]",
            "text/plain": [
              "<Figure size 432x288 with 1 Axes>"
            ]
          },
          "metadata": {
            "tags": [],
            "needs_background": "light"
          }
        }
      ]
    },
    {
      "cell_type": "code",
      "metadata": {
        "id": "Py321PQP_T6J",
        "colab_type": "code",
        "colab": {
          "base_uri": "https://localhost:8080/",
          "height": 34
        },
        "outputId": "92ce758e-896d-47cb-a295-ee952d754eee"
      },
      "source": [
        "ttest_ind(pos_df.A12, neg_df.A12)"
      ],
      "execution_count": 72,
      "outputs": [
        {
          "output_type": "execute_result",
          "data": {
            "text/plain": [
              "Ttest_indResult(statistic=10.226991799123855, pvalue=2.420247675448483e-18)"
            ]
          },
          "metadata": {
            "tags": []
          },
          "execution_count": 72
        }
      ]
    },
    {
      "cell_type": "code",
      "metadata": {
        "colab_type": "code",
        "id": "4lY6YnihAIlv",
        "colab": {
          "base_uri": "https://localhost:8080/",
          "height": 34
        },
        "outputId": "1d00d8ba-c476-41be-b10f-4db6e5294493"
      },
      "source": [
        "ttest_ind(pos_df.A12, neg_df.A12, nan_policy='omit')"
      ],
      "execution_count": 79,
      "outputs": [
        {
          "output_type": "execute_result",
          "data": {
            "text/plain": [
              "Ttest_indResult(statistic=10.226991799123855, pvalue=2.420247675448483e-18)"
            ]
          },
          "metadata": {
            "tags": []
          },
          "execution_count": 79
        }
      ]
    },
    {
      "cell_type": "code",
      "metadata": {
        "id": "5yYtCzGE_fak",
        "colab_type": "code",
        "colab": {
          "base_uri": "https://localhost:8080/",
          "height": 34
        },
        "outputId": "e1c3ded4-69df-41ab-fcd2-c2ce9f4b1209"
      },
      "source": [
        "ttest_ind(pos_df.A1, neg_df.A1)"
      ],
      "execution_count": 73,
      "outputs": [
        {
          "output_type": "execute_result",
          "data": {
            "text/plain": [
              "Ttest_indResult(statistic=inf, pvalue=0.0)"
            ]
          },
          "metadata": {
            "tags": []
          },
          "execution_count": 73
        }
      ]
    },
    {
      "cell_type": "code",
      "metadata": {
        "id": "pX4HnrFo8oeZ",
        "colab_type": "code",
        "colab": {
          "base_uri": "https://localhost:8080/",
          "height": 34
        },
        "outputId": "b8081dfa-aea2-40be-f8f5-7caaa3899d57"
      },
      "source": [
        "ttest_ind(pos_df.A1, neg_df.A1, nan_policy='omit')"
      ],
      "execution_count": 74,
      "outputs": [
        {
          "output_type": "execute_result",
          "data": {
            "text/plain": [
              "Ttest_indResult(statistic=inf, pvalue=0.0)"
            ]
          },
          "metadata": {
            "tags": []
          },
          "execution_count": 74
        }
      ]
    },
    {
      "cell_type": "code",
      "metadata": {
        "id": "WnWr02fN_kOP",
        "colab_type": "code",
        "colab": {
          "base_uri": "https://localhost:8080/",
          "height": 34
        },
        "outputId": "96c8315a-c6f6-4d25-e2c9-5756b93c7698"
      },
      "source": [
        "ttest_ind(pos_df.A3, neg_df.A3)"
      ],
      "execution_count": 75,
      "outputs": [
        {
          "output_type": "execute_result",
          "data": {
            "text/plain": [
              "Ttest_indResult(statistic=1.9977058069843026, pvalue=0.04785200949077697)"
            ]
          },
          "metadata": {
            "tags": []
          },
          "execution_count": 75
        }
      ]
    },
    {
      "cell_type": "code",
      "metadata": {
        "colab_type": "code",
        "id": "hudJKhwm_vNZ",
        "colab": {
          "base_uri": "https://localhost:8080/",
          "height": 34
        },
        "outputId": "8e069659-d125-447a-ec15-ef33f8f88766"
      },
      "source": [
        "ttest_ind(pos_df.A3, neg_df.A3, nan_policy='omit')"
      ],
      "execution_count": 76,
      "outputs": [
        {
          "output_type": "execute_result",
          "data": {
            "text/plain": [
              "Ttest_indResult(statistic=1.9977058069843026, pvalue=0.04785200949077697)"
            ]
          },
          "metadata": {
            "tags": []
          },
          "execution_count": 76
        }
      ]
    },
    {
      "cell_type": "code",
      "metadata": {
        "colab_type": "code",
        "id": "bLKEa6JC_5Bm",
        "colab": {
          "base_uri": "https://localhost:8080/",
          "height": 34
        },
        "outputId": "c27e6ab3-2854-4147-8c60-dcca6f5df676"
      },
      "source": [
        "ttest_ind(pos_df.A4, neg_df.A4)"
      ],
      "execution_count": 77,
      "outputs": [
        {
          "output_type": "execute_result",
          "data": {
            "text/plain": [
              "Ttest_indResult(statistic=nan, pvalue=nan)"
            ]
          },
          "metadata": {
            "tags": []
          },
          "execution_count": 77
        }
      ]
    },
    {
      "cell_type": "code",
      "metadata": {
        "colab_type": "code",
        "id": "K0ji3rvW_4UP",
        "colab": {
          "base_uri": "https://localhost:8080/",
          "height": 34
        },
        "outputId": "009bfa0f-cb25-4439-feb6-ef94d03fd744"
      },
      "source": [
        "ttest_ind(pos_df.A4, neg_df.A4, nan_policy='omit')"
      ],
      "execution_count": 78,
      "outputs": [
        {
          "output_type": "execute_result",
          "data": {
            "text/plain": [
              "Ttest_indResult(statistic=-3.3976225505527884, pvalue=0.0009184742447359485)"
            ]
          },
          "metadata": {
            "tags": []
          },
          "execution_count": 78
        }
      ]
    },
    {
      "cell_type": "code",
      "metadata": {
        "colab_type": "code",
        "id": "pg8GmIxWAOAG",
        "colab": {
          "base_uri": "https://localhost:8080/",
          "height": 34
        },
        "outputId": "dc59f08e-4314-4eda-f293-3fe47bae47e7"
      },
      "source": [
        "ttest_ind(pos_df.A9, neg_df.A9)"
      ],
      "execution_count": 80,
      "outputs": [
        {
          "output_type": "execute_result",
          "data": {
            "text/plain": [
              "Ttest_indResult(statistic=nan, pvalue=nan)"
            ]
          },
          "metadata": {
            "tags": []
          },
          "execution_count": 80
        }
      ]
    },
    {
      "cell_type": "code",
      "metadata": {
        "colab_type": "code",
        "id": "RjP8TBAcAM5G",
        "colab": {
          "base_uri": "https://localhost:8080/",
          "height": 34
        },
        "outputId": "83256b28-a4c5-465c-ed44-719d7e2a0529"
      },
      "source": [
        "ttest_ind(pos_df.A9, neg_df.A9, nan_policy='omit')"
      ],
      "execution_count": 81,
      "outputs": [
        {
          "output_type": "execute_result",
          "data": {
            "text/plain": [
              "Ttest_indResult(statistic=-1.5836202031451647, pvalue=0.11578696901410755)"
            ]
          },
          "metadata": {
            "tags": []
          },
          "execution_count": 81
        }
      ]
    },
    {
      "cell_type": "code",
      "metadata": {
        "id": "cR5ArrjXAcf6",
        "colab_type": "code",
        "colab": {
          "base_uri": "https://localhost:8080/",
          "height": 1000
        },
        "outputId": "4eaa9d3e-af3d-42de-8fbf-9e9946254858"
      },
      "source": [
        "from scipy.stats import chisquare \n",
        "\n",
        "categorical_feats = [df.A1, df.A3, df.A4, df.A7, df.A9, df.A12]\n",
        "\n",
        "crosstabs = [pd.crosstab(df.A12, feat) for feat in categorical_feats]\n",
        "\n",
        "for crosstab in crosstabs:\n",
        "  print(crosstab)\n",
        "  print(chisquare(crosstab,axis=None))\n",
        "  print(\"\\n\\n\")"
      ],
      "execution_count": 83,
      "outputs": [
        {
          "output_type": "stream",
          "text": [
            "A1        0.0  1.0\n",
            "A12               \n",
            "0.000000   45    5\n",
            "0.346667   43   14\n",
            "1.000000    0   24\n",
            "Power_divergenceResult(statistic=82.93893129770991, pvalue=2.0352065886905847e-16)\n",
            "\n",
            "\n",
            "\n",
            "A3        0   1   77\n",
            "A12                 \n",
            "0.000000  43   7   0\n",
            "0.346667  48   9   0\n",
            "1.000000  16   8   0\n",
            "2.000000   0   0   1\n",
            "Power_divergenceResult(statistic=286.54545454545456, pvalue=5.9577689733177965e-55)\n",
            "\n",
            "\n",
            "\n",
            "A4        0.010  0.030  0.036  0.040  0.050  ...  0.440  0.450  0.500  0.510  0.610\n",
            "A12                                          ...                                   \n",
            "0.000000      0      1      0      0      0  ...      0      1      0      1      1\n",
            "0.346667      0      0      1      0      1  ...      1      0      1      0      0\n",
            "1.000000      1      0      0      1      1  ...      0      0      0      0      0\n",
            "\n",
            "[3 rows x 51 columns]\n",
            "Power_divergenceResult(statistic=174.5967741935484, pvalue=0.10121867276257225)\n",
            "\n",
            "\n",
            "\n",
            "A7        2.00   5.00   5.50   6.00   7.50   ...  24.00  26.08  27.00  28.00  39.00\n",
            "A12                                          ...                                   \n",
            "0.000000      0      1      1      0      0  ...      0      0      0      0      0\n",
            "0.346667      1      0      0      1      0  ...      0      0      0      0      0\n",
            "1.000000      0      0      0      0      1  ...      2      1      1      1      1\n",
            "\n",
            "[3 rows x 45 columns]\n",
            "Power_divergenceResult(statistic=416.21875, pvalue=1.1347526462537646e-30)\n",
            "\n",
            "\n",
            "\n",
            "A9        0.140  0.280  0.357  0.358  0.360  ...  0.928  0.930  1.000  1.003  2.000\n",
            "A12                                          ...                                   \n",
            "0.000000      0      0      2      0      0  ...      1      1     11      2      0\n",
            "0.346667      1      1      0      0      0  ...      4      0      1      0      1\n",
            "1.000000      0      0      0      1      1  ...      2      0      1      0      0\n",
            "2.000000      0      0      0      0      0  ...      0      0      0      0      1\n",
            "\n",
            "[4 rows x 27 columns]\n",
            "Power_divergenceResult(statistic=546.6279069767443, pvalue=3.551517016556711e-60)\n",
            "\n",
            "\n",
            "\n",
            "A12       0.000000  0.346667  1.000000  2.000000\n",
            "A12                                             \n",
            "0.000000        50         0         0         0\n",
            "0.346667         0        57         0         0\n",
            "1.000000         0         0        24         0\n",
            "2.000000         0         0         0         1\n",
            "Power_divergenceResult(statistic=634.7878787878788, pvalue=1.4281675811883982e-125)\n",
            "\n",
            "\n",
            "\n"
          ],
          "name": "stdout"
        }
      ]
    },
    {
      "cell_type": "markdown",
      "metadata": {
        "id": "ZM8JckA2bgnp",
        "colab_type": "text"
      },
      "source": [
        "## Part 3 - Analysis and Interpretation\n",
        "\n",
        "Now that you've looked at the data, answer the following questions:\n",
        "\n",
        "- Interpret and explain the two t-tests you ran - what do they tell you about the relationships between the continuous features you selected and the class labels?\n",
        "- Interpret and explain the two Chi-squared tests you ran - what do they tell you about the relationships between the categorical features you selected and the class labels?\n",
        "- What was the most challenging part of this sprint challenge?\n",
        "\n",
        "Answer with text, but feel free to intersperse example code/results or refer to it from earlier."
      ]
    },
    {
      "cell_type": "markdown",
      "metadata": {
        "id": "LIozLDNG2Uhu",
        "colab_type": "text"
      },
      "source": [
        "*Your words here!*"
      ]
    },
    {
      "cell_type": "code",
      "metadata": {
        "id": "EHZTu2M8y3NA",
        "colab_type": "code",
        "colab": {}
      },
      "source": [
        "#Based on the t-test output.\n",
        "#A8 feature seems to have highest significance for approval.\n",
        "#A5 feature seems to have high significance for rejection.\n",
        "\n",
        "#Features that have no significant affect on class attribute\n",
        "#A1 nan nan\n",
        "#A3 nan nan\n",
        "#A4 nan nan\n",
        "#A9 nan nan\n",
        "#A12 nan nan\n",
        "#Features that significantly affects class attribute\n",
        "#A2 71.74 0.0008\n",
        "#A5 53.308 1e+00\n",
        "#A7 215.83 2e-24\n",
        "#A8 750.46 5e-121\n",
        "#A11 34.138 5e-09\n",
        "\n",
        "#Features that have no significant affect on class attribute\n",
        "#A6 19.612 1e+00"
      ],
      "execution_count": 86,
      "outputs": []
    },
    {
      "cell_type": "code",
      "metadata": {
        "id": "oEtQlbfiBDtz",
        "colab_type": "code",
        "colab": {}
      },
      "source": [
        "#Based on the chisquare-test output.\n",
        "#A1, A3, A7 & A9 feature seems to have higher significance on class attribute as compared to other columns.\n",
        "#A4 feature seems to have least significance on class attribute as compared to other columns."
      ],
      "execution_count": 87,
      "outputs": []
    },
    {
      "cell_type": "markdown",
      "metadata": {
        "id": "pvs3_-sNWQv0",
        "colab_type": "text"
      },
      "source": [
        "## Part 4 - Bayesian vs Frequentist Statistics\n",
        "\n",
        "Using a minimum of 2-3 sentences, give an explanation of Bayesian and Frequentist statistics, and then compare and contrast these two approaches to statistical inference.\n",
        "\n"
      ]
    },
    {
      "cell_type": "code",
      "metadata": {
        "id": "zclfXf31GM64",
        "colab_type": "code",
        "colab": {}
      },
      "source": [
        "from scipy import stats\n",
        "import numpy as np\n",
        "np.random.seed(seed=42)"
      ],
      "execution_count": 90,
      "outputs": []
    },
    {
      "cell_type": "code",
      "metadata": {
        "id": "bOs7OikcGaRb",
        "colab_type": "code",
        "colab": {
          "base_uri": "https://localhost:8080/",
          "height": 119
        },
        "outputId": "f49a0f0b-96d0-4bf8-8ef0-9b5e7815044b"
      },
      "source": [
        "alive = np.random.binomial(n=1, p=.5, size=132)\n",
        "alive"
      ],
      "execution_count": 91,
      "outputs": [
        {
          "output_type": "execute_result",
          "data": {
            "text/plain": [
              "array([0, 1, 1, 1, 0, 0, 0, 1, 1, 1, 0, 1, 1, 0, 0, 0, 0, 1, 0, 0, 1, 0,\n",
              "       0, 0, 0, 1, 0, 1, 1, 0, 1, 0, 0, 1, 1, 1, 0, 0, 1, 0, 0, 0, 0, 1,\n",
              "       0, 1, 0, 1, 1, 0, 1, 1, 1, 1, 1, 1, 0, 0, 0, 0, 0, 0, 1, 0, 0, 1,\n",
              "       0, 1, 0, 1, 1, 0, 0, 1, 1, 1, 1, 0, 0, 0, 1, 1, 0, 0, 0, 0, 1, 1,\n",
              "       1, 0, 0, 1, 1, 1, 1, 0, 1, 0, 0, 0, 0, 1, 0, 1, 1, 0, 0, 1, 0, 0,\n",
              "       0, 0, 1, 1, 1, 1, 1, 0, 1, 1, 1, 1, 0, 0, 0, 0, 1, 1, 0, 1, 0, 0])"
            ]
          },
          "metadata": {
            "tags": []
          },
          "execution_count": 91
        }
      ]
    },
    {
      "cell_type": "code",
      "metadata": {
        "id": "CrnYFiDWIQWL",
        "colab_type": "code",
        "colab": {
          "base_uri": "https://localhost:8080/",
          "height": 34
        },
        "outputId": "b713db22-31b4-426e-a056-0c1eecf79eea"
      },
      "source": [
        "np.mean(alive)"
      ],
      "execution_count": 98,
      "outputs": [
        {
          "output_type": "execute_result",
          "data": {
            "text/plain": [
              "0.4772727272727273"
            ]
          },
          "metadata": {
            "tags": []
          },
          "execution_count": 98
        }
      ]
    },
    {
      "cell_type": "code",
      "metadata": {
        "id": "CXUBXobzIaq7",
        "colab_type": "code",
        "colab": {
          "base_uri": "https://localhost:8080/",
          "height": 34
        },
        "outputId": "4d13a002-c1be-4caa-fae2-8a6a85c56d70"
      },
      "source": [
        "df['A4'].mean()"
      ],
      "execution_count": 99,
      "outputs": [
        {
          "output_type": "execute_result",
          "data": {
            "text/plain": [
              "0.21673387096774194"
            ]
          },
          "metadata": {
            "tags": []
          },
          "execution_count": 99
        }
      ]
    },
    {
      "cell_type": "code",
      "metadata": {
        "id": "aenFv9mXGtIl",
        "colab_type": "code",
        "colab": {}
      },
      "source": [
        "#CI_freq = stats.t.interval(0.95,\n",
        " #                          len(df),\n",
        "  #                         loc = df['A4'].mean()\n",
        "   #                        scale = stats.sem(df['A4']\n",
        "   #                        )\n",
        "#CI_freq"
      ],
      "execution_count": 114,
      "outputs": []
    },
    {
      "cell_type": "code",
      "metadata": {
        "id": "8oKjd4ImHFI0",
        "colab_type": "code",
        "colab": {
          "base_uri": "https://localhost:8080/",
          "height": 34
        },
        "outputId": "33e96ba8-d94f-4373-81a5-671e71977fb1"
      },
      "source": [
        "CI_bayes = stats.bayes_mvs(alive, alpha=.95)[0][1]\n",
        "CI_bayes"
      ],
      "execution_count": 110,
      "outputs": [
        {
          "output_type": "execute_result",
          "data": {
            "text/plain": [
              "(0.3909422981999091, 0.5636031563455455)"
            ]
          },
          "metadata": {
            "tags": []
          },
          "execution_count": 110
        }
      ]
    },
    {
      "cell_type": "markdown",
      "metadata": {
        "id": "h1oK1UaDWrI-",
        "colab_type": "text"
      },
      "source": [
        "*Your words here!*"
      ]
    },
    {
      "cell_type": "markdown",
      "metadata": {
        "id": "-7uqhhd1LHhc",
        "colab_type": "text"
      },
      "source": [
        "A4 has less chances of surviving than a random sample.\n"
      ]
    },
    {
      "cell_type": "markdown",
      "metadata": {
        "id": "XOequK5xpVz7",
        "colab_type": "text"
      },
      "source": [
        "# Stretch Goals: \n",
        "Do these to get a 3. These are not required in order to pass the Sprint Challenge.\n",
        "\n",
        "## Part 1: \n",
        "\n",
        "Make sure that all of your dataframe columns have the appropriate data types. *Hint:* If a column has the datatype of \"object\" even though it's made up of float or integer values, you can coerce it to act as a numeric column by using the `pd.to_numeric()` function. In order to get a 3 on this section make sure that your data exploration is particularly well commented, easy to follow, and thorough.\n",
        "\n",
        "## Part 2:\n",
        "\n",
        "Write functions that can calculate t-tests and chi^2 tests on all of the appropriate column combinations from the dataset. (Remember that certain tests require certain variable types.)\n",
        "\n",
        "## Part 3: \n",
        "\n",
        "Calculate and report confidence intervals on your most important mean estimates (choose at least two). Make some kind of a graphic or visualization to help us see visually how precise these estimates are.\n",
        "\n",
        "## Part 4:\n",
        "\n",
        "Give an extra awesome explanation of Bayesian vs Frequentist Statistics. Maybe use code or visualizations, or any other means necessary to show an above average grasp of these high level concepts."
      ]
    },
    {
      "cell_type": "code",
      "metadata": {
        "id": "NT37grnxqa05",
        "colab_type": "code",
        "colab": {}
      },
      "source": [
        "# You can work the stretch goals down here or back up in their regular sections\n",
        "# just make sure that they are labeled so that we can easily differentiate\n",
        "# your main work from the stretch goals."
      ],
      "execution_count": null,
      "outputs": []
    }
  ]
}