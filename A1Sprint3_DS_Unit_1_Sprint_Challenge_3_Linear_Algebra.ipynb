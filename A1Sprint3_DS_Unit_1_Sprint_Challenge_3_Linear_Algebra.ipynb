{
  "nbformat": 4,
  "nbformat_minor": 0,
  "metadata": {
    "colab": {
      "name": "A1Sprint3 DS_Unit_1_Sprint_Challenge_3_Linear_Algebra.ipynb",
      "provenance": [],
      "collapsed_sections": [],
      "include_colab_link": true
    },
    "kernelspec": {
      "name": "python3",
      "display_name": "Python 3"
    }
  },
  "cells": [
    {
      "cell_type": "markdown",
      "metadata": {
        "id": "view-in-github",
        "colab_type": "text"
      },
      "source": [
        "<a href=\"https://colab.research.google.com/github/JaimeOcean/DS-Unit-1-Sprint-1-Data-Wrangling-and-Storytelling/blob/master/A1Sprint3_DS_Unit_1_Sprint_Challenge_3_Linear_Algebra.ipynb\" target=\"_parent\"><img src=\"https://colab.research.google.com/assets/colab-badge.svg\" alt=\"Open In Colab\"/></a>"
      ]
    },
    {
      "cell_type": "markdown",
      "metadata": {
        "id": "-wQxiT7yC4_v",
        "colab_type": "text"
      },
      "source": [
        "#Linear Algebra"
      ]
    },
    {
      "cell_type": "markdown",
      "metadata": {
        "id": "aiUlaNJkECCL",
        "colab_type": "text"
      },
      "source": [
        "## 1.1 Graph vector $\\vec{a}$ \n",
        "\n",
        "\\begin{align}\n",
        "\\vec{a} = \\begin{bmatrix} 3 \\\\ 2 \\end{bmatrix}\n",
        "\\end{align}"
      ]
    },
    {
      "cell_type": "code",
      "metadata": {
        "id": "QpCKt0n5IeiY",
        "colab_type": "code",
        "colab": {}
      },
      "source": [
        "import math\n",
        "import matplotlib.pyplot as plt\n",
        "import numpy as np"
      ],
      "execution_count": 73,
      "outputs": []
    },
    {
      "cell_type": "code",
      "metadata": {
        "id": "Rvw4rI8mrTub",
        "colab_type": "code",
        "colab": {
          "base_uri": "https://localhost:8080/",
          "height": 51
        },
        "outputId": "26f8a134-a067-44bb-bd6e-b9766e500967"
      },
      "source": [
        "g = np.array([3,2])\n",
        "norm_g = np.linalg.norm(g)\n",
        "print(g, \"\\n Norm of g:\", norm_g)"
      ],
      "execution_count": 74,
      "outputs": [
        {
          "output_type": "stream",
          "text": [
            "[3 2] \n",
            " Norm of g: 3.605551275463989\n"
          ],
          "name": "stdout"
        }
      ]
    },
    {
      "cell_type": "code",
      "metadata": {
        "id": "1zoWJrSNvqOQ",
        "colab_type": "code",
        "colab": {
          "base_uri": "https://localhost:8080/",
          "height": 282
        },
        "outputId": "08df815d-220b-4b78-f104-ba65c9f89406"
      },
      "source": [
        "fig, ax = plt.subplots()\n",
        "ax.grid()\n",
        "plt.xlim(-1,3.6)          \n",
        "plt.ylim(-1,3.6)\n",
        "plt.arrow(0,\n",
        "          0, \n",
        "          g[0], g[1],\n",
        "          head_width=.2, \n",
        "          head_length=.2, \n",
        "          linewidth=3,\n",
        "          color ='deeppink')"
      ],
      "execution_count": 75,
      "outputs": [
        {
          "output_type": "execute_result",
          "data": {
            "text/plain": [
              "<matplotlib.patches.FancyArrow at 0x7f94949ffbe0>"
            ]
          },
          "metadata": {
            "tags": []
          },
          "execution_count": 75
        },
        {
          "output_type": "display_data",
          "data": {
            "image/png": "[encoded data removed]",
            "text/plain": [
              "<Figure size 432x288 with 1 Axes>"
            ]
          },
          "metadata": {
            "tags": [],
            "needs_background": "light"
          }
        }
      ]
    },
    {
      "cell_type": "markdown",
      "metadata": {
        "id": "BDLB08NXEiUN",
        "colab_type": "text"
      },
      "source": [
        "## 1.2 Find $||\\vec{b}||$. What does the norm of a vector represent?\n",
        "\\begin{align}\n",
        "\\vec{b} = \\begin{bmatrix} 17 & -4 & -2 & 1\\end{bmatrix}\n",
        "\\end{align}\n"
      ]
    },
    {
      "cell_type": "code",
      "metadata": {
        "id": "Fp3mocAKIfGD",
        "colab_type": "code",
        "colab": {
          "base_uri": "https://localhost:8080/",
          "height": 34
        },
        "outputId": "4d9a1f3d-d91f-48a3-bbdc-346b40c783bb"
      },
      "source": [
        "g = np.array([[17],[-4],[-2],[1]])\n",
        "\n",
        "\n",
        "norm_g = np.linalg.norm(g)\n",
        "\n",
        "\n",
        "print(\"Norm of g:\", norm_g)\n"
      ],
      "execution_count": 76,
      "outputs": [
        {
          "output_type": "stream",
          "text": [
            "Norm of g: 17.60681686165901\n"
          ],
          "name": "stdout"
        }
      ]
    },
    {
      "cell_type": "code",
      "metadata": {
        "id": "CsZ5WOogwefa",
        "colab_type": "code",
        "colab": {}
      },
      "source": [
        "#Norm of a vector represents the lenght of a vector"
      ],
      "execution_count": 77,
      "outputs": []
    },
    {
      "cell_type": "markdown",
      "metadata": {
        "id": "vBbJ0ZyPD6RG",
        "colab_type": "text"
      },
      "source": [
        "## 1.3 Find $\\vec{c} \\cdot \\vec{d}$ - Are these vectors orthogonal? Why or why not?\n",
        "\n",
        "\\begin{align}\n",
        "\\vec{c} = \\begin{bmatrix}3 & 7 & -2 & 12\\end{bmatrix}\n",
        "\\qquad\n",
        "\\vec{d} = \\begin{bmatrix}9 & -7 & 4 & 6\\end{bmatrix}\n",
        "\\end{align}"
      ]
    },
    {
      "cell_type": "code",
      "metadata": {
        "id": "NYb8BalmIfgY",
        "colab_type": "code",
        "colab": {}
      },
      "source": [
        "#c.d = 27-49-8+72=42\n",
        "\n",
        "c = np.array([3,7,-2,12])\n",
        "d = np.array([9,-7,4,6])"
      ],
      "execution_count": 78,
      "outputs": []
    },
    {
      "cell_type": "code",
      "metadata": {
        "id": "e1OWOekexryX",
        "colab_type": "code",
        "colab": {
          "base_uri": "https://localhost:8080/",
          "height": 34
        },
        "outputId": "0534d300-cf4b-43f8-d2e8-1fe228a7ae5d"
      },
      "source": [
        "(3*9) + (7*-7) + (-2*4) + (12*6)"
      ],
      "execution_count": 79,
      "outputs": [
        {
          "output_type": "execute_result",
          "data": {
            "text/plain": [
              "42"
            ]
          },
          "metadata": {
            "tags": []
          },
          "execution_count": 79
        }
      ]
    },
    {
      "cell_type": "code",
      "metadata": {
        "id": "k-oscmLVyCaU",
        "colab_type": "code",
        "colab": {
          "base_uri": "https://localhost:8080/",
          "height": 34
        },
        "outputId": "0d6e4a28-fc52-4691-e901-b4fcfb52672b"
      },
      "source": [
        "c = np.array([3, 7, -2, 12])\n",
        "d = np.array([9, -7, 4, 6])\n",
        "np.dot(c,d)"
      ],
      "execution_count": 80,
      "outputs": [
        {
          "output_type": "execute_result",
          "data": {
            "text/plain": [
              "42"
            ]
          },
          "metadata": {
            "tags": []
          },
          "execution_count": 80
        }
      ]
    },
    {
      "cell_type": "code",
      "metadata": {
        "id": "PprGp0UXyO1C",
        "colab_type": "code",
        "colab": {}
      },
      "source": [
        "#No they are not. Because, they are different than 0"
      ],
      "execution_count": 81,
      "outputs": []
    },
    {
      "cell_type": "markdown",
      "metadata": {
        "id": "gS85sJHWG7iU",
        "colab_type": "text"
      },
      "source": [
        "## 1.4 Find $E^{-1}$ and $E^{T}$\n",
        "\n",
        "\\begin{align}\n",
        "E = \n",
        "\\begin{bmatrix}\n",
        "    7 & 4 & 2 \\\\\n",
        "    1 & 3 & -1 \\\\\n",
        "    2 & 6 & -4\n",
        "\\end{bmatrix}\n",
        "\\end{align}"
      ]
    },
    {
      "cell_type": "code",
      "metadata": {
        "id": "KdRo31M3VRsL",
        "colab_type": "code",
        "colab": {}
      },
      "source": [
        "from scipy import linalg"
      ],
      "execution_count": 82,
      "outputs": []
    },
    {
      "cell_type": "code",
      "metadata": {
        "id": "QiISq5egIgSS",
        "colab_type": "code",
        "colab": {
          "base_uri": "https://localhost:8080/",
          "height": 68
        },
        "outputId": "7e4566d0-6861-4b8d-a729-7f5e7cb34f92"
      },
      "source": [
        "E = np.array([[7,4,2], \n",
        "              [1,3,-1],\n",
        "              [2,6,-4]])\n",
        "E"
      ],
      "execution_count": 83,
      "outputs": [
        {
          "output_type": "execute_result",
          "data": {
            "text/plain": [
              "array([[ 7,  4,  2],\n",
              "       [ 1,  3, -1],\n",
              "       [ 2,  6, -4]])"
            ]
          },
          "metadata": {
            "tags": []
          },
          "execution_count": 83
        }
      ]
    },
    {
      "cell_type": "code",
      "metadata": {
        "id": "xmP2AQwEVXRi",
        "colab_type": "code",
        "colab": {
          "base_uri": "https://localhost:8080/",
          "height": 68
        },
        "outputId": "f9bbfa19-965d-41d0-8862-2e725c647fc8"
      },
      "source": [
        "linalg.inv(E)"
      ],
      "execution_count": 84,
      "outputs": [
        {
          "output_type": "execute_result",
          "data": {
            "text/plain": [
              "array([[ 0.17647059, -0.82352941,  0.29411765],\n",
              "       [-0.05882353,  0.94117647, -0.26470588],\n",
              "       [ 0.        ,  1.        , -0.5       ]])"
            ]
          },
          "metadata": {
            "tags": []
          },
          "execution_count": 84
        }
      ]
    },
    {
      "cell_type": "code",
      "metadata": {
        "id": "X0bIClrJ1qpq",
        "colab_type": "code",
        "colab": {
          "base_uri": "https://localhost:8080/",
          "height": 85
        },
        "outputId": "c092659a-7420-4260-ff8f-015dd1745c7e"
      },
      "source": [
        "print(E)\n",
        "print(E.shape)"
      ],
      "execution_count": 85,
      "outputs": [
        {
          "output_type": "stream",
          "text": [
            "[[ 7  4  2]\n",
            " [ 1  3 -1]\n",
            " [ 2  6 -4]]\n",
            "(3, 3)\n"
          ],
          "name": "stdout"
        }
      ]
    },
    {
      "cell_type": "code",
      "metadata": {
        "id": "AHIrcxnr3UMG",
        "colab_type": "code",
        "colab": {
          "base_uri": "https://localhost:8080/",
          "height": 68
        },
        "outputId": "c04fd47c-74b9-4fe4-bf43-96172575fa26"
      },
      "source": [
        "ET = np.array([[7,1,2], \n",
        "              [4,3,6],\n",
        "              [2,-1,-4]])\n",
        "ET"
      ],
      "execution_count": 136,
      "outputs": [
        {
          "output_type": "execute_result",
          "data": {
            "text/plain": [
              "array([[ 7,  1,  2],\n",
              "       [ 4,  3,  6],\n",
              "       [ 2, -1, -4]])"
            ]
          },
          "metadata": {
            "tags": []
          },
          "execution_count": 136
        }
      ]
    },
    {
      "cell_type": "code",
      "metadata": {
        "id": "SWcESP1B3rLt",
        "colab_type": "code",
        "colab": {
          "base_uri": "https://localhost:8080/",
          "height": 153
        },
        "outputId": "dfc0580f-9997-499e-c28b-ecd444a3fbe1"
      },
      "source": [
        "print(ET)\n",
        "print(ET.shape)\n",
        "print(ET.T)\n",
        "print(ET.T.shape)"
      ],
      "execution_count": 137,
      "outputs": [
        {
          "output_type": "stream",
          "text": [
            "[[ 7  1  2]\n",
            " [ 4  3  6]\n",
            " [ 2 -1 -4]]\n",
            "(3, 3)\n",
            "[[ 7  4  2]\n",
            " [ 1  3 -1]\n",
            " [ 2  6 -4]]\n",
            "(3, 3)\n"
          ],
          "name": "stdout"
        }
      ]
    },
    {
      "cell_type": "markdown",
      "metadata": {
        "id": "_DFQHO2HcPNz",
        "colab_type": "text"
      },
      "source": [
        "## 1.5 Find $|F|$ - What is one reason why the determinant of a matrix would be 0? \n",
        "\n",
        "\\begin{align}\n",
        "F = \n",
        "\\begin{bmatrix}\n",
        "    2 & -2 & 5 \\\\\n",
        "    4 & 1 & 10 \\\\\n",
        "    12 & 6 & 30\n",
        "\\end{bmatrix}\n",
        "\\end{align}"
      ]
    },
    {
      "cell_type": "code",
      "metadata": {
        "id": "P1b7kTHE4hn7",
        "colab_type": "code",
        "colab": {
          "base_uri": "https://localhost:8080/",
          "height": 68
        },
        "outputId": "e4ddbd06-1e5c-4f2f-8335-ba50200f906f"
      },
      "source": [
        "F = np.array([[2,-2,5], \n",
        "              [4,1,10],\n",
        "              [12,6,30]])\n",
        "F"
      ],
      "execution_count": 138,
      "outputs": [
        {
          "output_type": "execute_result",
          "data": {
            "text/plain": [
              "array([[ 2, -2,  5],\n",
              "       [ 4,  1, 10],\n",
              "       [12,  6, 30]])"
            ]
          },
          "metadata": {
            "tags": []
          },
          "execution_count": 138
        }
      ]
    },
    {
      "cell_type": "code",
      "metadata": {
        "id": "JVUHdn1YWRrl",
        "colab_type": "code",
        "colab": {
          "base_uri": "https://localhost:8080/",
          "height": 34
        },
        "outputId": "0cef7e2e-6b0d-49e1-9b24-a52596e1c0e2"
      },
      "source": [
        "linalg.det(F)"
      ],
      "execution_count": 139,
      "outputs": [
        {
          "output_type": "execute_result",
          "data": {
            "text/plain": [
              "0.0"
            ]
          },
          "metadata": {
            "tags": []
          },
          "execution_count": 139
        }
      ]
    },
    {
      "cell_type": "code",
      "metadata": {
        "id": "NoWZeqRJ4-Cx",
        "colab_type": "code",
        "colab": {
          "base_uri": "https://localhost:8080/",
          "height": 85
        },
        "outputId": "1116ff1e-b3cd-4480-80b3-f99de8863882"
      },
      "source": [
        "print(F)\n",
        "print(F.shape)"
      ],
      "execution_count": 140,
      "outputs": [
        {
          "output_type": "stream",
          "text": [
            "[[ 2 -2  5]\n",
            " [ 4  1 10]\n",
            " [12  6 30]]\n",
            "(3, 3)\n"
          ],
          "name": "stdout"
        }
      ]
    },
    {
      "cell_type": "markdown",
      "metadata": {
        "id": "TPzrKzEvC5YU",
        "colab_type": "text"
      },
      "source": [
        "# Intermediate Linear Algebra"
      ]
    },
    {
      "cell_type": "markdown",
      "metadata": {
        "id": "ap-us2lBGQyi",
        "colab_type": "text"
      },
      "source": [
        "## 2.1 Suppose that the number of customers at a ski resort as well as the number of inches of fresh powder (snow)  was recorded for 7 days. \n",
        "\n",
        "### Customers: [820, 760, 1250, 990, 1080, 1450, 1600]\n",
        "\n",
        "### Inches of new snow: [0, 1, 7, 1, 0, 6, 4 ]\n",
        "\n",
        "## Find the mean, sample variance, and sample standard deviation for both the number of customers and inches of new snow for the week. Remember that on SCs you can use library functions, dataframes, .describe(), etc. \n",
        "\n"
      ]
    },
    {
      "cell_type": "code",
      "metadata": {
        "id": "xS-JuHl9JiiP",
        "colab_type": "code",
        "colab": {}
      },
      "source": [
        "customers = [820, 760, 1250, 990, 1080, 1450, 1600]\n",
        "snow = [0, 1, 7, 1, 0, 6, 4]"
      ],
      "execution_count": 141,
      "outputs": []
    },
    {
      "cell_type": "code",
      "metadata": {
        "id": "cNxeVa0cg40d",
        "colab_type": "code",
        "colab": {}
      },
      "source": [
        "import math\n",
        "import numpy as np\n",
        "import pandas as pd"
      ],
      "execution_count": 142,
      "outputs": []
    },
    {
      "cell_type": "code",
      "metadata": {
        "id": "R7_RZjMI58TN",
        "colab_type": "code",
        "colab": {
          "base_uri": "https://localhost:8080/",
          "height": 34
        },
        "outputId": "b675c551-1b11-4042-a4d2-b01ea34f3fa1"
      },
      "source": [
        "total = sum(customers)\n",
        "mean_customers = total/len(customers)\n",
        "print(\"mean customers: \", mean_customers)"
      ],
      "execution_count": 143,
      "outputs": [
        {
          "output_type": "stream",
          "text": [
            "mean customers:  1135.7142857142858\n"
          ],
          "name": "stdout"
        }
      ]
    },
    {
      "cell_type": "code",
      "metadata": {
        "id": "GmXQC_xg6Qfl",
        "colab_type": "code",
        "colab": {
          "base_uri": "https://localhost:8080/",
          "height": 34
        },
        "outputId": "e02e1c1b-446f-4ab4-deae-0ca45d583093"
      },
      "source": [
        "total = sum(snow)\n",
        "mean_snow = total/len(snow)\n",
        "print(\"mean snow: \", mean_snow)"
      ],
      "execution_count": 144,
      "outputs": [
        {
          "output_type": "stream",
          "text": [
            "mean snow:  2.7142857142857144\n"
          ],
          "name": "stdout"
        }
      ]
    },
    {
      "cell_type": "code",
      "metadata": {
        "id": "ROFyxUKa6bPh",
        "colab_type": "code",
        "colab": {
          "base_uri": "https://localhost:8080/",
          "height": 34
        },
        "outputId": "f8806fc3-440d-485b-c186-622a0a47d4fe"
      },
      "source": [
        "def subtract_mean(number):\n",
        "    return number-mean_customers\n",
        "lambda x: x-mean_customers"
      ],
      "execution_count": 145,
      "outputs": [
        {
          "output_type": "execute_result",
          "data": {
            "text/plain": [
              "<function __main__.<lambda>>"
            ]
          },
          "metadata": {
            "tags": []
          },
          "execution_count": 145
        }
      ]
    },
    {
      "cell_type": "code",
      "metadata": {
        "id": "rwdk0JWh8N0V",
        "colab_type": "code",
        "colab": {}
      },
      "source": [
        "distances = list(map(subtract_mean, customers))"
      ],
      "execution_count": 146,
      "outputs": []
    },
    {
      "cell_type": "code",
      "metadata": {
        "id": "M7p4gy5k8TAT",
        "colab_type": "code",
        "colab": {}
      },
      "source": [
        "squared_distances = list(map(lambda x: x**2, distances))"
      ],
      "execution_count": 147,
      "outputs": []
    },
    {
      "cell_type": "code",
      "metadata": {
        "id": "WO0tZTMs8WXX",
        "colab_type": "code",
        "colab": {}
      },
      "source": [
        "list_length=len(squared_distances)-1"
      ],
      "execution_count": 148,
      "outputs": []
    },
    {
      "cell_type": "code",
      "metadata": {
        "id": "l0gNxCsM7LSh",
        "colab_type": "code",
        "colab": {
          "base_uri": "https://localhost:8080/",
          "height": 34
        },
        "outputId": "ada0feb5-56e8-4b1b-a904-9cd6efab23d7"
      },
      "source": [
        "variance_customers = sum(squared_distances)/list_length\n",
        "print('{:.2f}'.format(variance_customers,3))"
      ],
      "execution_count": 149,
      "outputs": [
        {
          "output_type": "stream",
          "text": [
            "98761.90\n"
          ],
          "name": "stdout"
        }
      ]
    },
    {
      "cell_type": "code",
      "metadata": {
        "id": "fVRrgloA8dpc",
        "colab_type": "code",
        "colab": {
          "base_uri": "https://localhost:8080/",
          "height": 34
        },
        "outputId": "c888a5f8-7453-4143-b6d4-29a461c21026"
      },
      "source": [
        "def subtract_mean(number):\n",
        "    return number-mean_snow\n",
        "lambda x: x-mean_snow"
      ],
      "execution_count": 150,
      "outputs": [
        {
          "output_type": "execute_result",
          "data": {
            "text/plain": [
              "<function __main__.<lambda>>"
            ]
          },
          "metadata": {
            "tags": []
          },
          "execution_count": 150
        }
      ]
    },
    {
      "cell_type": "code",
      "metadata": {
        "id": "1-bwOk7q8ln7",
        "colab_type": "code",
        "colab": {}
      },
      "source": [
        "distances = list(map(subtract_mean, snow))"
      ],
      "execution_count": 151,
      "outputs": []
    },
    {
      "cell_type": "code",
      "metadata": {
        "id": "8Ans-VIA8rj_",
        "colab_type": "code",
        "colab": {}
      },
      "source": [
        "squared_distances = list(map(lambda x: x**2, distances))"
      ],
      "execution_count": 152,
      "outputs": []
    },
    {
      "cell_type": "code",
      "metadata": {
        "id": "MlmKg5IJ8uly",
        "colab_type": "code",
        "colab": {}
      },
      "source": [
        "list_length=len(squared_distances)-1"
      ],
      "execution_count": 153,
      "outputs": []
    },
    {
      "cell_type": "code",
      "metadata": {
        "id": "vQgXFztr8zEe",
        "colab_type": "code",
        "colab": {
          "base_uri": "https://localhost:8080/",
          "height": 34
        },
        "outputId": "805b4e14-d724-48f8-a5b9-b79e2222a6a1"
      },
      "source": [
        "variance_snow = sum(squared_distances)/list_length\n",
        "print('{:.2f}'.format(variance_snow,3))"
      ],
      "execution_count": 154,
      "outputs": [
        {
          "output_type": "stream",
          "text": [
            "8.57\n"
          ],
          "name": "stdout"
        }
      ]
    },
    {
      "cell_type": "code",
      "metadata": {
        "id": "OXs45VBt89JN",
        "colab_type": "code",
        "colab": {
          "base_uri": "https://localhost:8080/",
          "height": 51
        },
        "outputId": "3021fea9-0880-4111-c256-b6e3099e0348"
      },
      "source": [
        "print('{:.2f}'.format(math.sqrt(variance_customers)))\n",
        "print('{:.2f}'.format(np.sqrt(variance_customers)))"
      ],
      "execution_count": 155,
      "outputs": [
        {
          "output_type": "stream",
          "text": [
            "314.26\n",
            "314.26\n"
          ],
          "name": "stdout"
        }
      ]
    },
    {
      "cell_type": "code",
      "metadata": {
        "colab_type": "code",
        "id": "0JZJUdhvnDCF",
        "colab": {
          "base_uri": "https://localhost:8080/",
          "height": 68
        },
        "outputId": "34009eb6-b450-4ad7-ba3e-fa1b4e356b29"
      },
      "source": [
        "# check our work using numpy\n",
        "print(np.mean(customers))\n",
        "print('{:.2f}'.format(np.var(customers)))\n",
        "print('{:.2f}'.format(np.std(customers)))"
      ],
      "execution_count": 156,
      "outputs": [
        {
          "output_type": "stream",
          "text": [
            "1135.7142857142858\n",
            "84653.06\n",
            "290.95\n"
          ],
          "name": "stdout"
        }
      ]
    },
    {
      "cell_type": "code",
      "metadata": {
        "id": "kNcG0KxR9wsz",
        "colab_type": "code",
        "colab": {
          "base_uri": "https://localhost:8080/",
          "height": 51
        },
        "outputId": "8909c89b-a27e-4bb3-90e6-ce36a0a95a52"
      },
      "source": [
        "print('{:.2f}'.format(math.sqrt(variance_snow)))\n",
        "print('{:.2f}'.format(np.sqrt(variance_snow)))"
      ],
      "execution_count": 157,
      "outputs": [
        {
          "output_type": "stream",
          "text": [
            "2.93\n",
            "2.93\n"
          ],
          "name": "stdout"
        }
      ]
    },
    {
      "cell_type": "code",
      "metadata": {
        "id": "xmUebdR996BQ",
        "colab_type": "code",
        "colab": {
          "base_uri": "https://localhost:8080/",
          "height": 68
        },
        "outputId": "30c1ab0e-314a-40d2-d752-b6476f312505"
      },
      "source": [
        "print(np.mean(snow))\n",
        "print('{:.2f}'.format(np.var(snow)))\n",
        "print('{:.2f}'.format(np.std(snow)))"
      ],
      "execution_count": 158,
      "outputs": [
        {
          "output_type": "stream",
          "text": [
            "2.7142857142857144\n",
            "7.35\n",
            "2.71\n"
          ],
          "name": "stdout"
        }
      ]
    },
    {
      "cell_type": "markdown",
      "metadata": {
        "id": "3ePJtK4VLTLH",
        "colab_type": "text"
      },
      "source": [
        "## 2.2 Are the variances of the number of customers and inches of snow comparable? \n",
        "## Why or why not? "
      ]
    },
    {
      "cell_type": "code",
      "metadata": {
        "id": "LvTtgZ-5Ndw_",
        "colab_type": "code",
        "colab": {}
      },
      "source": [
        "#Not really, there is no pattern for more snow more customers or less snow less customers"
      ],
      "execution_count": 159,
      "outputs": []
    },
    {
      "cell_type": "markdown",
      "metadata": {
        "id": "ixhZVGxfGVFh",
        "colab_type": "text"
      },
      "source": [
        "## 2.3 Find the variance-covariance matrix for the number of customers and inches of snow at the ski resort. "
      ]
    },
    {
      "cell_type": "code",
      "metadata": {
        "id": "IbglmVaxJjO7",
        "colab_type": "code",
        "colab": {
          "base_uri": "https://localhost:8080/",
          "height": 34
        },
        "outputId": "9349370b-62f5-4c85-f661-a3d2cdc73514"
      },
      "source": [
        "print('{:.2f}'.format(np.cov(customers, snow)[0][1]))"
      ],
      "execution_count": 160,
      "outputs": [
        {
          "output_type": "stream",
          "text": [
            "670.24\n"
          ],
          "name": "stdout"
        }
      ]
    },
    {
      "cell_type": "markdown",
      "metadata": {
        "id": "6Ks3_TbNC5yJ",
        "colab_type": "text"
      },
      "source": [
        "# PCA"
      ]
    },
    {
      "cell_type": "markdown",
      "metadata": {
        "id": "f6qJAPaaOdzD",
        "colab_type": "text"
      },
      "source": [
        "## 3.1 Standardize the data so that it has a mean of 0 and a standard deviation of 1. \n",
        "\n",
        "We have included some code to get you started so that you don't get stuck on something that isn't standardizing the data or PCA.\n",
        "\n",
        "This might be helpful:\n",
        "\n",
        "<https://scikit-learn.org/stable/modules/generated/sklearn.preprocessing.StandardScaler.html>"
      ]
    },
    {
      "cell_type": "code",
      "metadata": {
        "id": "bogsxfNyJlAw",
        "colab_type": "code",
        "colab": {
          "base_uri": "https://localhost:8080/",
          "height": 227
        },
        "outputId": "ba5726d7-6ef1-4760-aa14-7f7399280845"
      },
      "source": [
        "# Let me get you some data to start you off.\n",
        "import pandas as pd\n",
        "import matplotlib.pyplot as plt\n",
        "from sklearn.decomposition import PCA\n",
        "\n",
        "data = {\"Country\": [\"England\",\"Wales\",\"Scotland\",\"North Ireland\"], \n",
        "        \"Cheese\": [105,103,103,66], \n",
        "        \"Carcass_Meat\": [245,227,242,267], \n",
        "        \"Other_Meat\": [685, 803, 750, 586], \n",
        "        \"Fish\": [147, 160, 122, 93], \n",
        "        \"Fats_and_Oils\": [193, 235, 184, 209], \n",
        "        \"Sugars\": [156, 175, 147, 139], \n",
        "        \"Fresh_Potatoes\": [720, 874, 566, 1033], \n",
        "        \"Fresh_Veg\": [253, 265, 171, 143], \n",
        "        \"Other_Veg\": [488, 570, 418, 355], \n",
        "        \"Processed_Potatoes\": [198, 203, 220, 187], \n",
        "        \"Processed_Veg\": [360, 365, 337, 334], \n",
        "        \"Fresh_Fruit\": [1102, 1137, 957, 674], \n",
        "        \"Cereals\": [1472, 1582, 1462, 1494], \n",
        "        \"Beverages\": [57,73,53,47], \n",
        "        \"Soft_Drinks\": [1374, 1256, 1572, 1506], \n",
        "        \"Alcoholic Drinks\": [375, 475, 458, 135], \n",
        "        \"Confectionery\": [54, 64, 62, 41]}\n",
        "\n",
        "df = pd.DataFrame(data)\n",
        "\n",
        "# Look at the data\n",
        "df.head()"
      ],
      "execution_count": 161,
      "outputs": [
        {
          "output_type": "execute_result",
          "data": {
            "text/html": [
              "<div>\n",
              "<style scoped>\n",
              "    .dataframe tbody tr th:only-of-type {\n",
              "        vertical-align: middle;\n",
              "    }\n",
              "\n",
              "    .dataframe tbody tr th {\n",
              "        vertical-align: top;\n",
              "    }\n",
              "\n",
              "    .dataframe thead th {\n",
              "        text-align: right;\n",
              "    }\n",
              "</style>\n",
              "<table border=\"1\" class=\"dataframe\">\n",
              "  <thead>\n",
              "    <tr style=\"text-align: right;\">\n",
              "      <th></th>\n",
              "      <th>Country</th>\n",
              "      <th>Cheese</th>\n",
              "      <th>Carcass_Meat</th>\n",
              "      <th>Other_Meat</th>\n",
              "      <th>Fish</th>\n",
              "      <th>Fats_and_Oils</th>\n",
              "      <th>Sugars</th>\n",
              "      <th>Fresh_Potatoes</th>\n",
              "      <th>Fresh_Veg</th>\n",
              "      <th>Other_Veg</th>\n",
              "      <th>Processed_Potatoes</th>\n",
              "      <th>Processed_Veg</th>\n",
              "      <th>Fresh_Fruit</th>\n",
              "      <th>Cereals</th>\n",
              "      <th>Beverages</th>\n",
              "      <th>Soft_Drinks</th>\n",
              "      <th>Alcoholic Drinks</th>\n",
              "      <th>Confectionery</th>\n",
              "    </tr>\n",
              "  </thead>\n",
              "  <tbody>\n",
              "    <tr>\n",
              "      <th>0</th>\n",
              "      <td>England</td>\n",
              "      <td>105</td>\n",
              "      <td>245</td>\n",
              "      <td>685</td>\n",
              "      <td>147</td>\n",
              "      <td>193</td>\n",
              "      <td>156</td>\n",
              "      <td>720</td>\n",
              "      <td>253</td>\n",
              "      <td>488</td>\n",
              "      <td>198</td>\n",
              "      <td>360</td>\n",
              "      <td>1102</td>\n",
              "      <td>1472</td>\n",
              "      <td>57</td>\n",
              "      <td>1374</td>\n",
              "      <td>375</td>\n",
              "      <td>54</td>\n",
              "    </tr>\n",
              "    <tr>\n",
              "      <th>1</th>\n",
              "      <td>Wales</td>\n",
              "      <td>103</td>\n",
              "      <td>227</td>\n",
              "      <td>803</td>\n",
              "      <td>160</td>\n",
              "      <td>235</td>\n",
              "      <td>175</td>\n",
              "      <td>874</td>\n",
              "      <td>265</td>\n",
              "      <td>570</td>\n",
              "      <td>203</td>\n",
              "      <td>365</td>\n",
              "      <td>1137</td>\n",
              "      <td>1582</td>\n",
              "      <td>73</td>\n",
              "      <td>1256</td>\n",
              "      <td>475</td>\n",
              "      <td>64</td>\n",
              "    </tr>\n",
              "    <tr>\n",
              "      <th>2</th>\n",
              "      <td>Scotland</td>\n",
              "      <td>103</td>\n",
              "      <td>242</td>\n",
              "      <td>750</td>\n",
              "      <td>122</td>\n",
              "      <td>184</td>\n",
              "      <td>147</td>\n",
              "      <td>566</td>\n",
              "      <td>171</td>\n",
              "      <td>418</td>\n",
              "      <td>220</td>\n",
              "      <td>337</td>\n",
              "      <td>957</td>\n",
              "      <td>1462</td>\n",
              "      <td>53</td>\n",
              "      <td>1572</td>\n",
              "      <td>458</td>\n",
              "      <td>62</td>\n",
              "    </tr>\n",
              "    <tr>\n",
              "      <th>3</th>\n",
              "      <td>North Ireland</td>\n",
              "      <td>66</td>\n",
              "      <td>267</td>\n",
              "      <td>586</td>\n",
              "      <td>93</td>\n",
              "      <td>209</td>\n",
              "      <td>139</td>\n",
              "      <td>1033</td>\n",
              "      <td>143</td>\n",
              "      <td>355</td>\n",
              "      <td>187</td>\n",
              "      <td>334</td>\n",
              "      <td>674</td>\n",
              "      <td>1494</td>\n",
              "      <td>47</td>\n",
              "      <td>1506</td>\n",
              "      <td>135</td>\n",
              "      <td>41</td>\n",
              "    </tr>\n",
              "  </tbody>\n",
              "</table>\n",
              "</div>"
            ],
            "text/plain": [
              "         Country  Cheese  ...  Alcoholic Drinks  Confectionery\n",
              "0        England     105  ...               375             54\n",
              "1          Wales     103  ...               475             64\n",
              "2       Scotland     103  ...               458             62\n",
              "3  North Ireland      66  ...               135             41\n",
              "\n",
              "[4 rows x 18 columns]"
            ]
          },
          "metadata": {
            "tags": []
          },
          "execution_count": 161
        }
      ]
    },
    {
      "cell_type": "code",
      "metadata": {
        "id": "_bQSLuuL_g2I",
        "colab_type": "code",
        "colab": {}
      },
      "source": [
        "pca = PCA(n_components=2)"
      ],
      "execution_count": 162,
      "outputs": []
    },
    {
      "cell_type": "code",
      "metadata": {
        "id": "gwiNOQA6BsNi",
        "colab_type": "code",
        "colab": {}
      },
      "source": [
        "Country = [1,2,3,4]"
      ],
      "execution_count": 163,
      "outputs": []
    },
    {
      "cell_type": "code",
      "metadata": {
        "id": "EZtrvhtNgqzn",
        "colab_type": "code",
        "colab": {}
      },
      "source": [
        "from urllib.request import urlopen\n",
        "from zipfile import ZipFile\n",
        "from io import BytesIO\n",
        "import os.path\n",
        "import pandas as pd\n",
        "import numpy as np\n",
        "import matplotlib.pyplot as plt"
      ],
      "execution_count": 164,
      "outputs": []
    },
    {
      "cell_type": "code",
      "metadata": {
        "id": "BKjibL-igso8",
        "colab_type": "code",
        "colab": {
          "base_uri": "https://localhost:8080/",
          "height": 340
        },
        "outputId": "43a58125-3af8-4a25-a985-b212f5390a66"
      },
      "source": [
        "df.dtypes"
      ],
      "execution_count": 165,
      "outputs": [
        {
          "output_type": "execute_result",
          "data": {
            "text/plain": [
              "Country               object\n",
              "Cheese                 int64\n",
              "Carcass_Meat           int64\n",
              "Other_Meat             int64\n",
              "Fish                   int64\n",
              "Fats_and_Oils          int64\n",
              "Sugars                 int64\n",
              "Fresh_Potatoes         int64\n",
              "Fresh_Veg              int64\n",
              "Other_Veg              int64\n",
              "Processed_Potatoes     int64\n",
              "Processed_Veg          int64\n",
              "Fresh_Fruit            int64\n",
              "Cereals                int64\n",
              "Beverages              int64\n",
              "Soft_Drinks            int64\n",
              "Alcoholic Drinks       int64\n",
              "Confectionery          int64\n",
              "dtype: object"
            ]
          },
          "metadata": {
            "tags": []
          },
          "execution_count": 165
        }
      ]
    },
    {
      "cell_type": "code",
      "metadata": {
        "id": "8hYKzekUiLgE",
        "colab_type": "code",
        "colab": {
          "base_uri": "https://localhost:8080/",
          "height": 34
        },
        "outputId": "4dc52ec0-9efa-42bf-b5a0-6f3dbb193e55"
      },
      "source": [
        "df.isnull().sum().any()"
      ],
      "execution_count": 166,
      "outputs": [
        {
          "output_type": "execute_result",
          "data": {
            "text/plain": [
              "False"
            ]
          },
          "metadata": {
            "tags": []
          },
          "execution_count": 166
        }
      ]
    },
    {
      "cell_type": "code",
      "metadata": {
        "id": "V6Ex0hNYiTtR",
        "colab_type": "code",
        "colab": {
          "base_uri": "https://localhost:8080/",
          "height": 51
        },
        "outputId": "9ee5cb4e-3b85-4874-9680-2154c7aaea37"
      },
      "source": [
        "cat_cols = df.columns[df.dtypes=='object']\n",
        "num_cols = df.columns[df.dtypes!='object']\n",
        "\n",
        "print(f'{len(cat_cols)} categorical columns')\n",
        "print(f'{len(num_cols)} numerical columns')"
      ],
      "execution_count": 167,
      "outputs": [
        {
          "output_type": "stream",
          "text": [
            "1 categorical columns\n",
            "17 numerical columns\n"
          ],
          "name": "stdout"
        }
      ]
    },
    {
      "cell_type": "code",
      "metadata": {
        "id": "IYo7I75ijEV9",
        "colab_type": "code",
        "colab": {
          "base_uri": "https://localhost:8080/",
          "height": 227
        },
        "outputId": "a3181545-318c-4f50-b50b-45424340f83c"
      },
      "source": [
        "df.head()"
      ],
      "execution_count": 169,
      "outputs": [
        {
          "output_type": "execute_result",
          "data": {
            "text/html": [
              "<div>\n",
              "<style scoped>\n",
              "    .dataframe tbody tr th:only-of-type {\n",
              "        vertical-align: middle;\n",
              "    }\n",
              "\n",
              "    .dataframe tbody tr th {\n",
              "        vertical-align: top;\n",
              "    }\n",
              "\n",
              "    .dataframe thead th {\n",
              "        text-align: right;\n",
              "    }\n",
              "</style>\n",
              "<table border=\"1\" class=\"dataframe\">\n",
              "  <thead>\n",
              "    <tr style=\"text-align: right;\">\n",
              "      <th></th>\n",
              "      <th>Country</th>\n",
              "      <th>Cheese</th>\n",
              "      <th>Carcass_Meat</th>\n",
              "      <th>Other_Meat</th>\n",
              "      <th>Fish</th>\n",
              "      <th>Fats_and_Oils</th>\n",
              "      <th>Sugars</th>\n",
              "      <th>Fresh_Potatoes</th>\n",
              "      <th>Fresh_Veg</th>\n",
              "      <th>Other_Veg</th>\n",
              "      <th>Processed_Potatoes</th>\n",
              "      <th>Processed_Veg</th>\n",
              "      <th>Fresh_Fruit</th>\n",
              "      <th>Cereals</th>\n",
              "      <th>Beverages</th>\n",
              "      <th>Soft_Drinks</th>\n",
              "      <th>Alcoholic Drinks</th>\n",
              "      <th>Confectionery</th>\n",
              "    </tr>\n",
              "  </thead>\n",
              "  <tbody>\n",
              "    <tr>\n",
              "      <th>0</th>\n",
              "      <td>England</td>\n",
              "      <td>105</td>\n",
              "      <td>245</td>\n",
              "      <td>685</td>\n",
              "      <td>147</td>\n",
              "      <td>193</td>\n",
              "      <td>156</td>\n",
              "      <td>720</td>\n",
              "      <td>253</td>\n",
              "      <td>488</td>\n",
              "      <td>198</td>\n",
              "      <td>360</td>\n",
              "      <td>1102</td>\n",
              "      <td>1472</td>\n",
              "      <td>57</td>\n",
              "      <td>1374</td>\n",
              "      <td>375</td>\n",
              "      <td>54</td>\n",
              "    </tr>\n",
              "    <tr>\n",
              "      <th>1</th>\n",
              "      <td>Wales</td>\n",
              "      <td>103</td>\n",
              "      <td>227</td>\n",
              "      <td>803</td>\n",
              "      <td>160</td>\n",
              "      <td>235</td>\n",
              "      <td>175</td>\n",
              "      <td>874</td>\n",
              "      <td>265</td>\n",
              "      <td>570</td>\n",
              "      <td>203</td>\n",
              "      <td>365</td>\n",
              "      <td>1137</td>\n",
              "      <td>1582</td>\n",
              "      <td>73</td>\n",
              "      <td>1256</td>\n",
              "      <td>475</td>\n",
              "      <td>64</td>\n",
              "    </tr>\n",
              "    <tr>\n",
              "      <th>2</th>\n",
              "      <td>Scotland</td>\n",
              "      <td>103</td>\n",
              "      <td>242</td>\n",
              "      <td>750</td>\n",
              "      <td>122</td>\n",
              "      <td>184</td>\n",
              "      <td>147</td>\n",
              "      <td>566</td>\n",
              "      <td>171</td>\n",
              "      <td>418</td>\n",
              "      <td>220</td>\n",
              "      <td>337</td>\n",
              "      <td>957</td>\n",
              "      <td>1462</td>\n",
              "      <td>53</td>\n",
              "      <td>1572</td>\n",
              "      <td>458</td>\n",
              "      <td>62</td>\n",
              "    </tr>\n",
              "    <tr>\n",
              "      <th>3</th>\n",
              "      <td>North Ireland</td>\n",
              "      <td>66</td>\n",
              "      <td>267</td>\n",
              "      <td>586</td>\n",
              "      <td>93</td>\n",
              "      <td>209</td>\n",
              "      <td>139</td>\n",
              "      <td>1033</td>\n",
              "      <td>143</td>\n",
              "      <td>355</td>\n",
              "      <td>187</td>\n",
              "      <td>334</td>\n",
              "      <td>674</td>\n",
              "      <td>1494</td>\n",
              "      <td>47</td>\n",
              "      <td>1506</td>\n",
              "      <td>135</td>\n",
              "      <td>41</td>\n",
              "    </tr>\n",
              "  </tbody>\n",
              "</table>\n",
              "</div>"
            ],
            "text/plain": [
              "         Country  Cheese  ...  Alcoholic Drinks  Confectionery\n",
              "0        England     105  ...               375             54\n",
              "1          Wales     103  ...               475             64\n",
              "2       Scotland     103  ...               458             62\n",
              "3  North Ireland      66  ...               135             41\n",
              "\n",
              "[4 rows x 18 columns]"
            ]
          },
          "metadata": {
            "tags": []
          },
          "execution_count": 169
        }
      ]
    },
    {
      "cell_type": "code",
      "metadata": {
        "id": "XDyMuuxakAmT",
        "colab_type": "code",
        "colab": {
          "base_uri": "https://localhost:8080/",
          "height": 340
        },
        "outputId": "221ceb5c-7d52-4068-b3f1-575aec0cd73e"
      },
      "source": [
        "df[cat_cols] = df[cat_cols].astype('object')\n",
        "\n",
        "df.dtypes"
      ],
      "execution_count": 170,
      "outputs": [
        {
          "output_type": "execute_result",
          "data": {
            "text/plain": [
              "Country               object\n",
              "Cheese                 int64\n",
              "Carcass_Meat           int64\n",
              "Other_Meat             int64\n",
              "Fish                   int64\n",
              "Fats_and_Oils          int64\n",
              "Sugars                 int64\n",
              "Fresh_Potatoes         int64\n",
              "Fresh_Veg              int64\n",
              "Other_Veg              int64\n",
              "Processed_Potatoes     int64\n",
              "Processed_Veg          int64\n",
              "Fresh_Fruit            int64\n",
              "Cereals                int64\n",
              "Beverages              int64\n",
              "Soft_Drinks            int64\n",
              "Alcoholic Drinks       int64\n",
              "Confectionery          int64\n",
              "dtype: object"
            ]
          },
          "metadata": {
            "tags": []
          },
          "execution_count": 170
        }
      ]
    },
    {
      "cell_type": "code",
      "metadata": {
        "id": "OmWmpjAzmdsb",
        "colab_type": "code",
        "colab": {
          "base_uri": "https://localhost:8080/",
          "height": 227
        },
        "outputId": "ce2e84fc-7d81-42d1-d3c9-bcafd7c47ad3"
      },
      "source": [
        "obj_df =df.select_dtypes(include=['object']).copy()\n",
        "obj_df=obj_df.fillna('Missing')\n",
        "for col in obj_df:\n",
        "    obj_df[col] = obj_df[col].astype('category')\n",
        "df[obj_df.columns]=obj_df[obj_df.columns]\n",
        "df.head()"
      ],
      "execution_count": 171,
      "outputs": [
        {
          "output_type": "execute_result",
          "data": {
            "text/html": [
              "<div>\n",
              "<style scoped>\n",
              "    .dataframe tbody tr th:only-of-type {\n",
              "        vertical-align: middle;\n",
              "    }\n",
              "\n",
              "    .dataframe tbody tr th {\n",
              "        vertical-align: top;\n",
              "    }\n",
              "\n",
              "    .dataframe thead th {\n",
              "        text-align: right;\n",
              "    }\n",
              "</style>\n",
              "<table border=\"1\" class=\"dataframe\">\n",
              "  <thead>\n",
              "    <tr style=\"text-align: right;\">\n",
              "      <th></th>\n",
              "      <th>Country</th>\n",
              "      <th>Cheese</th>\n",
              "      <th>Carcass_Meat</th>\n",
              "      <th>Other_Meat</th>\n",
              "      <th>Fish</th>\n",
              "      <th>Fats_and_Oils</th>\n",
              "      <th>Sugars</th>\n",
              "      <th>Fresh_Potatoes</th>\n",
              "      <th>Fresh_Veg</th>\n",
              "      <th>Other_Veg</th>\n",
              "      <th>Processed_Potatoes</th>\n",
              "      <th>Processed_Veg</th>\n",
              "      <th>Fresh_Fruit</th>\n",
              "      <th>Cereals</th>\n",
              "      <th>Beverages</th>\n",
              "      <th>Soft_Drinks</th>\n",
              "      <th>Alcoholic Drinks</th>\n",
              "      <th>Confectionery</th>\n",
              "    </tr>\n",
              "  </thead>\n",
              "  <tbody>\n",
              "    <tr>\n",
              "      <th>0</th>\n",
              "      <td>England</td>\n",
              "      <td>105</td>\n",
              "      <td>245</td>\n",
              "      <td>685</td>\n",
              "      <td>147</td>\n",
              "      <td>193</td>\n",
              "      <td>156</td>\n",
              "      <td>720</td>\n",
              "      <td>253</td>\n",
              "      <td>488</td>\n",
              "      <td>198</td>\n",
              "      <td>360</td>\n",
              "      <td>1102</td>\n",
              "      <td>1472</td>\n",
              "      <td>57</td>\n",
              "      <td>1374</td>\n",
              "      <td>375</td>\n",
              "      <td>54</td>\n",
              "    </tr>\n",
              "    <tr>\n",
              "      <th>1</th>\n",
              "      <td>Wales</td>\n",
              "      <td>103</td>\n",
              "      <td>227</td>\n",
              "      <td>803</td>\n",
              "      <td>160</td>\n",
              "      <td>235</td>\n",
              "      <td>175</td>\n",
              "      <td>874</td>\n",
              "      <td>265</td>\n",
              "      <td>570</td>\n",
              "      <td>203</td>\n",
              "      <td>365</td>\n",
              "      <td>1137</td>\n",
              "      <td>1582</td>\n",
              "      <td>73</td>\n",
              "      <td>1256</td>\n",
              "      <td>475</td>\n",
              "      <td>64</td>\n",
              "    </tr>\n",
              "    <tr>\n",
              "      <th>2</th>\n",
              "      <td>Scotland</td>\n",
              "      <td>103</td>\n",
              "      <td>242</td>\n",
              "      <td>750</td>\n",
              "      <td>122</td>\n",
              "      <td>184</td>\n",
              "      <td>147</td>\n",
              "      <td>566</td>\n",
              "      <td>171</td>\n",
              "      <td>418</td>\n",
              "      <td>220</td>\n",
              "      <td>337</td>\n",
              "      <td>957</td>\n",
              "      <td>1462</td>\n",
              "      <td>53</td>\n",
              "      <td>1572</td>\n",
              "      <td>458</td>\n",
              "      <td>62</td>\n",
              "    </tr>\n",
              "    <tr>\n",
              "      <th>3</th>\n",
              "      <td>North Ireland</td>\n",
              "      <td>66</td>\n",
              "      <td>267</td>\n",
              "      <td>586</td>\n",
              "      <td>93</td>\n",
              "      <td>209</td>\n",
              "      <td>139</td>\n",
              "      <td>1033</td>\n",
              "      <td>143</td>\n",
              "      <td>355</td>\n",
              "      <td>187</td>\n",
              "      <td>334</td>\n",
              "      <td>674</td>\n",
              "      <td>1494</td>\n",
              "      <td>47</td>\n",
              "      <td>1506</td>\n",
              "      <td>135</td>\n",
              "      <td>41</td>\n",
              "    </tr>\n",
              "  </tbody>\n",
              "</table>\n",
              "</div>"
            ],
            "text/plain": [
              "         Country  Cheese  ...  Alcoholic Drinks  Confectionery\n",
              "0        England     105  ...               375             54\n",
              "1          Wales     103  ...               475             64\n",
              "2       Scotland     103  ...               458             62\n",
              "3  North Ireland      66  ...               135             41\n",
              "\n",
              "[4 rows x 18 columns]"
            ]
          },
          "metadata": {
            "tags": []
          },
          "execution_count": 171
        }
      ]
    },
    {
      "cell_type": "code",
      "metadata": {
        "id": "LwGi3BS9piBB",
        "colab_type": "code",
        "colab": {
          "base_uri": "https://localhost:8080/",
          "height": 340
        },
        "outputId": "b69e3d17-8c93-4190-81a7-90487071a636"
      },
      "source": [
        "df[cat_cols] = df[cat_cols].astype('category')\n",
        "\n",
        "df.dtypes"
      ],
      "execution_count": 172,
      "outputs": [
        {
          "output_type": "execute_result",
          "data": {
            "text/plain": [
              "Country               category\n",
              "Cheese                   int64\n",
              "Carcass_Meat             int64\n",
              "Other_Meat               int64\n",
              "Fish                     int64\n",
              "Fats_and_Oils            int64\n",
              "Sugars                   int64\n",
              "Fresh_Potatoes           int64\n",
              "Fresh_Veg                int64\n",
              "Other_Veg                int64\n",
              "Processed_Potatoes       int64\n",
              "Processed_Veg            int64\n",
              "Fresh_Fruit              int64\n",
              "Cereals                  int64\n",
              "Beverages                int64\n",
              "Soft_Drinks              int64\n",
              "Alcoholic Drinks         int64\n",
              "Confectionery            int64\n",
              "dtype: object"
            ]
          },
          "metadata": {
            "tags": []
          },
          "execution_count": 172
        }
      ]
    },
    {
      "cell_type": "code",
      "metadata": {
        "id": "hBfTrbhIp1PW",
        "colab_type": "code",
        "colab": {
          "base_uri": "https://localhost:8080/",
          "height": 227
        },
        "outputId": "1db1cc95-5e4a-4c71-f485-ee3cf19b40ec"
      },
      "source": [
        "for col in cat_cols:\n",
        "  df[col] = df[col].cat.codes\n",
        "\n",
        "print(df.shape)\n",
        "df.head()"
      ],
      "execution_count": 173,
      "outputs": [
        {
          "output_type": "stream",
          "text": [
            "(4, 18)\n"
          ],
          "name": "stdout"
        },
        {
          "output_type": "execute_result",
          "data": {
            "text/html": [
              "<div>\n",
              "<style scoped>\n",
              "    .dataframe tbody tr th:only-of-type {\n",
              "        vertical-align: middle;\n",
              "    }\n",
              "\n",
              "    .dataframe tbody tr th {\n",
              "        vertical-align: top;\n",
              "    }\n",
              "\n",
              "    .dataframe thead th {\n",
              "        text-align: right;\n",
              "    }\n",
              "</style>\n",
              "<table border=\"1\" class=\"dataframe\">\n",
              "  <thead>\n",
              "    <tr style=\"text-align: right;\">\n",
              "      <th></th>\n",
              "      <th>Country</th>\n",
              "      <th>Cheese</th>\n",
              "      <th>Carcass_Meat</th>\n",
              "      <th>Other_Meat</th>\n",
              "      <th>Fish</th>\n",
              "      <th>Fats_and_Oils</th>\n",
              "      <th>Sugars</th>\n",
              "      <th>Fresh_Potatoes</th>\n",
              "      <th>Fresh_Veg</th>\n",
              "      <th>Other_Veg</th>\n",
              "      <th>Processed_Potatoes</th>\n",
              "      <th>Processed_Veg</th>\n",
              "      <th>Fresh_Fruit</th>\n",
              "      <th>Cereals</th>\n",
              "      <th>Beverages</th>\n",
              "      <th>Soft_Drinks</th>\n",
              "      <th>Alcoholic Drinks</th>\n",
              "      <th>Confectionery</th>\n",
              "    </tr>\n",
              "  </thead>\n",
              "  <tbody>\n",
              "    <tr>\n",
              "      <th>0</th>\n",
              "      <td>0</td>\n",
              "      <td>105</td>\n",
              "      <td>245</td>\n",
              "      <td>685</td>\n",
              "      <td>147</td>\n",
              "      <td>193</td>\n",
              "      <td>156</td>\n",
              "      <td>720</td>\n",
              "      <td>253</td>\n",
              "      <td>488</td>\n",
              "      <td>198</td>\n",
              "      <td>360</td>\n",
              "      <td>1102</td>\n",
              "      <td>1472</td>\n",
              "      <td>57</td>\n",
              "      <td>1374</td>\n",
              "      <td>375</td>\n",
              "      <td>54</td>\n",
              "    </tr>\n",
              "    <tr>\n",
              "      <th>1</th>\n",
              "      <td>3</td>\n",
              "      <td>103</td>\n",
              "      <td>227</td>\n",
              "      <td>803</td>\n",
              "      <td>160</td>\n",
              "      <td>235</td>\n",
              "      <td>175</td>\n",
              "      <td>874</td>\n",
              "      <td>265</td>\n",
              "      <td>570</td>\n",
              "      <td>203</td>\n",
              "      <td>365</td>\n",
              "      <td>1137</td>\n",
              "      <td>1582</td>\n",
              "      <td>73</td>\n",
              "      <td>1256</td>\n",
              "      <td>475</td>\n",
              "      <td>64</td>\n",
              "    </tr>\n",
              "    <tr>\n",
              "      <th>2</th>\n",
              "      <td>2</td>\n",
              "      <td>103</td>\n",
              "      <td>242</td>\n",
              "      <td>750</td>\n",
              "      <td>122</td>\n",
              "      <td>184</td>\n",
              "      <td>147</td>\n",
              "      <td>566</td>\n",
              "      <td>171</td>\n",
              "      <td>418</td>\n",
              "      <td>220</td>\n",
              "      <td>337</td>\n",
              "      <td>957</td>\n",
              "      <td>1462</td>\n",
              "      <td>53</td>\n",
              "      <td>1572</td>\n",
              "      <td>458</td>\n",
              "      <td>62</td>\n",
              "    </tr>\n",
              "    <tr>\n",
              "      <th>3</th>\n",
              "      <td>1</td>\n",
              "      <td>66</td>\n",
              "      <td>267</td>\n",
              "      <td>586</td>\n",
              "      <td>93</td>\n",
              "      <td>209</td>\n",
              "      <td>139</td>\n",
              "      <td>1033</td>\n",
              "      <td>143</td>\n",
              "      <td>355</td>\n",
              "      <td>187</td>\n",
              "      <td>334</td>\n",
              "      <td>674</td>\n",
              "      <td>1494</td>\n",
              "      <td>47</td>\n",
              "      <td>1506</td>\n",
              "      <td>135</td>\n",
              "      <td>41</td>\n",
              "    </tr>\n",
              "  </tbody>\n",
              "</table>\n",
              "</div>"
            ],
            "text/plain": [
              "   Country  Cheese  Carcass_Meat  ...  Soft_Drinks  Alcoholic Drinks  Confectionery\n",
              "0        0     105           245  ...         1374               375             54\n",
              "1        3     103           227  ...         1256               475             64\n",
              "2        2     103           242  ...         1572               458             62\n",
              "3        1      66           267  ...         1506               135             41\n",
              "\n",
              "[4 rows x 18 columns]"
            ]
          },
          "metadata": {
            "tags": []
          },
          "execution_count": 173
        }
      ]
    },
    {
      "cell_type": "code",
      "metadata": {
        "id": "5fMGB3ROkVnE",
        "colab_type": "code",
        "colab": {}
      },
      "source": [
        "from numpy import array\n",
        "from sklearn.preprocessing import StandardScaler\n",
        "from sklearn.decomposition import PCA"
      ],
      "execution_count": 174,
      "outputs": []
    },
    {
      "cell_type": "code",
      "metadata": {
        "id": "BH5SFSu3lFFT",
        "colab_type": "code",
        "colab": {}
      },
      "source": [
        "data1 = np.array(df)"
      ],
      "execution_count": 175,
      "outputs": []
    },
    {
      "cell_type": "code",
      "metadata": {
        "id": "Exkhg79ulKaR",
        "colab_type": "code",
        "colab": {}
      },
      "source": [
        "scaler = StandardScaler()"
      ],
      "execution_count": 176,
      "outputs": []
    },
    {
      "cell_type": "code",
      "metadata": {
        "id": "GFegIA3ilPtX",
        "colab_type": "code",
        "colab": {}
      },
      "source": [
        "pca = PCA(2)"
      ],
      "execution_count": 177,
      "outputs": []
    },
    {
      "cell_type": "code",
      "metadata": {
        "id": "Bfx2ioqpmAIe",
        "colab_type": "code",
        "colab": {}
      },
      "source": [
        "Z = scaler.fit_transform(data1)"
      ],
      "execution_count": 178,
      "outputs": []
    },
    {
      "cell_type": "code",
      "metadata": {
        "id": "0H4jMBUfl1u9",
        "colab_type": "code",
        "colab": {
          "base_uri": "https://localhost:8080/",
          "height": 170
        },
        "outputId": "20b27dca-c179-4b32-d6a3-e19d72d4baf6"
      },
      "source": [
        "pca.fit(Z)\n",
        "print('Eigenvectors: \\n', pca.components_)\n",
        "print('Eigenvalues: \\n', pca.explained_variance_)"
      ],
      "execution_count": 179,
      "outputs": [
        {
          "output_type": "stream",
          "text": [
            "Eigenvectors: \n",
            " [[-0.15540842 -0.23955631  0.28399812 -0.26531865 -0.27988152 -0.13124643\n",
            "  -0.27869371  0.09386764 -0.25772426 -0.28282143 -0.12252179 -0.25042734\n",
            "  -0.27200933 -0.1823009  -0.27642985  0.22337142 -0.25295581 -0.25242563]\n",
            " [-0.03778702  0.25115353 -0.07784092  0.1348233  -0.00616792 -0.40299476\n",
            "  -0.13486352 -0.45646119 -0.090095   -0.08941312  0.40741787 -0.14778648\n",
            "   0.08687816 -0.33161794 -0.13690705  0.28905929  0.23300673  0.21028198]]\n",
            "Eigenvalues: \n",
            " [15.84412678  5.64386705]\n"
          ],
          "name": "stdout"
        }
      ]
    },
    {
      "cell_type": "code",
      "metadata": {
        "id": "FKiCRtcIqqE6",
        "colab_type": "code",
        "colab": {
          "base_uri": "https://localhost:8080/",
          "height": 34
        },
        "outputId": "d9b6819d-b3a3-4819-cca0-37e3cca1e997"
      },
      "source": [
        "pca.components_.shape"
      ],
      "execution_count": 180,
      "outputs": [
        {
          "output_type": "execute_result",
          "data": {
            "text/plain": [
              "(2, 18)"
            ]
          },
          "metadata": {
            "tags": []
          },
          "execution_count": 180
        }
      ]
    },
    {
      "cell_type": "code",
      "metadata": {
        "id": "uH_llu4UqrPl",
        "colab_type": "code",
        "colab": {
          "base_uri": "https://localhost:8080/",
          "height": 102
        },
        "outputId": "e43898cb-085f-47b9-e580-49efcb2d5a58"
      },
      "source": [
        "B = pca.transform(Z)\n",
        "print('Projected Data: \\n', B)"
      ],
      "execution_count": 181,
      "outputs": [
        {
          "output_type": "stream",
          "text": [
            "Projected Data: \n",
            " [[-0.70881064  0.40794148]\n",
            " [-4.68907411 -1.75426016]\n",
            " [ 0.4104962   3.20114957]\n",
            " [ 4.98738856 -1.85483089]]\n"
          ],
          "name": "stdout"
        }
      ]
    },
    {
      "cell_type": "code",
      "metadata": {
        "id": "Qm9ltVT9qxBR",
        "colab_type": "code",
        "colab": {
          "base_uri": "https://localhost:8080/",
          "height": 265
        },
        "outputId": "badc853c-4ff4-4ec9-f0ab-17a5cab1bf74"
      },
      "source": [
        "plt.scatter(B[:,0], B[:,1])\n",
        "plt.show()"
      ],
      "execution_count": 182,
      "outputs": [
        {
          "output_type": "display_data",
          "data": {
            "image/png": "[encoded data removed]",
            "text/plain": [
              "<Figure size 432x288 with 1 Axes>"
            ]
          },
          "metadata": {
            "tags": [],
            "needs_background": "light"
          }
        }
      ]
    },
    {
      "cell_type": "markdown",
      "metadata": {
        "id": "5U50KZkdJb_s",
        "colab_type": "text"
      },
      "source": [
        "## 3.2 Perform PCA on the data and graph Principal Component 1 against Principal Component 2. \n",
        "\n",
        "This might be helpful:\n",
        "\n",
        "<https://scikit-learn.org/stable/modules/generated/sklearn.decomposition.PCA.html>"
      ]
    },
    {
      "cell_type": "code",
      "metadata": {
        "id": "nFvdFiiuIxiU",
        "colab_type": "code",
        "colab": {}
      },
      "source": [
        "#PCA Process\n",
        "\n",
        "#Separate the data into X (features) and y (target) variables\n",
        "#Center each column at 0 by subtracting its mean\n",
        "#Divide each column by its standard deviation to get Z\n",
        "#Calculate the variance-covariance matrix of Z\n",
        "#Calculate the eigenvectors and eigenvalues of the variance-covariance matrix\n",
        "#Sort the eigenvalue and eigenvector pairs\n",
        "#Use a matrix transformation to project datapoints onto our eigenvector subspace"
      ],
      "execution_count": 183,
      "outputs": []
    },
    {
      "cell_type": "code",
      "metadata": {
        "id": "RqjwVokgP1fL",
        "colab_type": "code",
        "colab": {}
      },
      "source": [
        "Cereals = np.array([1472,1582,1462,1494])"
      ],
      "execution_count": 184,
      "outputs": []
    },
    {
      "cell_type": "code",
      "metadata": {
        "id": "9WNZD6KNDVge",
        "colab_type": "code",
        "colab": {}
      },
      "source": [
        "Soft_Drinks = np.array([1374,1276,1572,1506])"
      ],
      "execution_count": 185,
      "outputs": []
    },
    {
      "cell_type": "code",
      "metadata": {
        "id": "6v5em-mVDlX0",
        "colab_type": "code",
        "colab": {}
      },
      "source": [
        "#df_2dim=pd.DataFrame(word_vecs_2d, columns=['x', 'y'])\n",
        "#df_2dim.index=words\n",
        "#df_2dim"
      ],
      "execution_count": 200,
      "outputs": []
    },
    {
      "cell_type": "code",
      "metadata": {
        "id": "fIEtps8NJDuZ",
        "colab_type": "code",
        "colab": {
          "base_uri": "https://localhost:8080/",
          "height": 68
        },
        "outputId": "b2822ba2-943a-4aa9-f34b-54813a230f03"
      },
      "source": [
        "print(np.mean(Cereals))\n",
        "print('{:.2f}'.format(np.var(Cereals)))\n",
        "print('{:.2f}'.format(np.std(Cereals)))"
      ],
      "execution_count": 187,
      "outputs": [
        {
          "output_type": "stream",
          "text": [
            "1502.5\n",
            "2240.75\n",
            "47.34\n"
          ],
          "name": "stdout"
        }
      ]
    },
    {
      "cell_type": "code",
      "metadata": {
        "id": "7ApTgApBJU9m",
        "colab_type": "code",
        "colab": {
          "base_uri": "https://localhost:8080/",
          "height": 68
        },
        "outputId": "629fd4b7-0dd8-4ac9-c94c-4ea5b72c2853"
      },
      "source": [
        "print(np.mean(Soft_Drinks))\n",
        "print('{:.2f}'.format(np.var(Soft_Drinks)))\n",
        "print('{:.2f}'.format(np.std(Soft_Drinks)))"
      ],
      "execution_count": 188,
      "outputs": [
        {
          "output_type": "stream",
          "text": [
            "1432.0\n",
            "13194.00\n",
            "114.87\n"
          ],
          "name": "stdout"
        }
      ]
    },
    {
      "cell_type": "code",
      "metadata": {
        "id": "yaI7i4-XJsrM",
        "colab_type": "code",
        "colab": {
          "base_uri": "https://localhost:8080/",
          "height": 34
        },
        "outputId": "c6436238-9e05-44b2-f960-3e31e4be3caa"
      },
      "source": [
        "C = np.array([1472-1502,\n",
        "               1582-1502,\n",
        "               1462-1502,\n",
        "               1494-1502]) \n",
        "C"
      ],
      "execution_count": 189,
      "outputs": [
        {
          "output_type": "execute_result",
          "data": {
            "text/plain": [
              "array([-30,  80, -40,  -8])"
            ]
          },
          "metadata": {
            "tags": []
          },
          "execution_count": 189
        }
      ]
    },
    {
      "cell_type": "code",
      "metadata": {
        "id": "339ZiZujLOmc",
        "colab_type": "code",
        "colab": {
          "base_uri": "https://localhost:8080/",
          "height": 34
        },
        "outputId": "b7284d67-2c94-4a53-8ae3-ab5a70cf3902"
      },
      "source": [
        "SD = np.array([1374-1432,\n",
        "               1276-1432,\n",
        "               1572-1432,\n",
        "               1506-1432])\n",
        "SD"
      ],
      "execution_count": 190,
      "outputs": [
        {
          "output_type": "execute_result",
          "data": {
            "text/plain": [
              "array([ -58, -156,  140,   74])"
            ]
          },
          "metadata": {
            "tags": []
          },
          "execution_count": 190
        }
      ]
    },
    {
      "cell_type": "code",
      "metadata": {
        "id": "nMcg_WeZLhUT",
        "colab_type": "code",
        "colab": {
          "base_uri": "https://localhost:8080/",
          "height": 34
        },
        "outputId": "08e5f132-19ed-46c9-b3f5-332cf72664c4"
      },
      "source": [
        "CY = ([1472/47,\n",
        "       1582/47,\n",
        "       1462/47,\n",
        "       1494/47])\n",
        "CY"
      ],
      "execution_count": 191,
      "outputs": [
        {
          "output_type": "execute_result",
          "data": {
            "text/plain": [
              "[31.319148936170212, 33.659574468085104, 31.106382978723403, 31.78723404255319]"
            ]
          },
          "metadata": {
            "tags": []
          },
          "execution_count": 191
        }
      ]
    },
    {
      "cell_type": "code",
      "metadata": {
        "id": "t13-P9U3L6Ou",
        "colab_type": "code",
        "colab": {
          "base_uri": "https://localhost:8080/",
          "height": 34
        },
        "outputId": "a33b252d-336e-4eea-c1d0-3eb93fdfe4f9"
      },
      "source": [
        "SDY = ([1374/114,\n",
        "        1276/114,\n",
        "        1572,114,\n",
        "        1506/114])\n",
        "SDY"
      ],
      "execution_count": 192,
      "outputs": [
        {
          "output_type": "execute_result",
          "data": {
            "text/plain": [
              "[12.052631578947368, 11.192982456140351, 1572, 114, 13.210526315789474]"
            ]
          },
          "metadata": {
            "tags": []
          },
          "execution_count": 192
        }
      ]
    },
    {
      "cell_type": "code",
      "metadata": {
        "id": "X-L55IkWMR_c",
        "colab_type": "code",
        "colab": {
          "base_uri": "https://localhost:8080/",
          "height": 51
        },
        "outputId": "5312cc3b-452a-41b0-a1db-3d6b891a52cb"
      },
      "source": [
        "std_w = df['Cereals'].std(ddof=1)\n",
        "std_g = df['Soft_Drinks'].std(ddof=1)\n",
        "print('{:.4f}'.format(std_w))\n",
        "print('{:.4f}'.format(std_g))"
      ],
      "execution_count": 193,
      "outputs": [
        {
          "output_type": "stream",
          "text": [
            "54.6596\n",
            "140.6129\n"
          ],
          "name": "stdout"
        }
      ]
    },
    {
      "cell_type": "code",
      "metadata": {
        "id": "gZkmfZWoOBiv",
        "colab_type": "code",
        "colab": {
          "base_uri": "https://localhost:8080/",
          "height": 34
        },
        "outputId": "51b8cc23-28a5-4a6b-8477-6a8f94939882"
      },
      "source": [
        "cov_wg = df['Cereals'].cov(df['Soft_Drinks'])\n",
        "print('{:.4f}'.format(cov_wg))"
      ],
      "execution_count": 194,
      "outputs": [
        {
          "output_type": "stream",
          "text": [
            "-6174.0000\n"
          ],
          "name": "stdout"
        }
      ]
    },
    {
      "cell_type": "code",
      "metadata": {
        "id": "rcemWCGoOInT",
        "colab_type": "code",
        "colab": {}
      },
      "source": [
        "denom = std_w*std_g"
      ],
      "execution_count": 195,
      "outputs": []
    },
    {
      "cell_type": "code",
      "metadata": {
        "id": "3HQ5RsQeOM0T",
        "colab_type": "code",
        "colab": {}
      },
      "source": [
        "corr_wg = cov_wg/denom\n",
        "print('{:.6f}'.format(corr_wg))"
      ],
      "execution_count": null,
      "outputs": []
    },
    {
      "cell_type": "code",
      "metadata": {
        "id": "YN9IRXJ6OP-o",
        "colab_type": "code",
        "colab": {
          "base_uri": "https://localhost:8080/",
          "height": 34
        },
        "outputId": "3e3b1034-ab9c-4e83-f82e-26b6e25b85e7"
      },
      "source": [
        "print('{:.6f}'.format(df['Cereals'].corr(df['Soft_Drinks'])))"
      ],
      "execution_count": 197,
      "outputs": [
        {
          "output_type": "stream",
          "text": [
            "-0.803295\n"
          ],
          "name": "stdout"
        }
      ]
    },
    {
      "cell_type": "code",
      "metadata": {
        "id": "rAyvaJzSOXte",
        "colab_type": "code",
        "colab": {
          "base_uri": "https://localhost:8080/",
          "height": 644
        },
        "outputId": "3c5299fd-b154-48e0-c3b7-ce00f35bab31"
      },
      "source": [
        "df.corr()"
      ],
      "execution_count": 198,
      "outputs": [
        {
          "output_type": "execute_result",
          "data": {
            "text/html": [
              "<div>\n",
              "<style scoped>\n",
              "    .dataframe tbody tr th:only-of-type {\n",
              "        vertical-align: middle;\n",
              "    }\n",
              "\n",
              "    .dataframe tbody tr th {\n",
              "        vertical-align: top;\n",
              "    }\n",
              "\n",
              "    .dataframe thead th {\n",
              "        text-align: right;\n",
              "    }\n",
              "</style>\n",
              "<table border=\"1\" class=\"dataframe\">\n",
              "  <thead>\n",
              "    <tr style=\"text-align: right;\">\n",
              "      <th></th>\n",
              "      <th>Country</th>\n",
              "      <th>Cheese</th>\n",
              "      <th>Carcass_Meat</th>\n",
              "      <th>Other_Meat</th>\n",
              "      <th>Fish</th>\n",
              "      <th>Fats_and_Oils</th>\n",
              "      <th>Sugars</th>\n",
              "      <th>Fresh_Potatoes</th>\n",
              "      <th>Fresh_Veg</th>\n",
              "      <th>Other_Veg</th>\n",
              "      <th>Processed_Potatoes</th>\n",
              "      <th>Processed_Veg</th>\n",
              "      <th>Fresh_Fruit</th>\n",
              "      <th>Cereals</th>\n",
              "      <th>Beverages</th>\n",
              "      <th>Soft_Drinks</th>\n",
              "      <th>Alcoholic Drinks</th>\n",
              "      <th>Confectionery</th>\n",
              "    </tr>\n",
              "  </thead>\n",
              "  <tbody>\n",
              "    <tr>\n",
              "      <th>Country</th>\n",
              "      <td>1.000000</td>\n",
              "      <td>0.212234</td>\n",
              "      <td>-0.618112</td>\n",
              "      <td>0.715781</td>\n",
              "      <td>0.297003</td>\n",
              "      <td>0.582978</td>\n",
              "      <td>0.542137</td>\n",
              "      <td>-0.003215</td>\n",
              "      <td>0.137275</td>\n",
              "      <td>0.431396</td>\n",
              "      <td>0.451147</td>\n",
              "      <td>0.147363</td>\n",
              "      <td>0.237833</td>\n",
              "      <td>0.703841</td>\n",
              "      <td>0.626891</td>\n",
              "      <td>-0.264418</td>\n",
              "      <td>0.513225</td>\n",
              "      <td>0.630881</td>\n",
              "    </tr>\n",
              "    <tr>\n",
              "      <th>Cheese</th>\n",
              "      <td>0.212234</td>\n",
              "      <td>1.000000</td>\n",
              "      <td>-0.862690</td>\n",
              "      <td>0.832126</td>\n",
              "      <td>0.849525</td>\n",
              "      <td>-0.129023</td>\n",
              "      <td>0.648391</td>\n",
              "      <td>-0.778579</td>\n",
              "      <td>0.732764</td>\n",
              "      <td>0.738316</td>\n",
              "      <td>0.703960</td>\n",
              "      <td>0.646808</td>\n",
              "      <td>0.934029</td>\n",
              "      <td>0.081982</td>\n",
              "      <td>0.615961</td>\n",
              "      <td>-0.380787</td>\n",
              "      <td>0.945393</td>\n",
              "      <td>0.888819</td>\n",
              "    </tr>\n",
              "    <tr>\n",
              "      <th>Carcass_Meat</th>\n",
              "      <td>-0.618112</td>\n",
              "      <td>-0.862690</td>\n",
              "      <td>1.000000</td>\n",
              "      <td>-0.976938</td>\n",
              "      <td>-0.909362</td>\n",
              "      <td>-0.351585</td>\n",
              "      <td>-0.896977</td>\n",
              "      <td>0.452608</td>\n",
              "      <td>-0.787088</td>\n",
              "      <td>-0.909211</td>\n",
              "      <td>-0.591253</td>\n",
              "      <td>-0.745605</td>\n",
              "      <td>-0.908989</td>\n",
              "      <td>-0.553102</td>\n",
              "      <td>-0.901961</td>\n",
              "      <td>0.629423</td>\n",
              "      <td>-0.942952</td>\n",
              "      <td>-0.950934</td>\n",
              "    </tr>\n",
              "    <tr>\n",
              "      <th>Other_Meat</th>\n",
              "      <td>0.715781</td>\n",
              "      <td>0.832126</td>\n",
              "      <td>-0.976938</td>\n",
              "      <td>1.000000</td>\n",
              "      <td>0.801614</td>\n",
              "      <td>0.280434</td>\n",
              "      <td>0.803764</td>\n",
              "      <td>-0.522462</td>\n",
              "      <td>0.637590</td>\n",
              "      <td>0.803843</td>\n",
              "      <td>0.720289</td>\n",
              "      <td>0.586676</td>\n",
              "      <td>0.819486</td>\n",
              "      <td>0.495428</td>\n",
              "      <td>0.826465</td>\n",
              "      <td>-0.471286</td>\n",
              "      <td>0.959662</td>\n",
              "      <td>0.985262</td>\n",
              "    </tr>\n",
              "    <tr>\n",
              "      <th>Fish</th>\n",
              "      <td>0.297003</td>\n",
              "      <td>0.849525</td>\n",
              "      <td>-0.909362</td>\n",
              "      <td>0.801614</td>\n",
              "      <td>1.000000</td>\n",
              "      <td>0.360763</td>\n",
              "      <td>0.928576</td>\n",
              "      <td>-0.330614</td>\n",
              "      <td>0.969808</td>\n",
              "      <td>0.975823</td>\n",
              "      <td>0.306244</td>\n",
              "      <td>0.942568</td>\n",
              "      <td>0.980683</td>\n",
              "      <td>0.516830</td>\n",
              "      <td>0.893420</td>\n",
              "      <td>-0.811154</td>\n",
              "      <td>0.809173</td>\n",
              "      <td>0.772078</td>\n",
              "    </tr>\n",
              "    <tr>\n",
              "      <th>Fats_and_Oils</th>\n",
              "      <td>0.582978</td>\n",
              "      <td>-0.129023</td>\n",
              "      <td>-0.351585</td>\n",
              "      <td>0.280434</td>\n",
              "      <td>0.360763</td>\n",
              "      <td>1.000000</td>\n",
              "      <td>0.667012</td>\n",
              "      <td>0.670188</td>\n",
              "      <td>0.417721</td>\n",
              "      <td>0.552524</td>\n",
              "      <td>-0.390607</td>\n",
              "      <td>0.510352</td>\n",
              "      <td>0.178144</td>\n",
              "      <td>0.972709</td>\n",
              "      <td>0.701577</td>\n",
              "      <td>-0.765557</td>\n",
              "      <td>0.029600</td>\n",
              "      <td>0.112458</td>\n",
              "    </tr>\n",
              "    <tr>\n",
              "      <th>Sugars</th>\n",
              "      <td>0.542137</td>\n",
              "      <td>0.648391</td>\n",
              "      <td>-0.896977</td>\n",
              "      <td>0.803764</td>\n",
              "      <td>0.928576</td>\n",
              "      <td>0.667012</td>\n",
              "      <td>1.000000</td>\n",
              "      <td>-0.049479</td>\n",
              "      <td>0.902005</td>\n",
              "      <td>0.986798</td>\n",
              "      <td>0.175599</td>\n",
              "      <td>0.910893</td>\n",
              "      <td>0.849141</td>\n",
              "      <td>0.795661</td>\n",
              "      <td>0.994408</td>\n",
              "      <td>-0.903142</td>\n",
              "      <td>0.705405</td>\n",
              "      <td>0.717580</td>\n",
              "    </tr>\n",
              "    <tr>\n",
              "      <th>Fresh_Potatoes</th>\n",
              "      <td>-0.003215</td>\n",
              "      <td>-0.778579</td>\n",
              "      <td>0.452608</td>\n",
              "      <td>-0.522462</td>\n",
              "      <td>-0.330614</td>\n",
              "      <td>0.670188</td>\n",
              "      <td>-0.049479</td>\n",
              "      <td>1.000000</td>\n",
              "      <td>-0.161905</td>\n",
              "      <td>-0.157162</td>\n",
              "      <td>-0.884013</td>\n",
              "      <td>-0.040327</td>\n",
              "      <td>-0.505699</td>\n",
              "      <td>0.480548</td>\n",
              "      <td>-0.030832</td>\n",
              "      <td>-0.282654</td>\n",
              "      <td>-0.720911</td>\n",
              "      <td>-0.660613</td>\n",
              "    </tr>\n",
              "    <tr>\n",
              "      <th>Fresh_Veg</th>\n",
              "      <td>0.137275</td>\n",
              "      <td>0.732764</td>\n",
              "      <td>-0.787088</td>\n",
              "      <td>0.637590</td>\n",
              "      <td>0.969808</td>\n",
              "      <td>0.417721</td>\n",
              "      <td>0.902005</td>\n",
              "      <td>-0.161905</td>\n",
              "      <td>1.000000</td>\n",
              "      <td>0.952799</td>\n",
              "      <td>0.074995</td>\n",
              "      <td>0.992494</td>\n",
              "      <td>0.925073</td>\n",
              "      <td>0.527881</td>\n",
              "      <td>0.851597</td>\n",
              "      <td>-0.891379</td>\n",
              "      <td>0.644203</td>\n",
              "      <td>0.593810</td>\n",
              "    </tr>\n",
              "    <tr>\n",
              "      <th>Other_Veg</th>\n",
              "      <td>0.431396</td>\n",
              "      <td>0.738316</td>\n",
              "      <td>-0.909211</td>\n",
              "      <td>0.803843</td>\n",
              "      <td>0.975823</td>\n",
              "      <td>0.552524</td>\n",
              "      <td>0.986798</td>\n",
              "      <td>-0.157162</td>\n",
              "      <td>0.952799</td>\n",
              "      <td>1.000000</td>\n",
              "      <td>0.214411</td>\n",
              "      <td>0.947977</td>\n",
              "      <td>0.918577</td>\n",
              "      <td>0.691439</td>\n",
              "      <td>0.966777</td>\n",
              "      <td>-0.889024</td>\n",
              "      <td>0.749541</td>\n",
              "      <td>0.739247</td>\n",
              "    </tr>\n",
              "    <tr>\n",
              "      <th>Processed_Potatoes</th>\n",
              "      <td>0.451147</td>\n",
              "      <td>0.703960</td>\n",
              "      <td>-0.591253</td>\n",
              "      <td>0.720289</td>\n",
              "      <td>0.306244</td>\n",
              "      <td>-0.390607</td>\n",
              "      <td>0.175599</td>\n",
              "      <td>-0.884013</td>\n",
              "      <td>0.074995</td>\n",
              "      <td>0.214411</td>\n",
              "      <td>1.000000</td>\n",
              "      <td>-0.029240</td>\n",
              "      <td>0.443040</td>\n",
              "      <td>-0.177593</td>\n",
              "      <td>0.205132</td>\n",
              "      <td>0.253011</td>\n",
              "      <td>0.804319</td>\n",
              "      <td>0.811539</td>\n",
              "    </tr>\n",
              "    <tr>\n",
              "      <th>Processed_Veg</th>\n",
              "      <td>0.147363</td>\n",
              "      <td>0.646808</td>\n",
              "      <td>-0.745605</td>\n",
              "      <td>0.586676</td>\n",
              "      <td>0.942568</td>\n",
              "      <td>0.510352</td>\n",
              "      <td>0.910893</td>\n",
              "      <td>-0.040327</td>\n",
              "      <td>0.992494</td>\n",
              "      <td>0.947977</td>\n",
              "      <td>-0.029240</td>\n",
              "      <td>1.000000</td>\n",
              "      <td>0.875189</td>\n",
              "      <td>0.599426</td>\n",
              "      <td>0.862978</td>\n",
              "      <td>-0.938658</td>\n",
              "      <td>0.567059</td>\n",
              "      <td>0.524593</td>\n",
              "    </tr>\n",
              "    <tr>\n",
              "      <th>Fresh_Fruit</th>\n",
              "      <td>0.237833</td>\n",
              "      <td>0.934029</td>\n",
              "      <td>-0.908989</td>\n",
              "      <td>0.819486</td>\n",
              "      <td>0.980683</td>\n",
              "      <td>0.178144</td>\n",
              "      <td>0.849141</td>\n",
              "      <td>-0.505699</td>\n",
              "      <td>0.925073</td>\n",
              "      <td>0.918577</td>\n",
              "      <td>0.443040</td>\n",
              "      <td>0.875189</td>\n",
              "      <td>1.000000</td>\n",
              "      <td>0.355948</td>\n",
              "      <td>0.809662</td>\n",
              "      <td>-0.684589</td>\n",
              "      <td>0.873773</td>\n",
              "      <td>0.822938</td>\n",
              "    </tr>\n",
              "    <tr>\n",
              "      <th>Cereals</th>\n",
              "      <td>0.703841</td>\n",
              "      <td>0.081982</td>\n",
              "      <td>-0.553102</td>\n",
              "      <td>0.495428</td>\n",
              "      <td>0.516830</td>\n",
              "      <td>0.972709</td>\n",
              "      <td>0.795661</td>\n",
              "      <td>0.480548</td>\n",
              "      <td>0.527881</td>\n",
              "      <td>0.691439</td>\n",
              "      <td>-0.177593</td>\n",
              "      <td>0.599426</td>\n",
              "      <td>0.355948</td>\n",
              "      <td>1.000000</td>\n",
              "      <td>0.832998</td>\n",
              "      <td>-0.803295</td>\n",
              "      <td>0.257943</td>\n",
              "      <td>0.339794</td>\n",
              "    </tr>\n",
              "    <tr>\n",
              "      <th>Beverages</th>\n",
              "      <td>0.626891</td>\n",
              "      <td>0.615961</td>\n",
              "      <td>-0.901961</td>\n",
              "      <td>0.826465</td>\n",
              "      <td>0.893420</td>\n",
              "      <td>0.701577</td>\n",
              "      <td>0.994408</td>\n",
              "      <td>-0.030832</td>\n",
              "      <td>0.851597</td>\n",
              "      <td>0.966777</td>\n",
              "      <td>0.205132</td>\n",
              "      <td>0.862978</td>\n",
              "      <td>0.809662</td>\n",
              "      <td>0.832998</td>\n",
              "      <td>1.000000</td>\n",
              "      <td>-0.875278</td>\n",
              "      <td>0.707031</td>\n",
              "      <td>0.733831</td>\n",
              "    </tr>\n",
              "    <tr>\n",
              "      <th>Soft_Drinks</th>\n",
              "      <td>-0.264418</td>\n",
              "      <td>-0.380787</td>\n",
              "      <td>0.629423</td>\n",
              "      <td>-0.471286</td>\n",
              "      <td>-0.811154</td>\n",
              "      <td>-0.765557</td>\n",
              "      <td>-0.903142</td>\n",
              "      <td>-0.282654</td>\n",
              "      <td>-0.891379</td>\n",
              "      <td>-0.889024</td>\n",
              "      <td>0.253011</td>\n",
              "      <td>-0.938658</td>\n",
              "      <td>-0.684589</td>\n",
              "      <td>-0.803295</td>\n",
              "      <td>-0.875278</td>\n",
              "      <td>1.000000</td>\n",
              "      <td>-0.363423</td>\n",
              "      <td>-0.358210</td>\n",
              "    </tr>\n",
              "    <tr>\n",
              "      <th>Alcoholic Drinks</th>\n",
              "      <td>0.513225</td>\n",
              "      <td>0.945393</td>\n",
              "      <td>-0.942952</td>\n",
              "      <td>0.959662</td>\n",
              "      <td>0.809173</td>\n",
              "      <td>0.029600</td>\n",
              "      <td>0.705405</td>\n",
              "      <td>-0.720911</td>\n",
              "      <td>0.644203</td>\n",
              "      <td>0.749541</td>\n",
              "      <td>0.804319</td>\n",
              "      <td>0.567059</td>\n",
              "      <td>0.873773</td>\n",
              "      <td>0.257943</td>\n",
              "      <td>0.707031</td>\n",
              "      <td>-0.363423</td>\n",
              "      <td>1.000000</td>\n",
              "      <td>0.989552</td>\n",
              "    </tr>\n",
              "    <tr>\n",
              "      <th>Confectionery</th>\n",
              "      <td>0.630881</td>\n",
              "      <td>0.888819</td>\n",
              "      <td>-0.950934</td>\n",
              "      <td>0.985262</td>\n",
              "      <td>0.772078</td>\n",
              "      <td>0.112458</td>\n",
              "      <td>0.717580</td>\n",
              "      <td>-0.660613</td>\n",
              "      <td>0.593810</td>\n",
              "      <td>0.739247</td>\n",
              "      <td>0.811539</td>\n",
              "      <td>0.524593</td>\n",
              "      <td>0.822938</td>\n",
              "      <td>0.339794</td>\n",
              "      <td>0.733831</td>\n",
              "      <td>-0.358210</td>\n",
              "      <td>0.989552</td>\n",
              "      <td>1.000000</td>\n",
              "    </tr>\n",
              "  </tbody>\n",
              "</table>\n",
              "</div>"
            ],
            "text/plain": [
              "                     Country    Cheese  ...  Alcoholic Drinks  Confectionery\n",
              "Country             1.000000  0.212234  ...          0.513225       0.630881\n",
              "Cheese              0.212234  1.000000  ...          0.945393       0.888819\n",
              "Carcass_Meat       -0.618112 -0.862690  ...         -0.942952      -0.950934\n",
              "Other_Meat          0.715781  0.832126  ...          0.959662       0.985262\n",
              "Fish                0.297003  0.849525  ...          0.809173       0.772078\n",
              "Fats_and_Oils       0.582978 -0.129023  ...          0.029600       0.112458\n",
              "Sugars              0.542137  0.648391  ...          0.705405       0.717580\n",
              "Fresh_Potatoes     -0.003215 -0.778579  ...         -0.720911      -0.660613\n",
              "Fresh_Veg           0.137275  0.732764  ...          0.644203       0.593810\n",
              "Other_Veg           0.431396  0.738316  ...          0.749541       0.739247\n",
              "Processed_Potatoes  0.451147  0.703960  ...          0.804319       0.811539\n",
              "Processed_Veg       0.147363  0.646808  ...          0.567059       0.524593\n",
              "Fresh_Fruit         0.237833  0.934029  ...          0.873773       0.822938\n",
              "Cereals             0.703841  0.081982  ...          0.257943       0.339794\n",
              "Beverages           0.626891  0.615961  ...          0.707031       0.733831\n",
              "Soft_Drinks        -0.264418 -0.380787  ...         -0.363423      -0.358210\n",
              "Alcoholic Drinks    0.513225  0.945393  ...          1.000000       0.989552\n",
              "Confectionery       0.630881  0.888819  ...          0.989552       1.000000\n",
              "\n",
              "[18 rows x 18 columns]"
            ]
          },
          "metadata": {
            "tags": []
          },
          "execution_count": 198
        }
      ]
    },
    {
      "cell_type": "code",
      "metadata": {
        "id": "NJt2ywBIOcF3",
        "colab_type": "code",
        "colab": {
          "base_uri": "https://localhost:8080/",
          "height": 644
        },
        "outputId": "2a2ee368-7318-4adb-bec5-1eca83cc2597"
      },
      "source": [
        "df.cov()"
      ],
      "execution_count": 199,
      "outputs": [
        {
          "output_type": "execute_result",
          "data": {
            "text/html": [
              "<div>\n",
              "<style scoped>\n",
              "    .dataframe tbody tr th:only-of-type {\n",
              "        vertical-align: middle;\n",
              "    }\n",
              "\n",
              "    .dataframe tbody tr th {\n",
              "        vertical-align: top;\n",
              "    }\n",
              "\n",
              "    .dataframe thead th {\n",
              "        text-align: right;\n",
              "    }\n",
              "</style>\n",
              "<table border=\"1\" class=\"dataframe\">\n",
              "  <thead>\n",
              "    <tr style=\"text-align: right;\">\n",
              "      <th></th>\n",
              "      <th>Country</th>\n",
              "      <th>Cheese</th>\n",
              "      <th>Carcass_Meat</th>\n",
              "      <th>Other_Meat</th>\n",
              "      <th>Fish</th>\n",
              "      <th>Fats_and_Oils</th>\n",
              "      <th>Sugars</th>\n",
              "      <th>Fresh_Potatoes</th>\n",
              "      <th>Fresh_Veg</th>\n",
              "      <th>Other_Veg</th>\n",
              "      <th>Processed_Potatoes</th>\n",
              "      <th>Processed_Veg</th>\n",
              "      <th>Fresh_Fruit</th>\n",
              "      <th>Cereals</th>\n",
              "      <th>Beverages</th>\n",
              "      <th>Soft_Drinks</th>\n",
              "      <th>Alcoholic Drinks</th>\n",
              "      <th>Confectionery</th>\n",
              "    </tr>\n",
              "  </thead>\n",
              "  <tbody>\n",
              "    <tr>\n",
              "      <th>Country</th>\n",
              "      <td>1.666667</td>\n",
              "      <td>5.166667</td>\n",
              "      <td>-13.166667</td>\n",
              "      <td>86.333333</td>\n",
              "      <td>11.333333</td>\n",
              "      <td>16.833333</td>\n",
              "      <td>10.833333</td>\n",
              "      <td>-0.833333</td>\n",
              "      <td>10.666667</td>\n",
              "      <td>51.500000</td>\n",
              "      <td>8.000000</td>\n",
              "      <td>3.000000</td>\n",
              "      <td>64.666667</td>\n",
              "      <td>49.666667</td>\n",
              "      <td>9.000000</td>\n",
              "      <td>-48.000000</td>\n",
              "      <td>103.833333</td>\n",
              "      <td>8.500000</td>\n",
              "    </tr>\n",
              "    <tr>\n",
              "      <th>Cheese</th>\n",
              "      <td>5.166667</td>\n",
              "      <td>355.583333</td>\n",
              "      <td>-268.416667</td>\n",
              "      <td>1466.000000</td>\n",
              "      <td>473.500000</td>\n",
              "      <td>-54.416667</td>\n",
              "      <td>189.250000</td>\n",
              "      <td>-2947.416667</td>\n",
              "      <td>831.666667</td>\n",
              "      <td>1287.416667</td>\n",
              "      <td>182.333333</td>\n",
              "      <td>192.333333</td>\n",
              "      <td>3709.500000</td>\n",
              "      <td>84.500000</td>\n",
              "      <td>129.166667</td>\n",
              "      <td>-1009.666667</td>\n",
              "      <td>2793.750000</td>\n",
              "      <td>174.916667</td>\n",
              "    </tr>\n",
              "    <tr>\n",
              "      <th>Carcass_Meat</th>\n",
              "      <td>-13.166667</td>\n",
              "      <td>-268.416667</td>\n",
              "      <td>272.250000</td>\n",
              "      <td>-1506.000000</td>\n",
              "      <td>-443.500000</td>\n",
              "      <td>-129.750000</td>\n",
              "      <td>-229.083333</td>\n",
              "      <td>1499.250000</td>\n",
              "      <td>-781.666667</td>\n",
              "      <td>-1387.250000</td>\n",
              "      <td>-134.000000</td>\n",
              "      <td>-194.000000</td>\n",
              "      <td>-3158.833333</td>\n",
              "      <td>-498.833333</td>\n",
              "      <td>-165.500000</td>\n",
              "      <td>1460.333333</td>\n",
              "      <td>-2438.250000</td>\n",
              "      <td>-163.750000</td>\n",
              "    </tr>\n",
              "    <tr>\n",
              "      <th>Other_Meat</th>\n",
              "      <td>86.333333</td>\n",
              "      <td>1466.000000</td>\n",
              "      <td>-1506.000000</td>\n",
              "      <td>8728.666667</td>\n",
              "      <td>2213.666667</td>\n",
              "      <td>586.000000</td>\n",
              "      <td>1162.333333</td>\n",
              "      <td>-9799.333333</td>\n",
              "      <td>3585.333333</td>\n",
              "      <td>6944.666667</td>\n",
              "      <td>924.333333</td>\n",
              "      <td>864.333333</td>\n",
              "      <td>16125.000000</td>\n",
              "      <td>2530.000000</td>\n",
              "      <td>858.666667</td>\n",
              "      <td>-6191.333333</td>\n",
              "      <td>14050.666667</td>\n",
              "      <td>960.666667</td>\n",
              "    </tr>\n",
              "    <tr>\n",
              "      <th>Fish</th>\n",
              "      <td>11.333333</td>\n",
              "      <td>473.500000</td>\n",
              "      <td>-443.500000</td>\n",
              "      <td>2213.666667</td>\n",
              "      <td>873.666667</td>\n",
              "      <td>238.500000</td>\n",
              "      <td>424.833333</td>\n",
              "      <td>-1961.833333</td>\n",
              "      <td>1725.333333</td>\n",
              "      <td>2667.166667</td>\n",
              "      <td>124.333333</td>\n",
              "      <td>439.333333</td>\n",
              "      <td>6105.000000</td>\n",
              "      <td>835.000000</td>\n",
              "      <td>293.666667</td>\n",
              "      <td>-3371.333333</td>\n",
              "      <td>3748.166667</td>\n",
              "      <td>238.166667</td>\n",
              "    </tr>\n",
              "    <tr>\n",
              "      <th>Fats_and_Oils</th>\n",
              "      <td>16.833333</td>\n",
              "      <td>-54.416667</td>\n",
              "      <td>-129.750000</td>\n",
              "      <td>586.000000</td>\n",
              "      <td>238.500000</td>\n",
              "      <td>500.250000</td>\n",
              "      <td>230.916667</td>\n",
              "      <td>3009.250000</td>\n",
              "      <td>562.333333</td>\n",
              "      <td>1142.750000</td>\n",
              "      <td>-120.000000</td>\n",
              "      <td>180.000000</td>\n",
              "      <td>839.166667</td>\n",
              "      <td>1189.166667</td>\n",
              "      <td>174.500000</td>\n",
              "      <td>-2407.666667</td>\n",
              "      <td>103.750000</td>\n",
              "      <td>26.250000</td>\n",
              "    </tr>\n",
              "    <tr>\n",
              "      <th>Sugars</th>\n",
              "      <td>10.833333</td>\n",
              "      <td>189.250000</td>\n",
              "      <td>-229.083333</td>\n",
              "      <td>1162.333333</td>\n",
              "      <td>424.833333</td>\n",
              "      <td>230.916667</td>\n",
              "      <td>239.583333</td>\n",
              "      <td>-153.750000</td>\n",
              "      <td>840.333333</td>\n",
              "      <td>1412.416667</td>\n",
              "      <td>37.333333</td>\n",
              "      <td>222.333333</td>\n",
              "      <td>2768.166667</td>\n",
              "      <td>673.166667</td>\n",
              "      <td>171.166667</td>\n",
              "      <td>-1965.666667</td>\n",
              "      <td>1711.083333</td>\n",
              "      <td>115.916667</td>\n",
              "    </tr>\n",
              "    <tr>\n",
              "      <th>Fresh_Potatoes</th>\n",
              "      <td>-0.833333</td>\n",
              "      <td>-2947.416667</td>\n",
              "      <td>1499.250000</td>\n",
              "      <td>-9799.333333</td>\n",
              "      <td>-1961.833333</td>\n",
              "      <td>3009.250000</td>\n",
              "      <td>-153.750000</td>\n",
              "      <td>40302.916667</td>\n",
              "      <td>-1956.333333</td>\n",
              "      <td>-2917.583333</td>\n",
              "      <td>-2437.666667</td>\n",
              "      <td>-127.666667</td>\n",
              "      <td>-21381.833333</td>\n",
              "      <td>5273.166667</td>\n",
              "      <td>-68.833333</td>\n",
              "      <td>-7979.000000</td>\n",
              "      <td>-22680.583333</td>\n",
              "      <td>-1384.083333</td>\n",
              "    </tr>\n",
              "    <tr>\n",
              "      <th>Fresh_Veg</th>\n",
              "      <td>10.666667</td>\n",
              "      <td>831.666667</td>\n",
              "      <td>-781.666667</td>\n",
              "      <td>3585.333333</td>\n",
              "      <td>1725.333333</td>\n",
              "      <td>562.333333</td>\n",
              "      <td>840.333333</td>\n",
              "      <td>-1956.333333</td>\n",
              "      <td>3622.666667</td>\n",
              "      <td>5303.000000</td>\n",
              "      <td>62.000000</td>\n",
              "      <td>942.000000</td>\n",
              "      <td>11726.666667</td>\n",
              "      <td>1736.666667</td>\n",
              "      <td>570.000000</td>\n",
              "      <td>-7544.000000</td>\n",
              "      <td>6076.333333</td>\n",
              "      <td>373.000000</td>\n",
              "    </tr>\n",
              "    <tr>\n",
              "      <th>Other_Veg</th>\n",
              "      <td>51.500000</td>\n",
              "      <td>1287.416667</td>\n",
              "      <td>-1387.250000</td>\n",
              "      <td>6944.666667</td>\n",
              "      <td>2667.166667</td>\n",
              "      <td>1142.750000</td>\n",
              "      <td>1412.416667</td>\n",
              "      <td>-2917.583333</td>\n",
              "      <td>5303.000000</td>\n",
              "      <td>8550.916667</td>\n",
              "      <td>272.333333</td>\n",
              "      <td>1382.333333</td>\n",
              "      <td>17889.833333</td>\n",
              "      <td>3494.833333</td>\n",
              "      <td>994.166667</td>\n",
              "      <td>-11559.666667</td>\n",
              "      <td>10861.916667</td>\n",
              "      <td>713.416667</td>\n",
              "    </tr>\n",
              "    <tr>\n",
              "      <th>Processed_Potatoes</th>\n",
              "      <td>8.000000</td>\n",
              "      <td>182.333333</td>\n",
              "      <td>-134.000000</td>\n",
              "      <td>924.333333</td>\n",
              "      <td>124.333333</td>\n",
              "      <td>-120.000000</td>\n",
              "      <td>37.333333</td>\n",
              "      <td>-2437.666667</td>\n",
              "      <td>62.000000</td>\n",
              "      <td>272.333333</td>\n",
              "      <td>188.666667</td>\n",
              "      <td>-6.333333</td>\n",
              "      <td>1281.666667</td>\n",
              "      <td>-133.333333</td>\n",
              "      <td>31.333333</td>\n",
              "      <td>488.666667</td>\n",
              "      <td>1731.333333</td>\n",
              "      <td>116.333333</td>\n",
              "    </tr>\n",
              "    <tr>\n",
              "      <th>Processed_Veg</th>\n",
              "      <td>3.000000</td>\n",
              "      <td>192.333333</td>\n",
              "      <td>-194.000000</td>\n",
              "      <td>864.333333</td>\n",
              "      <td>439.333333</td>\n",
              "      <td>180.000000</td>\n",
              "      <td>222.333333</td>\n",
              "      <td>-127.666667</td>\n",
              "      <td>942.000000</td>\n",
              "      <td>1382.333333</td>\n",
              "      <td>-6.333333</td>\n",
              "      <td>248.666667</td>\n",
              "      <td>2906.666667</td>\n",
              "      <td>516.666667</td>\n",
              "      <td>151.333333</td>\n",
              "      <td>-2081.333333</td>\n",
              "      <td>1401.333333</td>\n",
              "      <td>86.333333</td>\n",
              "    </tr>\n",
              "    <tr>\n",
              "      <th>Fresh_Fruit</th>\n",
              "      <td>64.666667</td>\n",
              "      <td>3709.500000</td>\n",
              "      <td>-3158.833333</td>\n",
              "      <td>16125.000000</td>\n",
              "      <td>6105.000000</td>\n",
              "      <td>839.166667</td>\n",
              "      <td>2768.166667</td>\n",
              "      <td>-21381.833333</td>\n",
              "      <td>11726.666667</td>\n",
              "      <td>17889.833333</td>\n",
              "      <td>1281.666667</td>\n",
              "      <td>2906.666667</td>\n",
              "      <td>44357.666667</td>\n",
              "      <td>4097.666667</td>\n",
              "      <td>1896.333333</td>\n",
              "      <td>-20274.000000</td>\n",
              "      <td>28839.500000</td>\n",
              "      <td>1808.833333</td>\n",
              "    </tr>\n",
              "    <tr>\n",
              "      <th>Cereals</th>\n",
              "      <td>49.666667</td>\n",
              "      <td>84.500000</td>\n",
              "      <td>-498.833333</td>\n",
              "      <td>2530.000000</td>\n",
              "      <td>835.000000</td>\n",
              "      <td>1189.166667</td>\n",
              "      <td>673.166667</td>\n",
              "      <td>5273.166667</td>\n",
              "      <td>1736.666667</td>\n",
              "      <td>3494.833333</td>\n",
              "      <td>-133.333333</td>\n",
              "      <td>516.666667</td>\n",
              "      <td>4097.666667</td>\n",
              "      <td>2987.666667</td>\n",
              "      <td>506.333333</td>\n",
              "      <td>-6174.000000</td>\n",
              "      <td>2209.500000</td>\n",
              "      <td>193.833333</td>\n",
              "    </tr>\n",
              "    <tr>\n",
              "      <th>Beverages</th>\n",
              "      <td>9.000000</td>\n",
              "      <td>129.166667</td>\n",
              "      <td>-165.500000</td>\n",
              "      <td>858.666667</td>\n",
              "      <td>293.666667</td>\n",
              "      <td>174.500000</td>\n",
              "      <td>171.166667</td>\n",
              "      <td>-68.833333</td>\n",
              "      <td>570.000000</td>\n",
              "      <td>994.166667</td>\n",
              "      <td>31.333333</td>\n",
              "      <td>151.333333</td>\n",
              "      <td>1896.333333</td>\n",
              "      <td>506.333333</td>\n",
              "      <td>123.666667</td>\n",
              "      <td>-1368.666667</td>\n",
              "      <td>1232.166667</td>\n",
              "      <td>85.166667</td>\n",
              "    </tr>\n",
              "    <tr>\n",
              "      <th>Soft_Drinks</th>\n",
              "      <td>-48.000000</td>\n",
              "      <td>-1009.666667</td>\n",
              "      <td>1460.333333</td>\n",
              "      <td>-6191.333333</td>\n",
              "      <td>-3371.333333</td>\n",
              "      <td>-2407.666667</td>\n",
              "      <td>-1965.666667</td>\n",
              "      <td>-7979.000000</td>\n",
              "      <td>-7544.000000</td>\n",
              "      <td>-11559.666667</td>\n",
              "      <td>488.666667</td>\n",
              "      <td>-2081.333333</td>\n",
              "      <td>-20274.000000</td>\n",
              "      <td>-6174.000000</td>\n",
              "      <td>-1368.666667</td>\n",
              "      <td>19772.000000</td>\n",
              "      <td>-8008.333333</td>\n",
              "      <td>-525.666667</td>\n",
              "    </tr>\n",
              "    <tr>\n",
              "      <th>Alcoholic Drinks</th>\n",
              "      <td>103.833333</td>\n",
              "      <td>2793.750000</td>\n",
              "      <td>-2438.250000</td>\n",
              "      <td>14050.666667</td>\n",
              "      <td>3748.166667</td>\n",
              "      <td>103.750000</td>\n",
              "      <td>1711.083333</td>\n",
              "      <td>-22680.583333</td>\n",
              "      <td>6076.333333</td>\n",
              "      <td>10861.916667</td>\n",
              "      <td>1731.333333</td>\n",
              "      <td>1401.333333</td>\n",
              "      <td>28839.500000</td>\n",
              "      <td>2209.500000</td>\n",
              "      <td>1232.166667</td>\n",
              "      <td>-8008.333333</td>\n",
              "      <td>24558.916667</td>\n",
              "      <td>1618.416667</td>\n",
              "    </tr>\n",
              "    <tr>\n",
              "      <th>Confectionery</th>\n",
              "      <td>8.500000</td>\n",
              "      <td>174.916667</td>\n",
              "      <td>-163.750000</td>\n",
              "      <td>960.666667</td>\n",
              "      <td>238.166667</td>\n",
              "      <td>26.250000</td>\n",
              "      <td>115.916667</td>\n",
              "      <td>-1384.083333</td>\n",
              "      <td>373.000000</td>\n",
              "      <td>713.416667</td>\n",
              "      <td>116.333333</td>\n",
              "      <td>86.333333</td>\n",
              "      <td>1808.833333</td>\n",
              "      <td>193.833333</td>\n",
              "      <td>85.166667</td>\n",
              "      <td>-525.666667</td>\n",
              "      <td>1618.416667</td>\n",
              "      <td>108.916667</td>\n",
              "    </tr>\n",
              "  </tbody>\n",
              "</table>\n",
              "</div>"
            ],
            "text/plain": [
              "                       Country       Cheese  ...  Alcoholic Drinks  Confectionery\n",
              "Country               1.666667     5.166667  ...        103.833333       8.500000\n",
              "Cheese                5.166667   355.583333  ...       2793.750000     174.916667\n",
              "Carcass_Meat        -13.166667  -268.416667  ...      -2438.250000    -163.750000\n",
              "Other_Meat           86.333333  1466.000000  ...      14050.666667     960.666667\n",
              "Fish                 11.333333   473.500000  ...       3748.166667     238.166667\n",
              "Fats_and_Oils        16.833333   -54.416667  ...        103.750000      26.250000\n",
              "Sugars               10.833333   189.250000  ...       1711.083333     115.916667\n",
              "Fresh_Potatoes       -0.833333 -2947.416667  ...     -22680.583333   -1384.083333\n",
              "Fresh_Veg            10.666667   831.666667  ...       6076.333333     373.000000\n",
              "Other_Veg            51.500000  1287.416667  ...      10861.916667     713.416667\n",
              "Processed_Potatoes    8.000000   182.333333  ...       1731.333333     116.333333\n",
              "Processed_Veg         3.000000   192.333333  ...       1401.333333      86.333333\n",
              "Fresh_Fruit          64.666667  3709.500000  ...      28839.500000    1808.833333\n",
              "Cereals              49.666667    84.500000  ...       2209.500000     193.833333\n",
              "Beverages             9.000000   129.166667  ...       1232.166667      85.166667\n",
              "Soft_Drinks         -48.000000 -1009.666667  ...      -8008.333333    -525.666667\n",
              "Alcoholic Drinks    103.833333  2793.750000  ...      24558.916667    1618.416667\n",
              "Confectionery         8.500000   174.916667  ...       1618.416667     108.916667\n",
              "\n",
              "[18 rows x 18 columns]"
            ]
          },
          "metadata": {
            "tags": []
          },
          "execution_count": 199
        }
      ]
    },
    {
      "cell_type": "markdown",
      "metadata": {
        "id": "m_sdj4vvG_tg",
        "colab_type": "text"
      },
      "source": [
        "## 3.3 What are Eigenvalues and Eigenvectors? -In general, not just in PCA."
      ]
    },
    {
      "cell_type": "markdown",
      "metadata": {
        "id": "QlhJnyR2HUTR",
        "colab_type": "text"
      },
      "source": [
        "Your Answer Here"
      ]
    },
    {
      "cell_type": "code",
      "metadata": {
        "id": "EftAsfFWrrFV",
        "colab_type": "code",
        "colab": {}
      },
      "source": [
        "##See above"
      ],
      "execution_count": null,
      "outputs": []
    },
    {
      "cell_type": "code",
      "metadata": {
        "id": "ZMevi5BcEWjd",
        "colab_type": "code",
        "colab": {
          "base_uri": "https://localhost:8080/",
          "height": 51
        },
        "outputId": "b5be6819-9bb1-48e5-9431-92d315527cb1"
      },
      "source": [
        "T = np.array([[1472,1582,1462,1494], [1374,1276,1572,1506]])\n",
        "T"
      ],
      "execution_count": 201,
      "outputs": [
        {
          "output_type": "execute_result",
          "data": {
            "text/plain": [
              "array([[1472, 1582, 1462, 1494],\n",
              "       [1374, 1276, 1572, 1506]])"
            ]
          },
          "metadata": {
            "tags": []
          },
          "execution_count": 201
        }
      ]
    },
    {
      "cell_type": "code",
      "metadata": {
        "id": "-FXggrwrR5GC",
        "colab_type": "code",
        "colab": {
          "base_uri": "https://localhost:8080/",
          "height": 119
        },
        "outputId": "2d2fd986-03a6-4c7a-afb4-8c0c9b6cc641"
      },
      "source": [
        "P = np.random.randint(1,5,(3,3))\n",
        "w, v = np.linalg.eig(P)\n",
        "D=np.diag(w)\n",
        "print(P)\n",
        "print(D)"
      ],
      "execution_count": 208,
      "outputs": [
        {
          "output_type": "stream",
          "text": [
            "[[3 2 2]\n",
            " [3 3 2]\n",
            " [3 2 4]]\n",
            "[[7.95869772 0.         0.        ]\n",
            " [0.         0.48414712 0.        ]\n",
            " [0.         0.         1.55715517]]\n"
          ],
          "name": "stdout"
        }
      ]
    },
    {
      "cell_type": "markdown",
      "metadata": {
        "id": "z-RzYKR0C6Wg",
        "colab_type": "text"
      },
      "source": [
        "# Clustering"
      ]
    },
    {
      "cell_type": "code",
      "metadata": {
        "id": "bP7X0-TLRyFs",
        "colab_type": "code",
        "colab": {}
      },
      "source": [
        "#Eigenvalues and eigenvectors can be used to decompose any square matrix by diagonalizing it."
      ],
      "execution_count": null,
      "outputs": []
    },
    {
      "cell_type": "markdown",
      "metadata": {
        "id": "62efk4plJe54",
        "colab_type": "text"
      },
      "source": [
        "## 4.1 Use K-Means to cluster the following data and then graph your results. \n",
        "\n",
        "We have included some code to get you started so that you don't get stuck on something that isn't standardizing clustering.\n",
        "\n",
        "Prioritize calculating the clusters over graphing them. \n",
        "\n",
        "Scikit-Learn K-Means Documentation:\n",
        "\n",
        "<https://scikit-learn.org/stable/modules/generated/sklearn.cluster.KMeans.html>"
      ]
    },
    {
      "cell_type": "code",
      "metadata": {
        "id": "miK5Aeg-JlzJ",
        "colab_type": "code",
        "colab": {
          "base_uri": "https://localhost:8080/",
          "height": 204
        },
        "outputId": "2bb8b7c3-c4e3-4301-921c-da3071863cbb"
      },
      "source": [
        "points = pd.read_csv('https://raw.githubusercontent.com/ryanleeallred/datasets/master/points.csv')\n",
        "points.head()"
      ],
      "execution_count": 209,
      "outputs": [
        {
          "output_type": "execute_result",
          "data": {
            "text/html": [
              "<div>\n",
              "<style scoped>\n",
              "    .dataframe tbody tr th:only-of-type {\n",
              "        vertical-align: middle;\n",
              "    }\n",
              "\n",
              "    .dataframe tbody tr th {\n",
              "        vertical-align: top;\n",
              "    }\n",
              "\n",
              "    .dataframe thead th {\n",
              "        text-align: right;\n",
              "    }\n",
              "</style>\n",
              "<table border=\"1\" class=\"dataframe\">\n",
              "  <thead>\n",
              "    <tr style=\"text-align: right;\">\n",
              "      <th></th>\n",
              "      <th>x</th>\n",
              "      <th>y</th>\n",
              "    </tr>\n",
              "  </thead>\n",
              "  <tbody>\n",
              "    <tr>\n",
              "      <th>0</th>\n",
              "      <td>-7.846803</td>\n",
              "      <td>-3.421277</td>\n",
              "    </tr>\n",
              "    <tr>\n",
              "      <th>1</th>\n",
              "      <td>-3.554323</td>\n",
              "      <td>-6.884729</td>\n",
              "    </tr>\n",
              "    <tr>\n",
              "      <th>2</th>\n",
              "      <td>-0.192822</td>\n",
              "      <td>-9.671030</td>\n",
              "    </tr>\n",
              "    <tr>\n",
              "      <th>3</th>\n",
              "      <td>-6.401456</td>\n",
              "      <td>-5.223972</td>\n",
              "    </tr>\n",
              "    <tr>\n",
              "      <th>4</th>\n",
              "      <td>-0.804026</td>\n",
              "      <td>-9.704457</td>\n",
              "    </tr>\n",
              "  </tbody>\n",
              "</table>\n",
              "</div>"
            ],
            "text/plain": [
              "          x         y\n",
              "0 -7.846803 -3.421277\n",
              "1 -3.554323 -6.884729\n",
              "2 -0.192822 -9.671030\n",
              "3 -6.401456 -5.223972\n",
              "4 -0.804026 -9.704457"
            ]
          },
          "metadata": {
            "tags": []
          },
          "execution_count": 209
        }
      ]
    },
    {
      "cell_type": "code",
      "metadata": {
        "id": "qX0zKKznTzcI",
        "colab_type": "code",
        "colab": {
          "base_uri": "https://localhost:8080/",
          "height": 71
        },
        "outputId": "8284bedf-1a8c-4a8c-d63c-344ed7cad290"
      },
      "source": [
        "from sklearn.datasets.samples_generator import make_blobs"
      ],
      "execution_count": 210,
      "outputs": [
        {
          "output_type": "stream",
          "text": [
            "/usr/local/lib/python3.6/dist-packages/sklearn/utils/deprecation.py:144: FutureWarning: The sklearn.datasets.samples_generator module is  deprecated in version 0.22 and will be removed in version 0.24. The corresponding classes / functions should instead be imported from sklearn.datasets. Anything that cannot be imported from sklearn.datasets is now part of the private API.\n",
            "  warnings.warn(message, FutureWarning)\n"
          ],
          "name": "stderr"
        }
      ]
    },
    {
      "cell_type": "code",
      "metadata": {
        "id": "DmJnZBoKQljk",
        "colab_type": "code",
        "colab": {
          "base_uri": "https://localhost:8080/",
          "height": 238
        },
        "outputId": "30ec21e5-3c4f-4069-92a4-472b0fc22dfb"
      },
      "source": [
        "points, center = make_blobs(n_samples=100, centers=3, n_features=2)\n",
        "print(points[:10])\n",
        "print(center)"
      ],
      "execution_count": 211,
      "outputs": [
        {
          "output_type": "stream",
          "text": [
            "[[ 6.59308056  9.04632181]\n",
            " [-4.3343638  -8.82908643]\n",
            " [ 3.34166189 -7.16358405]\n",
            " [ 6.14104656  7.86276568]\n",
            " [-3.57931848 -8.65936178]\n",
            " [-3.67306766 -7.03716508]\n",
            " [-4.70055579 -5.56264721]\n",
            " [ 1.08970936 -6.41236073]\n",
            " [-4.89186713 -8.81041515]\n",
            " [ 0.41498492 -3.53753971]]\n",
            "[1 0 2 1 0 0 0 2 0 2 0 2 0 2 2 0 1 2 0 0 1 0 1 0 1 1 0 2 1 1 1 1 2 1 0 0 0\n",
            " 0 1 2 2 0 0 1 0 2 1 1 0 0 2 1 0 0 0 2 2 2 2 1 1 2 1 2 1 2 1 0 1 0 2 2 0 1\n",
            " 1 1 0 2 0 1 2 1 1 0 2 0 1 2 2 2 0 1 1 2 2 1 2 2 2 0]\n"
          ],
          "name": "stdout"
        }
      ]
    },
    {
      "cell_type": "code",
      "metadata": {
        "id": "n-xr3iFRQrBn",
        "colab_type": "code",
        "colab": {
          "base_uri": "https://localhost:8080/",
          "height": 204
        },
        "outputId": "d2e073e9-9ea2-46a8-e46c-6db5566f6e38"
      },
      "source": [
        "df = pd.DataFrame(dict(x=points[:,0], y=points[:,1], label=center))\n",
        "df.head()"
      ],
      "execution_count": 212,
      "outputs": [
        {
          "output_type": "execute_result",
          "data": {
            "text/html": [
              "<div>\n",
              "<style scoped>\n",
              "    .dataframe tbody tr th:only-of-type {\n",
              "        vertical-align: middle;\n",
              "    }\n",
              "\n",
              "    .dataframe tbody tr th {\n",
              "        vertical-align: top;\n",
              "    }\n",
              "\n",
              "    .dataframe thead th {\n",
              "        text-align: right;\n",
              "    }\n",
              "</style>\n",
              "<table border=\"1\" class=\"dataframe\">\n",
              "  <thead>\n",
              "    <tr style=\"text-align: right;\">\n",
              "      <th></th>\n",
              "      <th>x</th>\n",
              "      <th>y</th>\n",
              "      <th>label</th>\n",
              "    </tr>\n",
              "  </thead>\n",
              "  <tbody>\n",
              "    <tr>\n",
              "      <th>0</th>\n",
              "      <td>6.593081</td>\n",
              "      <td>9.046322</td>\n",
              "      <td>1</td>\n",
              "    </tr>\n",
              "    <tr>\n",
              "      <th>1</th>\n",
              "      <td>-4.334364</td>\n",
              "      <td>-8.829086</td>\n",
              "      <td>0</td>\n",
              "    </tr>\n",
              "    <tr>\n",
              "      <th>2</th>\n",
              "      <td>3.341662</td>\n",
              "      <td>-7.163584</td>\n",
              "      <td>2</td>\n",
              "    </tr>\n",
              "    <tr>\n",
              "      <th>3</th>\n",
              "      <td>6.141047</td>\n",
              "      <td>7.862766</td>\n",
              "      <td>1</td>\n",
              "    </tr>\n",
              "    <tr>\n",
              "      <th>4</th>\n",
              "      <td>-3.579318</td>\n",
              "      <td>-8.659362</td>\n",
              "      <td>0</td>\n",
              "    </tr>\n",
              "  </tbody>\n",
              "</table>\n",
              "</div>"
            ],
            "text/plain": [
              "          x         y  label\n",
              "0  6.593081  9.046322      1\n",
              "1 -4.334364 -8.829086      0\n",
              "2  3.341662 -7.163584      2\n",
              "3  6.141047  7.862766      1\n",
              "4 -3.579318 -8.659362      0"
            ]
          },
          "metadata": {
            "tags": []
          },
          "execution_count": 212
        }
      ]
    },
    {
      "cell_type": "code",
      "metadata": {
        "id": "r5OrW-nfQt_P",
        "colab_type": "code",
        "colab": {
          "base_uri": "https://localhost:8080/",
          "height": 265
        },
        "outputId": "a83f8932-a5fd-49fc-f332-16f818a2bf3f"
      },
      "source": [
        "plt.scatter(x=df['x'], y=df['y'], c=df['label']);"
      ],
      "execution_count": 213,
      "outputs": [
        {
          "output_type": "display_data",
          "data": {
            "image/png": "[encoded data removed]",
            "text/plain": [
              "<Figure size 432x288 with 1 Axes>"
            ]
          },
          "metadata": {
            "tags": [],
            "needs_background": "light"
          }
        }
      ]
    },
    {
      "cell_type": "code",
      "metadata": {
        "id": "Rq-kiDHUQxoe",
        "colab_type": "code",
        "colab": {
          "base_uri": "https://localhost:8080/",
          "height": 204
        },
        "outputId": "ca478af7-e694-493f-eac8-a951d1ad11a8"
      },
      "source": [
        "points = df.drop('label', axis=1)\n",
        "points.head()"
      ],
      "execution_count": 214,
      "outputs": [
        {
          "output_type": "execute_result",
          "data": {
            "text/html": [
              "<div>\n",
              "<style scoped>\n",
              "    .dataframe tbody tr th:only-of-type {\n",
              "        vertical-align: middle;\n",
              "    }\n",
              "\n",
              "    .dataframe tbody tr th {\n",
              "        vertical-align: top;\n",
              "    }\n",
              "\n",
              "    .dataframe thead th {\n",
              "        text-align: right;\n",
              "    }\n",
              "</style>\n",
              "<table border=\"1\" class=\"dataframe\">\n",
              "  <thead>\n",
              "    <tr style=\"text-align: right;\">\n",
              "      <th></th>\n",
              "      <th>x</th>\n",
              "      <th>y</th>\n",
              "    </tr>\n",
              "  </thead>\n",
              "  <tbody>\n",
              "    <tr>\n",
              "      <th>0</th>\n",
              "      <td>6.593081</td>\n",
              "      <td>9.046322</td>\n",
              "    </tr>\n",
              "    <tr>\n",
              "      <th>1</th>\n",
              "      <td>-4.334364</td>\n",
              "      <td>-8.829086</td>\n",
              "    </tr>\n",
              "    <tr>\n",
              "      <th>2</th>\n",
              "      <td>3.341662</td>\n",
              "      <td>-7.163584</td>\n",
              "    </tr>\n",
              "    <tr>\n",
              "      <th>3</th>\n",
              "      <td>6.141047</td>\n",
              "      <td>7.862766</td>\n",
              "    </tr>\n",
              "    <tr>\n",
              "      <th>4</th>\n",
              "      <td>-3.579318</td>\n",
              "      <td>-8.659362</td>\n",
              "    </tr>\n",
              "  </tbody>\n",
              "</table>\n",
              "</div>"
            ],
            "text/plain": [
              "          x         y\n",
              "0  6.593081  9.046322\n",
              "1 -4.334364 -8.829086\n",
              "2  3.341662 -7.163584\n",
              "3  6.141047  7.862766\n",
              "4 -3.579318 -8.659362"
            ]
          },
          "metadata": {
            "tags": []
          },
          "execution_count": 214
        }
      ]
    },
    {
      "cell_type": "code",
      "metadata": {
        "id": "GMDW9nVcQ1VN",
        "colab_type": "code",
        "colab": {
          "base_uri": "https://localhost:8080/",
          "height": 265
        },
        "outputId": "4f91521b-c78e-4ce7-dd2f-b4c0cf59350c"
      },
      "source": [
        "plt.scatter(points.x, points.y);"
      ],
      "execution_count": 215,
      "outputs": [
        {
          "output_type": "display_data",
          "data": {
            "image/png": "[encoded data removed]",
            "text/plain": [
              "<Figure size 432x288 with 1 Axes>"
            ]
          },
          "metadata": {
            "tags": [],
            "needs_background": "light"
          }
        }
      ]
    },
    {
      "cell_type": "code",
      "metadata": {
        "id": "SdFt_Pt0Q4xP",
        "colab_type": "code",
        "colab": {}
      },
      "source": [
        "dataset_centroid_x = points.x.mean()\n",
        "dataset_centroid_y = points.y.mean()"
      ],
      "execution_count": 216,
      "outputs": []
    },
    {
      "cell_type": "code",
      "metadata": {
        "id": "C3vbasnVRB-C",
        "colab_type": "code",
        "colab": {
          "base_uri": "https://localhost:8080/",
          "height": 34
        },
        "outputId": "492e4343-46d6-4c1e-8617-efc0aed57980"
      },
      "source": [
        "dataset_centroid_x, dataset_centroid_y"
      ],
      "execution_count": 217,
      "outputs": [
        {
          "output_type": "execute_result",
          "data": {
            "text/plain": [
              "(1.8472337709536026, -2.0209273433406856)"
            ]
          },
          "metadata": {
            "tags": []
          },
          "execution_count": 217
        }
      ]
    },
    {
      "cell_type": "code",
      "metadata": {
        "id": "bAbPMrnQRDSb",
        "colab_type": "code",
        "colab": {
          "base_uri": "https://localhost:8080/",
          "height": 265
        },
        "outputId": "ac300fe3-9cde-4347-feed-560224ef5d94"
      },
      "source": [
        "plt.scatter(points.x, points.y)\n",
        "plt.plot(dataset_centroid_x, dataset_centroid_y, \"or\");"
      ],
      "execution_count": 218,
      "outputs": [
        {
          "output_type": "display_data",
          "data": {
            "image/png": "[encoded data removed]",
            "text/plain": [
              "<Figure size 432x288 with 1 Axes>"
            ]
          },
          "metadata": {
            "tags": [],
            "needs_background": "light"
          }
        }
      ]
    },
    {
      "cell_type": "code",
      "metadata": {
        "id": "2sOnWYMBsQw1",
        "colab_type": "code",
        "colab": {}
      },
      "source": [
        "#2"
      ],
      "execution_count": null,
      "outputs": []
    },
    {
      "cell_type": "code",
      "metadata": {
        "id": "YQjWTj3HsTOT",
        "colab_type": "code",
        "colab": {
          "base_uri": "https://localhost:8080/",
          "height": 204
        },
        "outputId": "080df8d3-d20b-4fe9-b892-24113e760ac9"
      },
      "source": [
        "points = pd.read_csv('https://raw.githubusercontent.com/ryanleeallred/datasets/master/points.csv')\n",
        "points.head()"
      ],
      "execution_count": 219,
      "outputs": [
        {
          "output_type": "execute_result",
          "data": {
            "text/html": [
              "<div>\n",
              "<style scoped>\n",
              "    .dataframe tbody tr th:only-of-type {\n",
              "        vertical-align: middle;\n",
              "    }\n",
              "\n",
              "    .dataframe tbody tr th {\n",
              "        vertical-align: top;\n",
              "    }\n",
              "\n",
              "    .dataframe thead th {\n",
              "        text-align: right;\n",
              "    }\n",
              "</style>\n",
              "<table border=\"1\" class=\"dataframe\">\n",
              "  <thead>\n",
              "    <tr style=\"text-align: right;\">\n",
              "      <th></th>\n",
              "      <th>x</th>\n",
              "      <th>y</th>\n",
              "    </tr>\n",
              "  </thead>\n",
              "  <tbody>\n",
              "    <tr>\n",
              "      <th>0</th>\n",
              "      <td>-7.846803</td>\n",
              "      <td>-3.421277</td>\n",
              "    </tr>\n",
              "    <tr>\n",
              "      <th>1</th>\n",
              "      <td>-3.554323</td>\n",
              "      <td>-6.884729</td>\n",
              "    </tr>\n",
              "    <tr>\n",
              "      <th>2</th>\n",
              "      <td>-0.192822</td>\n",
              "      <td>-9.671030</td>\n",
              "    </tr>\n",
              "    <tr>\n",
              "      <th>3</th>\n",
              "      <td>-6.401456</td>\n",
              "      <td>-5.223972</td>\n",
              "    </tr>\n",
              "    <tr>\n",
              "      <th>4</th>\n",
              "      <td>-0.804026</td>\n",
              "      <td>-9.704457</td>\n",
              "    </tr>\n",
              "  </tbody>\n",
              "</table>\n",
              "</div>"
            ],
            "text/plain": [
              "          x         y\n",
              "0 -7.846803 -3.421277\n",
              "1 -3.554323 -6.884729\n",
              "2 -0.192822 -9.671030\n",
              "3 -6.401456 -5.223972\n",
              "4 -0.804026 -9.704457"
            ]
          },
          "metadata": {
            "tags": []
          },
          "execution_count": 219
        }
      ]
    },
    {
      "cell_type": "code",
      "metadata": {
        "id": "YnwKO1vwsfd4",
        "colab_type": "code",
        "colab": {
          "base_uri": "https://localhost:8080/",
          "height": 265
        },
        "outputId": "a6d947ee-533b-4d03-f500-89e5022cb853"
      },
      "source": [
        "plt.scatter(points.x, points.y);"
      ],
      "execution_count": 220,
      "outputs": [
        {
          "output_type": "display_data",
          "data": {
            "image/png": "[encoded data removed]",
            "text/plain": [
              "<Figure size 432x288 with 1 Axes>"
            ]
          },
          "metadata": {
            "tags": [],
            "needs_background": "light"
          }
        }
      ]
    },
    {
      "cell_type": "code",
      "metadata": {
        "id": "4IjdjUWXtSUW",
        "colab_type": "code",
        "colab": {}
      },
      "source": [
        "dataset_centroid_x = points.x.mean()\n",
        "dataset_centroid_y = points.y.mean()"
      ],
      "execution_count": 221,
      "outputs": []
    },
    {
      "cell_type": "code",
      "metadata": {
        "id": "FzawHSnHtXqS",
        "colab_type": "code",
        "colab": {
          "base_uri": "https://localhost:8080/",
          "height": 34
        },
        "outputId": "c1321dea-c4b1-4b96-97b7-684c75efba74"
      },
      "source": [
        "dataset_centroid_x, dataset_centroid_y"
      ],
      "execution_count": 222,
      "outputs": [
        {
          "output_type": "execute_result",
          "data": {
            "text/plain": [
              "(-2.32329816340267, -3.4228690080745237)"
            ]
          },
          "metadata": {
            "tags": []
          },
          "execution_count": 222
        }
      ]
    },
    {
      "cell_type": "code",
      "metadata": {
        "id": "5Voiueb2taTM",
        "colab_type": "code",
        "colab": {
          "base_uri": "https://localhost:8080/",
          "height": 265
        },
        "outputId": "9545c851-b701-4669-e14e-205c2b3c994f"
      },
      "source": [
        "plt.scatter(points.x, points.y)\n",
        "plt.plot(dataset_centroid_x, dataset_centroid_y, \"or\");"
      ],
      "execution_count": 223,
      "outputs": [
        {
          "output_type": "display_data",
          "data": {
            "image/png": "[encoded data removed]",
            "text/plain": [
              "<Figure size 432x288 with 1 Axes>"
            ]
          },
          "metadata": {
            "tags": [],
            "needs_background": "light"
          }
        }
      ]
    },
    {
      "cell_type": "code",
      "metadata": {
        "id": "BkhzJQGJtevX",
        "colab_type": "code",
        "colab": {
          "base_uri": "https://localhost:8080/",
          "height": 142
        },
        "outputId": "47193560-fa64-4245-adad-d35c8751dd14"
      },
      "source": [
        "centroids = points.sample(3)\n",
        "centroids=centroids.reset_index(drop=True)\n",
        "centroids"
      ],
      "execution_count": 224,
      "outputs": [
        {
          "output_type": "execute_result",
          "data": {
            "text/html": [
              "<div>\n",
              "<style scoped>\n",
              "    .dataframe tbody tr th:only-of-type {\n",
              "        vertical-align: middle;\n",
              "    }\n",
              "\n",
              "    .dataframe tbody tr th {\n",
              "        vertical-align: top;\n",
              "    }\n",
              "\n",
              "    .dataframe thead th {\n",
              "        text-align: right;\n",
              "    }\n",
              "</style>\n",
              "<table border=\"1\" class=\"dataframe\">\n",
              "  <thead>\n",
              "    <tr style=\"text-align: right;\">\n",
              "      <th></th>\n",
              "      <th>x</th>\n",
              "      <th>y</th>\n",
              "    </tr>\n",
              "  </thead>\n",
              "  <tbody>\n",
              "    <tr>\n",
              "      <th>0</th>\n",
              "      <td>-0.799163</td>\n",
              "      <td>-8.396208</td>\n",
              "    </tr>\n",
              "    <tr>\n",
              "      <th>1</th>\n",
              "      <td>-4.608230</td>\n",
              "      <td>-6.996208</td>\n",
              "    </tr>\n",
              "    <tr>\n",
              "      <th>2</th>\n",
              "      <td>-2.093325</td>\n",
              "      <td>3.991943</td>\n",
              "    </tr>\n",
              "  </tbody>\n",
              "</table>\n",
              "</div>"
            ],
            "text/plain": [
              "          x         y\n",
              "0 -0.799163 -8.396208\n",
              "1 -4.608230 -6.996208\n",
              "2 -2.093325  3.991943"
            ]
          },
          "metadata": {
            "tags": []
          },
          "execution_count": 224
        }
      ]
    },
    {
      "cell_type": "code",
      "metadata": {
        "id": "n6Jayu1rtjnS",
        "colab_type": "code",
        "colab": {
          "base_uri": "https://localhost:8080/",
          "height": 265
        },
        "outputId": "e483f8a3-e59a-4b8d-b574-ecad4d142f70"
      },
      "source": [
        "plt.scatter(points.x, points.y)\n",
        "plt.plot(centroids.iloc[0].x, centroids.iloc[0].y, \"or\")\n",
        "plt.plot(centroids.iloc[1].x, centroids.iloc[1].y, \"or\")\n",
        "plt.plot(centroids.iloc[2].x, centroids.iloc[2].y, \"or\");"
      ],
      "execution_count": 225,
      "outputs": [
        {
          "output_type": "display_data",
          "data": {
            "image/png": "[encoded data removed]",
            "text/plain": [
              "<Figure size 432x288 with 1 Axes>"
            ]
          },
          "metadata": {
            "tags": [],
            "needs_background": "light"
          }
        }
      ]
    },
    {
      "cell_type": "code",
      "metadata": {
        "id": "XWBXV964toMB",
        "colab_type": "code",
        "colab": {}
      },
      "source": [
        "import math\n",
        "import numpy as np\n",
        "from scipy.spatial import distance"
      ],
      "execution_count": 226,
      "outputs": []
    },
    {
      "cell_type": "code",
      "metadata": {
        "id": "x2BydC-DtvOy",
        "colab_type": "code",
        "colab": {}
      },
      "source": [
        "def find_nearest_centroid(df, centroids, iteration):\n",
        "    \n",
        "    # calculate the distances between each point and each centroid\n",
        "    distances = distance.cdist(df, centroids, 'euclidean')\n",
        "\n",
        "    # Get nearest centroid to each point based on distance\n",
        "    nearest_centroids = np.argmin(distances, axis=1)\n",
        "\n",
        "    se = pd.Series(nearest_centroids)\n",
        "    df['cluster_'+iteration] = se.values\n",
        "\n",
        "    return df"
      ],
      "execution_count": 227,
      "outputs": []
    },
    {
      "cell_type": "code",
      "metadata": {
        "id": "iFY_SGJzt4Wl",
        "colab_type": "code",
        "colab": {
          "base_uri": "https://localhost:8080/",
          "height": 221
        },
        "outputId": "7c849c9a-6203-4e01-b770-44e95f4dbeb3"
      },
      "source": [
        "print(points.shape)\n",
        "points.head()"
      ],
      "execution_count": 228,
      "outputs": [
        {
          "output_type": "stream",
          "text": [
            "(200, 2)\n"
          ],
          "name": "stdout"
        },
        {
          "output_type": "execute_result",
          "data": {
            "text/html": [
              "<div>\n",
              "<style scoped>\n",
              "    .dataframe tbody tr th:only-of-type {\n",
              "        vertical-align: middle;\n",
              "    }\n",
              "\n",
              "    .dataframe tbody tr th {\n",
              "        vertical-align: top;\n",
              "    }\n",
              "\n",
              "    .dataframe thead th {\n",
              "        text-align: right;\n",
              "    }\n",
              "</style>\n",
              "<table border=\"1\" class=\"dataframe\">\n",
              "  <thead>\n",
              "    <tr style=\"text-align: right;\">\n",
              "      <th></th>\n",
              "      <th>x</th>\n",
              "      <th>y</th>\n",
              "    </tr>\n",
              "  </thead>\n",
              "  <tbody>\n",
              "    <tr>\n",
              "      <th>0</th>\n",
              "      <td>-7.846803</td>\n",
              "      <td>-3.421277</td>\n",
              "    </tr>\n",
              "    <tr>\n",
              "      <th>1</th>\n",
              "      <td>-3.554323</td>\n",
              "      <td>-6.884729</td>\n",
              "    </tr>\n",
              "    <tr>\n",
              "      <th>2</th>\n",
              "      <td>-0.192822</td>\n",
              "      <td>-9.671030</td>\n",
              "    </tr>\n",
              "    <tr>\n",
              "      <th>3</th>\n",
              "      <td>-6.401456</td>\n",
              "      <td>-5.223972</td>\n",
              "    </tr>\n",
              "    <tr>\n",
              "      <th>4</th>\n",
              "      <td>-0.804026</td>\n",
              "      <td>-9.704457</td>\n",
              "    </tr>\n",
              "  </tbody>\n",
              "</table>\n",
              "</div>"
            ],
            "text/plain": [
              "          x         y\n",
              "0 -7.846803 -3.421277\n",
              "1 -3.554323 -6.884729\n",
              "2 -0.192822 -9.671030\n",
              "3 -6.401456 -5.223972\n",
              "4 -0.804026 -9.704457"
            ]
          },
          "metadata": {
            "tags": []
          },
          "execution_count": 228
        }
      ]
    },
    {
      "cell_type": "code",
      "metadata": {
        "id": "Xp1baPTtuCBu",
        "colab_type": "code",
        "colab": {
          "base_uri": "https://localhost:8080/",
          "height": 221
        },
        "outputId": "6efcc076-0b2e-41a0-c866-adcc0d4968b8"
      },
      "source": [
        "first_pass = find_nearest_centroid(points.select_dtypes(exclude='int64'), centroids, '1')\n",
        "print(first_pass.shape)\n",
        "first_pass.head()"
      ],
      "execution_count": 229,
      "outputs": [
        {
          "output_type": "stream",
          "text": [
            "(200, 3)\n"
          ],
          "name": "stdout"
        },
        {
          "output_type": "execute_result",
          "data": {
            "text/html": [
              "<div>\n",
              "<style scoped>\n",
              "    .dataframe tbody tr th:only-of-type {\n",
              "        vertical-align: middle;\n",
              "    }\n",
              "\n",
              "    .dataframe tbody tr th {\n",
              "        vertical-align: top;\n",
              "    }\n",
              "\n",
              "    .dataframe thead th {\n",
              "        text-align: right;\n",
              "    }\n",
              "</style>\n",
              "<table border=\"1\" class=\"dataframe\">\n",
              "  <thead>\n",
              "    <tr style=\"text-align: right;\">\n",
              "      <th></th>\n",
              "      <th>x</th>\n",
              "      <th>y</th>\n",
              "      <th>cluster_1</th>\n",
              "    </tr>\n",
              "  </thead>\n",
              "  <tbody>\n",
              "    <tr>\n",
              "      <th>0</th>\n",
              "      <td>-7.846803</td>\n",
              "      <td>-3.421277</td>\n",
              "      <td>1</td>\n",
              "    </tr>\n",
              "    <tr>\n",
              "      <th>1</th>\n",
              "      <td>-3.554323</td>\n",
              "      <td>-6.884729</td>\n",
              "      <td>1</td>\n",
              "    </tr>\n",
              "    <tr>\n",
              "      <th>2</th>\n",
              "      <td>-0.192822</td>\n",
              "      <td>-9.671030</td>\n",
              "      <td>0</td>\n",
              "    </tr>\n",
              "    <tr>\n",
              "      <th>3</th>\n",
              "      <td>-6.401456</td>\n",
              "      <td>-5.223972</td>\n",
              "      <td>1</td>\n",
              "    </tr>\n",
              "    <tr>\n",
              "      <th>4</th>\n",
              "      <td>-0.804026</td>\n",
              "      <td>-9.704457</td>\n",
              "      <td>0</td>\n",
              "    </tr>\n",
              "  </tbody>\n",
              "</table>\n",
              "</div>"
            ],
            "text/plain": [
              "          x         y  cluster_1\n",
              "0 -7.846803 -3.421277          1\n",
              "1 -3.554323 -6.884729          1\n",
              "2 -0.192822 -9.671030          0\n",
              "3 -6.401456 -5.223972          1\n",
              "4 -0.804026 -9.704457          0"
            ]
          },
          "metadata": {
            "tags": []
          },
          "execution_count": 229
        }
      ]
    },
    {
      "cell_type": "code",
      "metadata": {
        "id": "D1x5UtFRuIS4",
        "colab_type": "code",
        "colab": {
          "base_uri": "https://localhost:8080/",
          "height": 142
        },
        "outputId": "b49462d9-3aaf-4249-a367-8e87592a1311"
      },
      "source": [
        "centroids.head()"
      ],
      "execution_count": 230,
      "outputs": [
        {
          "output_type": "execute_result",
          "data": {
            "text/html": [
              "<div>\n",
              "<style scoped>\n",
              "    .dataframe tbody tr th:only-of-type {\n",
              "        vertical-align: middle;\n",
              "    }\n",
              "\n",
              "    .dataframe tbody tr th {\n",
              "        vertical-align: top;\n",
              "    }\n",
              "\n",
              "    .dataframe thead th {\n",
              "        text-align: right;\n",
              "    }\n",
              "</style>\n",
              "<table border=\"1\" class=\"dataframe\">\n",
              "  <thead>\n",
              "    <tr style=\"text-align: right;\">\n",
              "      <th></th>\n",
              "      <th>x</th>\n",
              "      <th>y</th>\n",
              "    </tr>\n",
              "  </thead>\n",
              "  <tbody>\n",
              "    <tr>\n",
              "      <th>0</th>\n",
              "      <td>-0.799163</td>\n",
              "      <td>-8.396208</td>\n",
              "    </tr>\n",
              "    <tr>\n",
              "      <th>1</th>\n",
              "      <td>-4.608230</td>\n",
              "      <td>-6.996208</td>\n",
              "    </tr>\n",
              "    <tr>\n",
              "      <th>2</th>\n",
              "      <td>-2.093325</td>\n",
              "      <td>3.991943</td>\n",
              "    </tr>\n",
              "  </tbody>\n",
              "</table>\n",
              "</div>"
            ],
            "text/plain": [
              "          x         y\n",
              "0 -0.799163 -8.396208\n",
              "1 -4.608230 -6.996208\n",
              "2 -2.093325  3.991943"
            ]
          },
          "metadata": {
            "tags": []
          },
          "execution_count": 230
        }
      ]
    },
    {
      "cell_type": "code",
      "metadata": {
        "id": "gDqwyXzTuJwT",
        "colab_type": "code",
        "colab": {
          "base_uri": "https://localhost:8080/",
          "height": 34
        },
        "outputId": "9e65f8ec-ca2f-480b-b0eb-153a717b4b2e"
      },
      "source": [
        "centroids.iloc[0]['x']"
      ],
      "execution_count": 231,
      "outputs": [
        {
          "output_type": "execute_result",
          "data": {
            "text/plain": [
              "-0.7991632225447851"
            ]
          },
          "metadata": {
            "tags": []
          },
          "execution_count": 231
        }
      ]
    },
    {
      "cell_type": "code",
      "metadata": {
        "id": "8Ywr6MqOuNvS",
        "colab_type": "code",
        "colab": {
          "base_uri": "https://localhost:8080/",
          "height": 279
        },
        "outputId": "b72e1cc3-1ec2-4c16-cbfd-72bd26fe52d8"
      },
      "source": [
        "def plot_clusters(df, column_header, centroids):\n",
        "    colors = {0:'red', 1:'blue', 2:'gold'}\n",
        "    fig, ax = plt.subplots()\n",
        "    ax.plot(centroids.loc[0, 'x'], centroids.loc[0, 'y'], \"ok\")\n",
        "    ax.plot(centroids.loc[1, 'x'], centroids.loc[1, 'y'], \"ok\")\n",
        "    ax.plot(centroids.loc[2, 'x'], centroids.loc[2, 'y'], \"ok\")\n",
        "    grouped = df.groupby(column_header)\n",
        "    for key, group in grouped:\n",
        "        group.plot(ax=ax, kind='scatter', x='x', y='y', label=key, color=colors[key])\n",
        "    plt.show()\n",
        "\n",
        "plot_clusters(first_pass, 'cluster_1', centroids)"
      ],
      "execution_count": 232,
      "outputs": [
        {
          "output_type": "display_data",
          "data": {
            "image/png": "[encoded data removed]",
            "text/plain": [
              "<Figure size 432x288 with 1 Axes>"
            ]
          },
          "metadata": {
            "tags": [],
            "needs_background": "light"
          }
        }
      ]
    },
    {
      "cell_type": "code",
      "metadata": {
        "id": "cIpX3R4guRxK",
        "colab_type": "code",
        "colab": {}
      },
      "source": [
        "def get_centroids(df, column_header):\n",
        "    new_centroids = df.groupby(column_header).mean()\n",
        "    return new_centroids"
      ],
      "execution_count": 233,
      "outputs": []
    },
    {
      "cell_type": "code",
      "metadata": {
        "id": "zrOY3-A5uYSG",
        "colab_type": "code",
        "colab": {
          "base_uri": "https://localhost:8080/",
          "height": 173
        },
        "outputId": "e7af7331-1c19-45c7-8082-dc990cb94021"
      },
      "source": [
        "centroids = get_centroids(first_pass, 'cluster_1')\n",
        "centroids"
      ],
      "execution_count": 234,
      "outputs": [
        {
          "output_type": "execute_result",
          "data": {
            "text/html": [
              "<div>\n",
              "<style scoped>\n",
              "    .dataframe tbody tr th:only-of-type {\n",
              "        vertical-align: middle;\n",
              "    }\n",
              "\n",
              "    .dataframe tbody tr th {\n",
              "        vertical-align: top;\n",
              "    }\n",
              "\n",
              "    .dataframe thead th {\n",
              "        text-align: right;\n",
              "    }\n",
              "</style>\n",
              "<table border=\"1\" class=\"dataframe\">\n",
              "  <thead>\n",
              "    <tr style=\"text-align: right;\">\n",
              "      <th></th>\n",
              "      <th>x</th>\n",
              "      <th>y</th>\n",
              "    </tr>\n",
              "    <tr>\n",
              "      <th>cluster_1</th>\n",
              "      <th></th>\n",
              "      <th></th>\n",
              "    </tr>\n",
              "  </thead>\n",
              "  <tbody>\n",
              "    <tr>\n",
              "      <th>0</th>\n",
              "      <td>-1.043893</td>\n",
              "      <td>-9.033508</td>\n",
              "    </tr>\n",
              "    <tr>\n",
              "      <th>1</th>\n",
              "      <td>-5.676553</td>\n",
              "      <td>-6.082476</td>\n",
              "    </tr>\n",
              "    <tr>\n",
              "      <th>2</th>\n",
              "      <td>1.326193</td>\n",
              "      <td>3.989006</td>\n",
              "    </tr>\n",
              "  </tbody>\n",
              "</table>\n",
              "</div>"
            ],
            "text/plain": [
              "                  x         y\n",
              "cluster_1                    \n",
              "0         -1.043893 -9.033508\n",
              "1         -5.676553 -6.082476\n",
              "2          1.326193  3.989006"
            ]
          },
          "metadata": {
            "tags": []
          },
          "execution_count": 234
        }
      ]
    },
    {
      "cell_type": "code",
      "metadata": {
        "id": "tIH1e_louqsX",
        "colab_type": "code",
        "colab": {}
      },
      "source": [
        "from sklearn.cluster import KMeans "
      ],
      "execution_count": 235,
      "outputs": []
    },
    {
      "cell_type": "code",
      "metadata": {
        "id": "aX43m4noutta",
        "colab_type": "code",
        "colab": {}
      },
      "source": [
        "kmeans = KMeans(n_clusters=3)"
      ],
      "execution_count": 236,
      "outputs": []
    },
    {
      "cell_type": "code",
      "metadata": {
        "id": "ECrwmF4yuwc4",
        "colab_type": "code",
        "colab": {
          "base_uri": "https://localhost:8080/",
          "height": 68
        },
        "outputId": "cead60c7-b531-425a-f4a3-dcebdd52db56"
      },
      "source": [
        "kmeans.fit(points)"
      ],
      "execution_count": 237,
      "outputs": [
        {
          "output_type": "execute_result",
          "data": {
            "text/plain": [
              "KMeans(algorithm='auto', copy_x=True, init='k-means++', max_iter=300,\n",
              "       n_clusters=3, n_init=10, n_jobs=None, precompute_distances='auto',\n",
              "       random_state=None, tol=0.0001, verbose=0)"
            ]
          },
          "metadata": {
            "tags": []
          },
          "execution_count": 237
        }
      ]
    },
    {
      "cell_type": "code",
      "metadata": {
        "id": "WjjHFlBUuzbM",
        "colab_type": "code",
        "colab": {
          "base_uri": "https://localhost:8080/",
          "height": 119
        },
        "outputId": "0a9b60f5-eb97-466f-c05f-eaaf7393e89e"
      },
      "source": [
        "labels = kmeans.labels_\n",
        "print(labels)"
      ],
      "execution_count": 238,
      "outputs": [
        {
          "output_type": "stream",
          "text": [
            "[0 0 0 0 0 0 0 0 1 0 0 0 0 0 0 0 0 0 0 2 0 2 2 2 0 0 0 1 0 0 0 0 0 2 0 0 0\n",
            " 0 1 0 0 2 1 1 1 0 0 0 0 0 2 0 0 1 2 0 0 1 1 0 2 0 0 1 2 1 2 1 0 1 0 0 0 0\n",
            " 2 2 0 0 1 2 1 0 0 0 1 0 1 0 0 2 1 0 2 0 0 0 0 0 0 0 0 0 0 0 0 2 0 0 0 2 0\n",
            " 2 0 0 0 0 1 1 2 1 2 0 0 0 0 0 0 2 1 0 0 0 0 0 1 1 0 2 0 0 1 0 0 2 0 1 0 1\n",
            " 0 0 0 0 0 2 0 1 0 2 0 0 0 0 1 0 2 2 0 1 0 0 0 0 1 2 0 0 0 0 0 0 0 0 0 0 0\n",
            " 0 0 2 1 0 0 0 2 0 0 1 2 2 0 0]\n"
          ],
          "name": "stdout"
        }
      ]
    },
    {
      "cell_type": "code",
      "metadata": {
        "id": "5mTg2VtV27EO",
        "colab_type": "code",
        "colab": {
          "base_uri": "https://localhost:8080/",
          "height": 34
        },
        "outputId": "54f739b7-02d0-4ac4-b09e-a69dde1485d8"
      },
      "source": [
        "points.shape"
      ],
      "execution_count": 239,
      "outputs": [
        {
          "output_type": "execute_result",
          "data": {
            "text/plain": [
              "(200, 2)"
            ]
          },
          "metadata": {
            "tags": []
          },
          "execution_count": 239
        }
      ]
    },
    {
      "cell_type": "code",
      "metadata": {
        "id": "i6hLMxl622Yo",
        "colab_type": "code",
        "colab": {}
      },
      "source": [
        "labels.shape"
      ],
      "execution_count": null,
      "outputs": []
    },
    {
      "cell_type": "code",
      "metadata": {
        "id": "FzWR6Yylu4fB",
        "colab_type": "code",
        "colab": {
          "base_uri": "https://localhost:8080/",
          "height": 204
        },
        "outputId": "97eaefb4-c8ed-4ca7-f9f3-5ace65daa1b2"
      },
      "source": [
        "new_series = pd.Series(labels)\n",
        "df['clusters'] = new_series\n",
        "df.head()"
      ],
      "execution_count": 240,
      "outputs": [
        {
          "output_type": "execute_result",
          "data": {
            "text/html": [
              "<div>\n",
              "<style scoped>\n",
              "    .dataframe tbody tr th:only-of-type {\n",
              "        vertical-align: middle;\n",
              "    }\n",
              "\n",
              "    .dataframe tbody tr th {\n",
              "        vertical-align: top;\n",
              "    }\n",
              "\n",
              "    .dataframe thead th {\n",
              "        text-align: right;\n",
              "    }\n",
              "</style>\n",
              "<table border=\"1\" class=\"dataframe\">\n",
              "  <thead>\n",
              "    <tr style=\"text-align: right;\">\n",
              "      <th></th>\n",
              "      <th>x</th>\n",
              "      <th>y</th>\n",
              "      <th>label</th>\n",
              "      <th>clusters</th>\n",
              "    </tr>\n",
              "  </thead>\n",
              "  <tbody>\n",
              "    <tr>\n",
              "      <th>0</th>\n",
              "      <td>6.593081</td>\n",
              "      <td>9.046322</td>\n",
              "      <td>1</td>\n",
              "      <td>0</td>\n",
              "    </tr>\n",
              "    <tr>\n",
              "      <th>1</th>\n",
              "      <td>-4.334364</td>\n",
              "      <td>-8.829086</td>\n",
              "      <td>0</td>\n",
              "      <td>0</td>\n",
              "    </tr>\n",
              "    <tr>\n",
              "      <th>2</th>\n",
              "      <td>3.341662</td>\n",
              "      <td>-7.163584</td>\n",
              "      <td>2</td>\n",
              "      <td>0</td>\n",
              "    </tr>\n",
              "    <tr>\n",
              "      <th>3</th>\n",
              "      <td>6.141047</td>\n",
              "      <td>7.862766</td>\n",
              "      <td>1</td>\n",
              "      <td>0</td>\n",
              "    </tr>\n",
              "    <tr>\n",
              "      <th>4</th>\n",
              "      <td>-3.579318</td>\n",
              "      <td>-8.659362</td>\n",
              "      <td>0</td>\n",
              "      <td>0</td>\n",
              "    </tr>\n",
              "  </tbody>\n",
              "</table>\n",
              "</div>"
            ],
            "text/plain": [
              "          x         y  label  clusters\n",
              "0  6.593081  9.046322      1         0\n",
              "1 -4.334364 -8.829086      0         0\n",
              "2  3.341662 -7.163584      2         0\n",
              "3  6.141047  7.862766      1         0\n",
              "4 -3.579318 -8.659362      0         0"
            ]
          },
          "metadata": {
            "tags": []
          },
          "execution_count": 240
        }
      ]
    },
    {
      "cell_type": "code",
      "metadata": {
        "id": "GJ-73rUQvq7B",
        "colab_type": "code",
        "colab": {
          "base_uri": "https://localhost:8080/",
          "height": 279
        },
        "outputId": "84d7091f-34f3-43fe-9b11-bcbb939710a4"
      },
      "source": [
        "centroids = get_centroids(df, 'clusters')\n",
        "plot_clusters(df, 'clusters', centroids)"
      ],
      "execution_count": 241,
      "outputs": [
        {
          "output_type": "display_data",
          "data": {
            "image/png": "[encoded data removed]",
            "text/plain": [
              "<Figure size 432x288 with 1 Axes>"
            ]
          },
          "metadata": {
            "tags": [],
            "needs_background": "light"
          }
        }
      ]
    },
    {
      "cell_type": "markdown",
      "metadata": {
        "id": "oxxNyhv_FGKB",
        "colab_type": "text"
      },
      "source": [
        "# Stretch Goals (AKA how to get a 3):\n",
        "\n",
        "Complete the stretch goals for each section in order to get a 3 on that section.\n",
        "\n",
        "## Parts 1 & 2 (do all of the following): \n",
        "  - Comment your code well with both markdown and inline comments where appropriate\n",
        "  - Show your work with code and possibly LaTeX \n",
        "  - Justify your answers particularly well to show advanced mastery of this section\n",
        "\n",
        "## Part 3 (do all of the following): \n",
        " - Create a Scree Plot to show the Proportion of Explained Variance of each Principal Component (more than the first two)\n",
        "    - If you want to include a the cumulative proportion of explained variance, you might be interested in this NumPy Function: [numpy.cumsum](https://docs.scipy.org/doc/numpy/reference/generated/numpy.cumsum.html)\n",
        " - Give a top-notch explanation of eigenvalues and eigenvectors. Feel free to any materials, images, code, graphs, LaTeX, etc. to spruce up your answer.\n",
        "\n",
        "## Part 4 (do all of the following):\n",
        "- Justify your choice of k, both visually (scatterplot) and mathematically (elbow plot)."
      ]
    },
    {
      "cell_type": "code",
      "metadata": {
        "id": "oV5O6iIW9-vl",
        "colab_type": "code",
        "colab": {}
      },
      "source": [
        ""
      ],
      "execution_count": null,
      "outputs": []
    }
  ]
}